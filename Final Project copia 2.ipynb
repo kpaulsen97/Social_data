{
 "cells": [
  {
   "cell_type": "markdown",
   "id": "7c94a2c8",
   "metadata": {},
   "source": [
    "# Introduction:\n",
    "\n",
    "This Notebook contains an analysis related to some enviromental problems such as global warming, emissions and energy type merged with the global mortality rate of the different types of energy.\n",
    "The analysis will be restricted to the years range 1980-2019 and it will cover the whole world."
   ]
  },
  {
   "cell_type": "markdown",
   "id": "3e27a990",
   "metadata": {},
   "source": [
    "# 1) Motivation\n",
    "> * What is your dataset?\n",
    "\n",
    "Since this is a really wide topic, for this analysis we will use 6 datesets: \n",
    "\n",
    "- World energy consumption\n",
    "- Per capita energy use\n",
    "- Environmental temperature change\n",
    "- Global mortaly rate by energy source\n",
    "- Share energy consumption by source \n",
    "- Annual CO2 emissions per country"
   ]
  },
  {
   "cell_type": "markdown",
   "id": "39cc24a8",
   "metadata": {},
   "source": [
    "> * Why did you choose these particular datasets?\n",
    "\n",
    "The goal of this analysis is to deep dive into the environmental problems with a different point of view.\n",
    "We often hear about reducing emissions, but what about proposing a specific ratio of energy type? \n",
    "All these datasets, combined together, allow us to analyze the relationships between global warming, emissions, mortality and energy type, to see the imapact level of the nuclear energy compared to the other energy types and finally to discover if there could be a suitable combination of energy types for each country and to forecast the effect of this specific combination for each country on global warming."
   ]
  },
  {
   "cell_type": "markdown",
   "id": "3d470a2d",
   "metadata": {},
   "source": [
    "> * What was your goal for the end user's experience?\n",
    "\n",
    "We would like to communicate the results of this analysis in a clear and easy way for the readers to understand it and consequently think about the environmental problem in a different light, hoping thereby to arouse their interest in this important issue for the world we live in. "
   ]
  },
  {
   "cell_type": "markdown",
   "id": "f950819f",
   "metadata": {},
   "source": [
    "# 2) Basic stats. \n",
    "Let's understand the dataset better\n",
    "> * Write about your choices in data cleaning and preprocessing\n",
    "\n",
    "As we will see below in the preprocessing step of the datasets, there are some of them with null values such as the \"Code\" variable and in those cases we will remove this attribute. \n",
    "\n",
    "A couple of these datasets contains more null values...(?)\n",
    "\n",
    "We will restict the year range to 1980-2019. \n",
    "\n",
    "In addition, we will change some attributes name to make them easier to read and use.\n",
    "\n",
    "Merging datasets..(?)"
   ]
  },
  {
   "cell_type": "code",
   "execution_count": 25,
   "id": "d2e01c1c",
   "metadata": {},
   "outputs": [],
   "source": [
    "import pandas as pd\n",
    "pd.options.mode.chained_assignment = None \n",
    "import numpy as np\n",
    "import matplotlib.pyplot as plt"
   ]
  },
  {
   "cell_type": "code",
   "execution_count": 4,
   "id": "d355cb82",
   "metadata": {},
   "outputs": [],
   "source": [
    "#loading the data\n",
    "data1 = pd.read_csv(\"/Users/mac/Documents/GitHub/Social_data/per-capita-energy-use.csv\")\n",
    "data2 = pd.read_csv(\"/Users/mac/Documents/GitHub/Social_data/Environment_Temperature_change_E_All_Data_NOFLAG.csv\", encoding='windows-1252')\n",
    "data = [['Coal', 100000], ['Oil', 36000], ['Natural gas', 4000], ['Hydro', 1400], ['Rooftop solar', 440], ['Wind', 150], ['Nuclear', 90]]\n",
    "data3 = pd.DataFrame(data, columns = ['Energy', 'mortality']) #mortality per thousand terawatt hour\n",
    "data4 = pd.read_csv(\"/Users/mac/Documents/GitHub/Social_data/share-energy-consum-by-source.csv\")\n",
    "data5 = pd.read_csv(\"/Users/mac/Documents/GitHub/Social_data/annual-co2-emissions-per-country.csv\")\n",
    "data6 = pd.read_csv(\"/Users/mac/Documents/GitHub/Social_data/population_by_country_2020.csv\")\n",
    "data7 = pd.read_csv(\"/Users/mac/Documents/GitHub/Social_data/world_country_and_usa_states_latitude_and_longitude_values.csv\")"
   ]
  },
  {
   "cell_type": "markdown",
   "id": "fff1033e",
   "metadata": {},
   "source": [
    "---\n",
    "## Data 1: Per capita energy use"
   ]
  },
  {
   "cell_type": "code",
   "execution_count": 5,
   "id": "705b93cb",
   "metadata": {},
   "outputs": [
    {
     "data": {
      "text/html": [
       "<div>\n",
       "<style scoped>\n",
       "    .dataframe tbody tr th:only-of-type {\n",
       "        vertical-align: middle;\n",
       "    }\n",
       "\n",
       "    .dataframe tbody tr th {\n",
       "        vertical-align: top;\n",
       "    }\n",
       "\n",
       "    .dataframe thead th {\n",
       "        text-align: right;\n",
       "    }\n",
       "</style>\n",
       "<table border=\"1\" class=\"dataframe\">\n",
       "  <thead>\n",
       "    <tr style=\"text-align: right;\">\n",
       "      <th></th>\n",
       "      <th>Country</th>\n",
       "      <th>Year</th>\n",
       "      <th>Energy per capita (kWh)</th>\n",
       "    </tr>\n",
       "  </thead>\n",
       "  <tbody>\n",
       "    <tr>\n",
       "      <th>0</th>\n",
       "      <td>Afghanistan</td>\n",
       "      <td>1980</td>\n",
       "      <td>583.294</td>\n",
       "    </tr>\n",
       "    <tr>\n",
       "      <th>1</th>\n",
       "      <td>Afghanistan</td>\n",
       "      <td>1981</td>\n",
       "      <td>666.378</td>\n",
       "    </tr>\n",
       "    <tr>\n",
       "      <th>2</th>\n",
       "      <td>Afghanistan</td>\n",
       "      <td>1982</td>\n",
       "      <td>725.660</td>\n",
       "    </tr>\n",
       "    <tr>\n",
       "      <th>3</th>\n",
       "      <td>Afghanistan</td>\n",
       "      <td>1983</td>\n",
       "      <td>912.140</td>\n",
       "    </tr>\n",
       "    <tr>\n",
       "      <th>4</th>\n",
       "      <td>Afghanistan</td>\n",
       "      <td>1984</td>\n",
       "      <td>941.393</td>\n",
       "    </tr>\n",
       "  </tbody>\n",
       "</table>\n",
       "</div>"
      ],
      "text/plain": [
       "       Country  Year  Energy per capita (kWh)\n",
       "0  Afghanistan  1980                  583.294\n",
       "1  Afghanistan  1981                  666.378\n",
       "2  Afghanistan  1982                  725.660\n",
       "3  Afghanistan  1983                  912.140\n",
       "4  Afghanistan  1984                  941.393"
      ]
     },
     "execution_count": 5,
     "metadata": {},
     "output_type": "execute_result"
    }
   ],
   "source": [
    "#data1.head()\n",
    "#data1.isnull().sum()\n",
    "# removing the attribute \"Code\" which contains null values\n",
    "data1.pop(\"Code\")\n",
    "# changing column names\n",
    "data1.columns=  ['Country', 'Year', 'Energy per capita (kWh)']\n",
    "data1.head()"
   ]
  },
  {
   "cell_type": "markdown",
   "id": "43e96560",
   "metadata": {},
   "source": [
    "---\n",
    "## Data 2: Environmental temperature change"
   ]
  },
  {
   "cell_type": "code",
   "execution_count": 6,
   "id": "3a53a48e",
   "metadata": {},
   "outputs": [
    {
     "data": {
      "text/html": [
       "<div>\n",
       "<style scoped>\n",
       "    .dataframe tbody tr th:only-of-type {\n",
       "        vertical-align: middle;\n",
       "    }\n",
       "\n",
       "    .dataframe tbody tr th {\n",
       "        vertical-align: top;\n",
       "    }\n",
       "\n",
       "    .dataframe thead th {\n",
       "        text-align: right;\n",
       "    }\n",
       "</style>\n",
       "<table border=\"1\" class=\"dataframe\">\n",
       "  <thead>\n",
       "    <tr style=\"text-align: right;\">\n",
       "      <th></th>\n",
       "      <th>Area Code</th>\n",
       "      <th>Area</th>\n",
       "      <th>Months Code</th>\n",
       "      <th>Months</th>\n",
       "      <th>Element Code</th>\n",
       "      <th>Element</th>\n",
       "      <th>Unit</th>\n",
       "      <th>Y1980</th>\n",
       "      <th>Y1981</th>\n",
       "      <th>Y1982</th>\n",
       "      <th>...</th>\n",
       "      <th>Y2010</th>\n",
       "      <th>Y2011</th>\n",
       "      <th>Y2012</th>\n",
       "      <th>Y2013</th>\n",
       "      <th>Y2014</th>\n",
       "      <th>Y2015</th>\n",
       "      <th>Y2016</th>\n",
       "      <th>Y2017</th>\n",
       "      <th>Y2018</th>\n",
       "      <th>Y2019</th>\n",
       "    </tr>\n",
       "  </thead>\n",
       "  <tbody>\n",
       "    <tr>\n",
       "      <th>0</th>\n",
       "      <td>2</td>\n",
       "      <td>Afghanistan</td>\n",
       "      <td>7001</td>\n",
       "      <td>January</td>\n",
       "      <td>7271</td>\n",
       "      <td>Temperature change</td>\n",
       "      <td>°C</td>\n",
       "      <td>-0.393</td>\n",
       "      <td>1.724</td>\n",
       "      <td>0.678</td>\n",
       "      <td>...</td>\n",
       "      <td>3.601</td>\n",
       "      <td>1.179</td>\n",
       "      <td>-0.583</td>\n",
       "      <td>1.233</td>\n",
       "      <td>1.755</td>\n",
       "      <td>1.943</td>\n",
       "      <td>3.416</td>\n",
       "      <td>1.201</td>\n",
       "      <td>1.996</td>\n",
       "      <td>2.951</td>\n",
       "    </tr>\n",
       "    <tr>\n",
       "      <th>1</th>\n",
       "      <td>2</td>\n",
       "      <td>Afghanistan</td>\n",
       "      <td>7001</td>\n",
       "      <td>January</td>\n",
       "      <td>6078</td>\n",
       "      <td>Standard Deviation</td>\n",
       "      <td>°C</td>\n",
       "      <td>1.950</td>\n",
       "      <td>1.950</td>\n",
       "      <td>1.950</td>\n",
       "      <td>...</td>\n",
       "      <td>1.950</td>\n",
       "      <td>1.950</td>\n",
       "      <td>1.950</td>\n",
       "      <td>1.950</td>\n",
       "      <td>1.950</td>\n",
       "      <td>1.950</td>\n",
       "      <td>1.950</td>\n",
       "      <td>1.950</td>\n",
       "      <td>1.950</td>\n",
       "      <td>1.950</td>\n",
       "    </tr>\n",
       "    <tr>\n",
       "      <th>2</th>\n",
       "      <td>2</td>\n",
       "      <td>Afghanistan</td>\n",
       "      <td>7002</td>\n",
       "      <td>February</td>\n",
       "      <td>7271</td>\n",
       "      <td>Temperature change</td>\n",
       "      <td>°C</td>\n",
       "      <td>-1.222</td>\n",
       "      <td>1.088</td>\n",
       "      <td>-2.101</td>\n",
       "      <td>...</td>\n",
       "      <td>1.212</td>\n",
       "      <td>0.321</td>\n",
       "      <td>-3.201</td>\n",
       "      <td>1.494</td>\n",
       "      <td>-3.187</td>\n",
       "      <td>2.699</td>\n",
       "      <td>2.251</td>\n",
       "      <td>-0.323</td>\n",
       "      <td>2.705</td>\n",
       "      <td>0.086</td>\n",
       "    </tr>\n",
       "    <tr>\n",
       "      <th>3</th>\n",
       "      <td>2</td>\n",
       "      <td>Afghanistan</td>\n",
       "      <td>7002</td>\n",
       "      <td>February</td>\n",
       "      <td>6078</td>\n",
       "      <td>Standard Deviation</td>\n",
       "      <td>°C</td>\n",
       "      <td>2.597</td>\n",
       "      <td>2.597</td>\n",
       "      <td>2.597</td>\n",
       "      <td>...</td>\n",
       "      <td>2.597</td>\n",
       "      <td>2.597</td>\n",
       "      <td>2.597</td>\n",
       "      <td>2.597</td>\n",
       "      <td>2.597</td>\n",
       "      <td>2.597</td>\n",
       "      <td>2.597</td>\n",
       "      <td>2.597</td>\n",
       "      <td>2.597</td>\n",
       "      <td>2.597</td>\n",
       "    </tr>\n",
       "    <tr>\n",
       "      <th>4</th>\n",
       "      <td>2</td>\n",
       "      <td>Afghanistan</td>\n",
       "      <td>7003</td>\n",
       "      <td>March</td>\n",
       "      <td>7271</td>\n",
       "      <td>Temperature change</td>\n",
       "      <td>°C</td>\n",
       "      <td>-0.628</td>\n",
       "      <td>1.166</td>\n",
       "      <td>-1.781</td>\n",
       "      <td>...</td>\n",
       "      <td>3.390</td>\n",
       "      <td>0.748</td>\n",
       "      <td>-0.527</td>\n",
       "      <td>2.246</td>\n",
       "      <td>-0.076</td>\n",
       "      <td>-0.497</td>\n",
       "      <td>2.296</td>\n",
       "      <td>0.834</td>\n",
       "      <td>4.418</td>\n",
       "      <td>0.234</td>\n",
       "    </tr>\n",
       "  </tbody>\n",
       "</table>\n",
       "<p>5 rows × 47 columns</p>\n",
       "</div>"
      ],
      "text/plain": [
       "   Area Code         Area  Months Code    Months  Element Code  \\\n",
       "0          2  Afghanistan         7001   January          7271   \n",
       "1          2  Afghanistan         7001   January          6078   \n",
       "2          2  Afghanistan         7002  February          7271   \n",
       "3          2  Afghanistan         7002  February          6078   \n",
       "4          2  Afghanistan         7003     March          7271   \n",
       "\n",
       "              Element Unit  Y1980  Y1981  Y1982  ...  Y2010  Y2011  Y2012  \\\n",
       "0  Temperature change   °C -0.393  1.724  0.678  ...  3.601  1.179 -0.583   \n",
       "1  Standard Deviation   °C  1.950  1.950  1.950  ...  1.950  1.950  1.950   \n",
       "2  Temperature change   °C -1.222  1.088 -2.101  ...  1.212  0.321 -3.201   \n",
       "3  Standard Deviation   °C  2.597  2.597  2.597  ...  2.597  2.597  2.597   \n",
       "4  Temperature change   °C -0.628  1.166 -1.781  ...  3.390  0.748 -0.527   \n",
       "\n",
       "   Y2013  Y2014  Y2015  Y2016  Y2017  Y2018  Y2019  \n",
       "0  1.233  1.755  1.943  3.416  1.201  1.996  2.951  \n",
       "1  1.950  1.950  1.950  1.950  1.950  1.950  1.950  \n",
       "2  1.494 -3.187  2.699  2.251 -0.323  2.705  0.086  \n",
       "3  2.597  2.597  2.597  2.597  2.597  2.597  2.597  \n",
       "4  2.246 -0.076 -0.497  2.296  0.834  4.418  0.234  \n",
       "\n",
       "[5 rows x 47 columns]"
      ]
     },
     "execution_count": 6,
     "metadata": {},
     "output_type": "execute_result"
    }
   ],
   "source": [
    "data2 = pd.read_csv(\"/Users/mac/Documents/GitHub/Social_data/Environment_Temperature_change_E_All_Data_NOFLAG.csv\", encoding='windows-1252')\n",
    "\n",
    "\n",
    "#data2.head()\n",
    "#data2.isnull().sum()\n",
    "\n",
    "# restriction years range 1980-2019 on the attributes\n",
    "# Remove columns as index base\n",
    "# Remove all columns between column index 7 and 26\n",
    "data2.drop(data2.iloc[: , 7:26], inplace = True, axis = 1)\n",
    "data2.head()"
   ]
  },
  {
   "cell_type": "markdown",
   "id": "36cf8d96",
   "metadata": {},
   "source": [
    "---\n",
    "## Data3: Global mortaly rate by energy source"
   ]
  },
  {
   "cell_type": "code",
   "execution_count": 7,
   "id": "4d5be3c5",
   "metadata": {},
   "outputs": [
    {
     "data": {
      "text/html": [
       "<div>\n",
       "<style scoped>\n",
       "    .dataframe tbody tr th:only-of-type {\n",
       "        vertical-align: middle;\n",
       "    }\n",
       "\n",
       "    .dataframe tbody tr th {\n",
       "        vertical-align: top;\n",
       "    }\n",
       "\n",
       "    .dataframe thead th {\n",
       "        text-align: right;\n",
       "    }\n",
       "</style>\n",
       "<table border=\"1\" class=\"dataframe\">\n",
       "  <thead>\n",
       "    <tr style=\"text-align: right;\">\n",
       "      <th></th>\n",
       "      <th>Energy</th>\n",
       "      <th>mortality</th>\n",
       "    </tr>\n",
       "  </thead>\n",
       "  <tbody>\n",
       "    <tr>\n",
       "      <th>0</th>\n",
       "      <td>Coal</td>\n",
       "      <td>100000</td>\n",
       "    </tr>\n",
       "    <tr>\n",
       "      <th>1</th>\n",
       "      <td>Oil</td>\n",
       "      <td>36000</td>\n",
       "    </tr>\n",
       "    <tr>\n",
       "      <th>2</th>\n",
       "      <td>Natural gas</td>\n",
       "      <td>4000</td>\n",
       "    </tr>\n",
       "    <tr>\n",
       "      <th>3</th>\n",
       "      <td>Hydro</td>\n",
       "      <td>1400</td>\n",
       "    </tr>\n",
       "    <tr>\n",
       "      <th>4</th>\n",
       "      <td>Rooftop solar</td>\n",
       "      <td>440</td>\n",
       "    </tr>\n",
       "  </tbody>\n",
       "</table>\n",
       "</div>"
      ],
      "text/plain": [
       "          Energy  mortality\n",
       "0           Coal     100000\n",
       "1            Oil      36000\n",
       "2    Natural gas       4000\n",
       "3          Hydro       1400\n",
       "4  Rooftop solar        440"
      ]
     },
     "execution_count": 7,
     "metadata": {},
     "output_type": "execute_result"
    }
   ],
   "source": [
    "data3.head()"
   ]
  },
  {
   "cell_type": "markdown",
   "id": "9244cff0",
   "metadata": {},
   "source": [
    "---\n",
    "## Data4: Share energy consumption by source "
   ]
  },
  {
   "cell_type": "code",
   "execution_count": 8,
   "id": "b45001cb",
   "metadata": {},
   "outputs": [
    {
     "data": {
      "text/html": [
       "<div>\n",
       "<style scoped>\n",
       "    .dataframe tbody tr th:only-of-type {\n",
       "        vertical-align: middle;\n",
       "    }\n",
       "\n",
       "    .dataframe tbody tr th {\n",
       "        vertical-align: top;\n",
       "    }\n",
       "\n",
       "    .dataframe thead th {\n",
       "        text-align: right;\n",
       "    }\n",
       "</style>\n",
       "<table border=\"1\" class=\"dataframe\">\n",
       "  <thead>\n",
       "    <tr style=\"text-align: right;\">\n",
       "      <th></th>\n",
       "      <th>Country</th>\n",
       "      <th>Year</th>\n",
       "      <th>Oil</th>\n",
       "      <th>Coal</th>\n",
       "      <th>Solar</th>\n",
       "      <th>Nuclear</th>\n",
       "      <th>Hydro</th>\n",
       "      <th>Wind</th>\n",
       "      <th>Gas</th>\n",
       "      <th>Others renewables</th>\n",
       "    </tr>\n",
       "  </thead>\n",
       "  <tbody>\n",
       "    <tr>\n",
       "      <th>15</th>\n",
       "      <td>Africa</td>\n",
       "      <td>1980</td>\n",
       "      <td>49.047</td>\n",
       "      <td>32.009</td>\n",
       "      <td>0.0</td>\n",
       "      <td>0.000</td>\n",
       "      <td>7.903</td>\n",
       "      <td>0.0</td>\n",
       "      <td>11.007</td>\n",
       "      <td>0.034</td>\n",
       "    </tr>\n",
       "    <tr>\n",
       "      <th>16</th>\n",
       "      <td>Africa</td>\n",
       "      <td>1981</td>\n",
       "      <td>46.881</td>\n",
       "      <td>33.628</td>\n",
       "      <td>0.0</td>\n",
       "      <td>0.000</td>\n",
       "      <td>7.374</td>\n",
       "      <td>0.0</td>\n",
       "      <td>12.085</td>\n",
       "      <td>0.032</td>\n",
       "    </tr>\n",
       "    <tr>\n",
       "      <th>17</th>\n",
       "      <td>Africa</td>\n",
       "      <td>1982</td>\n",
       "      <td>46.099</td>\n",
       "      <td>34.736</td>\n",
       "      <td>0.0</td>\n",
       "      <td>0.000</td>\n",
       "      <td>6.909</td>\n",
       "      <td>0.0</td>\n",
       "      <td>12.223</td>\n",
       "      <td>0.032</td>\n",
       "    </tr>\n",
       "    <tr>\n",
       "      <th>18</th>\n",
       "      <td>Africa</td>\n",
       "      <td>1983</td>\n",
       "      <td>46.413</td>\n",
       "      <td>34.407</td>\n",
       "      <td>0.0</td>\n",
       "      <td>0.000</td>\n",
       "      <td>6.063</td>\n",
       "      <td>0.0</td>\n",
       "      <td>13.086</td>\n",
       "      <td>0.031</td>\n",
       "    </tr>\n",
       "    <tr>\n",
       "      <th>19</th>\n",
       "      <td>Africa</td>\n",
       "      <td>1984</td>\n",
       "      <td>45.905</td>\n",
       "      <td>35.640</td>\n",
       "      <td>0.0</td>\n",
       "      <td>0.509</td>\n",
       "      <td>5.773</td>\n",
       "      <td>0.0</td>\n",
       "      <td>12.142</td>\n",
       "      <td>0.030</td>\n",
       "    </tr>\n",
       "  </tbody>\n",
       "</table>\n",
       "</div>"
      ],
      "text/plain": [
       "   Country  Year     Oil    Coal  Solar  Nuclear  Hydro  Wind     Gas  \\\n",
       "15  Africa  1980  49.047  32.009    0.0    0.000  7.903   0.0  11.007   \n",
       "16  Africa  1981  46.881  33.628    0.0    0.000  7.374   0.0  12.085   \n",
       "17  Africa  1982  46.099  34.736    0.0    0.000  6.909   0.0  12.223   \n",
       "18  Africa  1983  46.413  34.407    0.0    0.000  6.063   0.0  13.086   \n",
       "19  Africa  1984  45.905  35.640    0.0    0.509  5.773   0.0  12.142   \n",
       "\n",
       "    Others renewables  \n",
       "15              0.034  \n",
       "16              0.032  \n",
       "17              0.032  \n",
       "18              0.031  \n",
       "19              0.030  "
      ]
     },
     "execution_count": 8,
     "metadata": {},
     "output_type": "execute_result"
    }
   ],
   "source": [
    "#data4.head()\n",
    "#data4.isnull().sum()\n",
    "# removing the attribute \"Code\" which contains null values\n",
    "data4.pop(\"Code\")\n",
    "\n",
    "# changing column names\n",
    "data4.columns=  ['Country', 'Year', 'Oil', 'Coal', 'Solar', 'Nuclear', 'Hydro', 'Wind', 'Gas', 'Others renewables']\n",
    "\n",
    "# restriction years range 1980-2019\n",
    "data4= data4[data4.Year >= 1980]\n",
    "data4= data4[data4.Year < 2020]\n",
    "\n",
    "data4.head()"
   ]
  },
  {
   "cell_type": "code",
   "execution_count": 9,
   "id": "646cfe0e",
   "metadata": {},
   "outputs": [
    {
     "data": {
      "text/html": [
       "<div>\n",
       "<style scoped>\n",
       "    .dataframe tbody tr th:only-of-type {\n",
       "        vertical-align: middle;\n",
       "    }\n",
       "\n",
       "    .dataframe tbody tr th {\n",
       "        vertical-align: top;\n",
       "    }\n",
       "\n",
       "    .dataframe thead th {\n",
       "        text-align: right;\n",
       "    }\n",
       "</style>\n",
       "<table border=\"1\" class=\"dataframe\">\n",
       "  <thead>\n",
       "    <tr style=\"text-align: right;\">\n",
       "      <th></th>\n",
       "      <th>Year</th>\n",
       "      <th>Oil</th>\n",
       "      <th>Coal</th>\n",
       "      <th>Solar</th>\n",
       "      <th>Nuclear</th>\n",
       "      <th>Hydro</th>\n",
       "      <th>Wind</th>\n",
       "      <th>Gas</th>\n",
       "      <th>Others renewables</th>\n",
       "    </tr>\n",
       "  </thead>\n",
       "  <tbody>\n",
       "    <tr>\n",
       "      <th>4244</th>\n",
       "      <td>1980</td>\n",
       "      <td>45.830</td>\n",
       "      <td>26.869</td>\n",
       "      <td>0.0</td>\n",
       "      <td>2.547</td>\n",
       "      <td>6.196</td>\n",
       "      <td>0.0</td>\n",
       "      <td>18.341</td>\n",
       "      <td>0.177</td>\n",
       "    </tr>\n",
       "    <tr>\n",
       "      <th>4245</th>\n",
       "      <td>1981</td>\n",
       "      <td>44.387</td>\n",
       "      <td>27.373</td>\n",
       "      <td>0.0</td>\n",
       "      <td>3.023</td>\n",
       "      <td>6.359</td>\n",
       "      <td>0.0</td>\n",
       "      <td>18.631</td>\n",
       "      <td>0.191</td>\n",
       "    </tr>\n",
       "    <tr>\n",
       "      <th>4246</th>\n",
       "      <td>1982</td>\n",
       "      <td>43.230</td>\n",
       "      <td>27.847</td>\n",
       "      <td>0.0</td>\n",
       "      <td>3.300</td>\n",
       "      <td>6.514</td>\n",
       "      <td>0.0</td>\n",
       "      <td>18.841</td>\n",
       "      <td>0.222</td>\n",
       "    </tr>\n",
       "    <tr>\n",
       "      <th>4247</th>\n",
       "      <td>1983</td>\n",
       "      <td>42.247</td>\n",
       "      <td>28.249</td>\n",
       "      <td>0.0</td>\n",
       "      <td>3.680</td>\n",
       "      <td>6.684</td>\n",
       "      <td>0.0</td>\n",
       "      <td>18.840</td>\n",
       "      <td>0.242</td>\n",
       "    </tr>\n",
       "    <tr>\n",
       "      <th>4248</th>\n",
       "      <td>1984</td>\n",
       "      <td>41.254</td>\n",
       "      <td>28.123</td>\n",
       "      <td>0.0</td>\n",
       "      <td>4.261</td>\n",
       "      <td>6.594</td>\n",
       "      <td>0.0</td>\n",
       "      <td>19.444</td>\n",
       "      <td>0.258</td>\n",
       "    </tr>\n",
       "  </tbody>\n",
       "</table>\n",
       "</div>"
      ],
      "text/plain": [
       "      Year     Oil    Coal  Solar  Nuclear  Hydro  Wind     Gas  \\\n",
       "4244  1980  45.830  26.869    0.0    2.547  6.196   0.0  18.341   \n",
       "4245  1981  44.387  27.373    0.0    3.023  6.359   0.0  18.631   \n",
       "4246  1982  43.230  27.847    0.0    3.300  6.514   0.0  18.841   \n",
       "4247  1983  42.247  28.249    0.0    3.680  6.684   0.0  18.840   \n",
       "4248  1984  41.254  28.123    0.0    4.261  6.594   0.0  19.444   \n",
       "\n",
       "      Others renewables  \n",
       "4244              0.177  \n",
       "4245              0.191  \n",
       "4246              0.222  \n",
       "4247              0.242  \n",
       "4248              0.258  "
      ]
     },
     "execution_count": 9,
     "metadata": {},
     "output_type": "execute_result"
    }
   ],
   "source": [
    "# df_world\n",
    "df_world= data4[data4.Country== \"World\"]\n",
    "df_world.pop(\"Country\")\n",
    "df_world.head()"
   ]
  },
  {
   "cell_type": "markdown",
   "id": "bd276e8d",
   "metadata": {},
   "source": [
    "---\n",
    "## Data 5: Annual CO2 emissions per country"
   ]
  },
  {
   "cell_type": "code",
   "execution_count": 10,
   "id": "527229da",
   "metadata": {},
   "outputs": [
    {
     "data": {
      "text/html": [
       "<div>\n",
       "<style scoped>\n",
       "    .dataframe tbody tr th:only-of-type {\n",
       "        vertical-align: middle;\n",
       "    }\n",
       "\n",
       "    .dataframe tbody tr th {\n",
       "        vertical-align: top;\n",
       "    }\n",
       "\n",
       "    .dataframe thead th {\n",
       "        text-align: right;\n",
       "    }\n",
       "</style>\n",
       "<table border=\"1\" class=\"dataframe\">\n",
       "  <thead>\n",
       "    <tr style=\"text-align: right;\">\n",
       "      <th></th>\n",
       "      <th>Country</th>\n",
       "      <th>Year</th>\n",
       "      <th>Annual CO2 emissions</th>\n",
       "    </tr>\n",
       "  </thead>\n",
       "  <tbody>\n",
       "    <tr>\n",
       "      <th>31</th>\n",
       "      <td>Afghanistan</td>\n",
       "      <td>1980</td>\n",
       "      <td>1756302</td>\n",
       "    </tr>\n",
       "    <tr>\n",
       "      <th>32</th>\n",
       "      <td>Afghanistan</td>\n",
       "      <td>1981</td>\n",
       "      <td>1978463</td>\n",
       "    </tr>\n",
       "    <tr>\n",
       "      <th>33</th>\n",
       "      <td>Afghanistan</td>\n",
       "      <td>1982</td>\n",
       "      <td>2094581</td>\n",
       "    </tr>\n",
       "    <tr>\n",
       "      <th>34</th>\n",
       "      <td>Afghanistan</td>\n",
       "      <td>1983</td>\n",
       "      <td>2519954</td>\n",
       "    </tr>\n",
       "    <tr>\n",
       "      <th>35</th>\n",
       "      <td>Afghanistan</td>\n",
       "      <td>1984</td>\n",
       "      <td>2821540</td>\n",
       "    </tr>\n",
       "  </tbody>\n",
       "</table>\n",
       "</div>"
      ],
      "text/plain": [
       "        Country  Year  Annual CO2 emissions\n",
       "31  Afghanistan  1980               1756302\n",
       "32  Afghanistan  1981               1978463\n",
       "33  Afghanistan  1982               2094581\n",
       "34  Afghanistan  1983               2519954\n",
       "35  Afghanistan  1984               2821540"
      ]
     },
     "execution_count": 10,
     "metadata": {},
     "output_type": "execute_result"
    }
   ],
   "source": [
    "#data5.head()\n",
    "#data5.isnull().sum()\n",
    "\n",
    "# removing the attribute \"Code\" which contains null values\n",
    "data5.pop(\"Code\")\n",
    "\n",
    "# common range of years for all datasets\n",
    "# restriction years range 1980-2019\n",
    "data5= data5[data5.Year >= 1980]\n",
    "data5= data5[data5.Year < 2020]\n",
    "\n",
    "# changing column names\n",
    "data5.columns=  ['Country', 'Year', 'Annual CO2 emissions']\n",
    "\n",
    "data5.head()"
   ]
  },
  {
   "cell_type": "markdown",
   "id": "4388d40c",
   "metadata": {},
   "source": [
    "# Data6:  Population by country in 2019"
   ]
  },
  {
   "cell_type": "code",
   "execution_count": 11,
   "id": "82cbc560",
   "metadata": {},
   "outputs": [
    {
     "data": {
      "text/html": [
       "<div>\n",
       "<style scoped>\n",
       "    .dataframe tbody tr th:only-of-type {\n",
       "        vertical-align: middle;\n",
       "    }\n",
       "\n",
       "    .dataframe tbody tr th {\n",
       "        vertical-align: top;\n",
       "    }\n",
       "\n",
       "    .dataframe thead th {\n",
       "        text-align: right;\n",
       "    }\n",
       "</style>\n",
       "<table border=\"1\" class=\"dataframe\">\n",
       "  <thead>\n",
       "    <tr style=\"text-align: right;\">\n",
       "      <th></th>\n",
       "      <th>Country</th>\n",
       "      <th>Population</th>\n",
       "    </tr>\n",
       "  </thead>\n",
       "  <tbody>\n",
       "    <tr>\n",
       "      <th>0</th>\n",
       "      <td>China</td>\n",
       "      <td>1440297825</td>\n",
       "    </tr>\n",
       "    <tr>\n",
       "      <th>1</th>\n",
       "      <td>India</td>\n",
       "      <td>1382345085</td>\n",
       "    </tr>\n",
       "    <tr>\n",
       "      <th>2</th>\n",
       "      <td>United States</td>\n",
       "      <td>331341050</td>\n",
       "    </tr>\n",
       "    <tr>\n",
       "      <th>3</th>\n",
       "      <td>Indonesia</td>\n",
       "      <td>274021604</td>\n",
       "    </tr>\n",
       "    <tr>\n",
       "      <th>4</th>\n",
       "      <td>Pakistan</td>\n",
       "      <td>221612785</td>\n",
       "    </tr>\n",
       "  </tbody>\n",
       "</table>\n",
       "</div>"
      ],
      "text/plain": [
       "         Country  Population\n",
       "0          China  1440297825\n",
       "1          India  1382345085\n",
       "2  United States   331341050\n",
       "3      Indonesia   274021604\n",
       "4       Pakistan   221612785"
      ]
     },
     "execution_count": 11,
     "metadata": {},
     "output_type": "execute_result"
    }
   ],
   "source": [
    "#data6\n",
    "\n",
    "# keeping only the column we need on Population\n",
    "data6.drop(data6.iloc[: , 2:11], inplace = True, axis = 1)\n",
    "\n",
    "#changing columns names\n",
    "data6.columns=['Country', 'Population']\n",
    "data6.head()"
   ]
  },
  {
   "cell_type": "markdown",
   "id": "19a5ad66",
   "metadata": {},
   "source": [
    "# Data 7: latitude and longitude of all countries"
   ]
  },
  {
   "cell_type": "code",
   "execution_count": 12,
   "id": "36778a37",
   "metadata": {},
   "outputs": [
    {
     "data": {
      "text/html": [
       "<div>\n",
       "<style scoped>\n",
       "    .dataframe tbody tr th:only-of-type {\n",
       "        vertical-align: middle;\n",
       "    }\n",
       "\n",
       "    .dataframe tbody tr th {\n",
       "        vertical-align: top;\n",
       "    }\n",
       "\n",
       "    .dataframe thead th {\n",
       "        text-align: right;\n",
       "    }\n",
       "</style>\n",
       "<table border=\"1\" class=\"dataframe\">\n",
       "  <thead>\n",
       "    <tr style=\"text-align: right;\">\n",
       "      <th></th>\n",
       "      <th>latitude</th>\n",
       "      <th>longitude</th>\n",
       "      <th>Country</th>\n",
       "    </tr>\n",
       "  </thead>\n",
       "  <tbody>\n",
       "    <tr>\n",
       "      <th>0</th>\n",
       "      <td>42.546245</td>\n",
       "      <td>1.601554</td>\n",
       "      <td>Andorra</td>\n",
       "    </tr>\n",
       "    <tr>\n",
       "      <th>1</th>\n",
       "      <td>23.424076</td>\n",
       "      <td>53.847818</td>\n",
       "      <td>United Arab Emirates</td>\n",
       "    </tr>\n",
       "    <tr>\n",
       "      <th>2</th>\n",
       "      <td>33.939110</td>\n",
       "      <td>67.709953</td>\n",
       "      <td>Afghanistan</td>\n",
       "    </tr>\n",
       "    <tr>\n",
       "      <th>3</th>\n",
       "      <td>17.060816</td>\n",
       "      <td>-61.796428</td>\n",
       "      <td>Antigua and Barbuda</td>\n",
       "    </tr>\n",
       "    <tr>\n",
       "      <th>4</th>\n",
       "      <td>18.220554</td>\n",
       "      <td>-63.068615</td>\n",
       "      <td>Anguilla</td>\n",
       "    </tr>\n",
       "  </tbody>\n",
       "</table>\n",
       "</div>"
      ],
      "text/plain": [
       "    latitude  longitude               Country\n",
       "0  42.546245   1.601554               Andorra\n",
       "1  23.424076  53.847818  United Arab Emirates\n",
       "2  33.939110  67.709953           Afghanistan\n",
       "3  17.060816 -61.796428   Antigua and Barbuda\n",
       "4  18.220554 -63.068615              Anguilla"
      ]
     },
     "execution_count": 12,
     "metadata": {},
     "output_type": "execute_result"
    }
   ],
   "source": [
    "#data7.head()\n",
    "\n",
    "# keeping only the column we need on latitude and longitude and country\n",
    "data7.drop(data7.iloc[: , 4:7], inplace = True, axis = 1)\n",
    "\n",
    "#removing the columns we don't need\n",
    "data7.pop(\"country_code\")\n",
    "data7.pop(\"usa_state\")\n",
    "\n",
    "#changing column names\n",
    "data7.columns=['latitude', 'longitude', 'Country']\n",
    "\n",
    "data7.head()"
   ]
  },
  {
   "cell_type": "markdown",
   "id": "9c7e1a4b",
   "metadata": {},
   "source": [
    "## data145 "
   ]
  },
  {
   "cell_type": "code",
   "execution_count": 13,
   "id": "a87205ce",
   "metadata": {},
   "outputs": [
    {
     "data": {
      "text/html": [
       "<div>\n",
       "<style scoped>\n",
       "    .dataframe tbody tr th:only-of-type {\n",
       "        vertical-align: middle;\n",
       "    }\n",
       "\n",
       "    .dataframe tbody tr th {\n",
       "        vertical-align: top;\n",
       "    }\n",
       "\n",
       "    .dataframe thead th {\n",
       "        text-align: right;\n",
       "    }\n",
       "</style>\n",
       "<table border=\"1\" class=\"dataframe\">\n",
       "  <thead>\n",
       "    <tr style=\"text-align: right;\">\n",
       "      <th></th>\n",
       "      <th>Country</th>\n",
       "      <th>Year</th>\n",
       "      <th>Oil</th>\n",
       "      <th>Coal</th>\n",
       "      <th>Solar</th>\n",
       "      <th>Nuclear</th>\n",
       "      <th>Hydro</th>\n",
       "      <th>Wind</th>\n",
       "      <th>Gas</th>\n",
       "      <th>Others renewables</th>\n",
       "      <th>Energy per capita (kWh)</th>\n",
       "      <th>Annual CO2 emissions</th>\n",
       "    </tr>\n",
       "  </thead>\n",
       "  <tbody>\n",
       "    <tr>\n",
       "      <th>0</th>\n",
       "      <td>Africa</td>\n",
       "      <td>1980</td>\n",
       "      <td>49.047</td>\n",
       "      <td>32.009</td>\n",
       "      <td>0.0</td>\n",
       "      <td>0.000</td>\n",
       "      <td>7.903</td>\n",
       "      <td>0.0</td>\n",
       "      <td>11.007</td>\n",
       "      <td>0.034</td>\n",
       "      <td>3569.616</td>\n",
       "      <td>536509759</td>\n",
       "    </tr>\n",
       "    <tr>\n",
       "      <th>1</th>\n",
       "      <td>Africa</td>\n",
       "      <td>1981</td>\n",
       "      <td>46.881</td>\n",
       "      <td>33.628</td>\n",
       "      <td>0.0</td>\n",
       "      <td>0.000</td>\n",
       "      <td>7.374</td>\n",
       "      <td>0.0</td>\n",
       "      <td>12.085</td>\n",
       "      <td>0.032</td>\n",
       "      <td>3861.601</td>\n",
       "      <td>549389371</td>\n",
       "    </tr>\n",
       "    <tr>\n",
       "      <th>2</th>\n",
       "      <td>Africa</td>\n",
       "      <td>1982</td>\n",
       "      <td>46.099</td>\n",
       "      <td>34.736</td>\n",
       "      <td>0.0</td>\n",
       "      <td>0.000</td>\n",
       "      <td>6.909</td>\n",
       "      <td>0.0</td>\n",
       "      <td>12.223</td>\n",
       "      <td>0.032</td>\n",
       "      <td>4008.212</td>\n",
       "      <td>572603068</td>\n",
       "    </tr>\n",
       "    <tr>\n",
       "      <th>3</th>\n",
       "      <td>Africa</td>\n",
       "      <td>1983</td>\n",
       "      <td>46.413</td>\n",
       "      <td>34.407</td>\n",
       "      <td>0.0</td>\n",
       "      <td>0.000</td>\n",
       "      <td>6.063</td>\n",
       "      <td>0.0</td>\n",
       "      <td>13.086</td>\n",
       "      <td>0.031</td>\n",
       "      <td>4000.224</td>\n",
       "      <td>595441085</td>\n",
       "    </tr>\n",
       "    <tr>\n",
       "      <th>4</th>\n",
       "      <td>Africa</td>\n",
       "      <td>1984</td>\n",
       "      <td>45.905</td>\n",
       "      <td>35.640</td>\n",
       "      <td>0.0</td>\n",
       "      <td>0.509</td>\n",
       "      <td>5.773</td>\n",
       "      <td>0.0</td>\n",
       "      <td>12.142</td>\n",
       "      <td>0.030</td>\n",
       "      <td>4017.939</td>\n",
       "      <td>650285298</td>\n",
       "    </tr>\n",
       "  </tbody>\n",
       "</table>\n",
       "</div>"
      ],
      "text/plain": [
       "  Country  Year     Oil    Coal  Solar  Nuclear  Hydro  Wind     Gas  \\\n",
       "0  Africa  1980  49.047  32.009    0.0    0.000  7.903   0.0  11.007   \n",
       "1  Africa  1981  46.881  33.628    0.0    0.000  7.374   0.0  12.085   \n",
       "2  Africa  1982  46.099  34.736    0.0    0.000  6.909   0.0  12.223   \n",
       "3  Africa  1983  46.413  34.407    0.0    0.000  6.063   0.0  13.086   \n",
       "4  Africa  1984  45.905  35.640    0.0    0.509  5.773   0.0  12.142   \n",
       "\n",
       "   Others renewables  Energy per capita (kWh)  Annual CO2 emissions  \n",
       "0              0.034                 3569.616             536509759  \n",
       "1              0.032                 3861.601             549389371  \n",
       "2              0.032                 4008.212             572603068  \n",
       "3              0.031                 4000.224             595441085  \n",
       "4              0.030                 4017.939             650285298  "
      ]
     },
     "execution_count": 13,
     "metadata": {},
     "output_type": "execute_result"
    }
   ],
   "source": [
    "# merging data1, data4 and data5\n",
    "data14 = pd.merge(data4, data1, on=['Country','Year'])\n",
    "data145= pd.merge(data14, data5, on=['Country','Year'])\n",
    "data145.head()"
   ]
  },
  {
   "cell_type": "markdown",
   "id": "1d0982c5",
   "metadata": {},
   "source": [
    "---\n",
    "## datanew: Data145 and population in 2019 "
   ]
  },
  {
   "cell_type": "code",
   "execution_count": 14,
   "id": "ab6160db",
   "metadata": {},
   "outputs": [],
   "source": [
    "# creating data145 + population in 2019 for the model we will create\n",
    "datanew= data145[data145.Year == 2019]\n",
    "datanew= pd.merge(datanew, data6, on=['Country'])\n",
    "#datanew.head()"
   ]
  },
  {
   "cell_type": "code",
   "execution_count": 15,
   "id": "e08b968f",
   "metadata": {},
   "outputs": [],
   "source": [
    "datanew[\"Energy total (TeraWh)\"] = datanew[\"Energy per capita (kWh)\"]*datanew[\"Population\"]/(1000000000)"
   ]
  },
  {
   "cell_type": "code",
   "execution_count": 16,
   "id": "fec5c3f1",
   "metadata": {},
   "outputs": [
    {
     "name": "stderr",
     "output_type": "stream",
     "text": [
      "/var/folders/vt/s658dnz54fbf1fgjx18nklh00000gn/T/ipykernel_32658/1184624119.py:1: FutureWarning: In a future version of pandas all arguments of DataFrame.drop except for the argument 'labels' will be keyword-only.\n",
      "  datanew = datanew.drop([\"Country\",\"Year\"],1)\n"
     ]
    }
   ],
   "source": [
    "datanew = datanew.drop([\"Country\",\"Year\"],1)"
   ]
  },
  {
   "cell_type": "code",
   "execution_count": 17,
   "id": "2b54b72b",
   "metadata": {},
   "outputs": [],
   "source": [
    "datanew[\"Oil\"] = datanew[\"Oil\"]*datanew[\"Energy total (TeraWh)\"]/100"
   ]
  },
  {
   "cell_type": "code",
   "execution_count": 18,
   "id": "fe5080db",
   "metadata": {},
   "outputs": [],
   "source": [
    "datanew[\"Coal\"] = datanew[\"Coal\"]*datanew[\"Energy total (TeraWh)\"]/100\n",
    "datanew[\"Solar\"] = datanew[\"Solar\"]*datanew[\"Energy total (TeraWh)\"]/100\n",
    "datanew[\"Nuclear\"] = datanew[\"Nuclear\"]*datanew[\"Energy total (TeraWh)\"]/100\n",
    "datanew[\"Hydro\"] = datanew[\"Hydro\"]*datanew[\"Energy total (TeraWh)\"]/100\n",
    "datanew[\"Wind\"] = datanew[\"Wind\"]*datanew[\"Energy total (TeraWh)\"]/100\n",
    "datanew[\"Gas\"] = datanew[\"Gas\"]*datanew[\"Energy total (TeraWh)\"]/100\n",
    "datanew[\"Others renewables\"] = datanew[\"Others renewables\"]*datanew[\"Energy total (TeraWh)\"]/100"
   ]
  },
  {
   "cell_type": "code",
   "execution_count": 19,
   "id": "ff792682",
   "metadata": {},
   "outputs": [
    {
     "name": "stderr",
     "output_type": "stream",
     "text": [
      "/var/folders/vt/s658dnz54fbf1fgjx18nklh00000gn/T/ipykernel_32658/2728994647.py:2: FutureWarning: In a future version of pandas all arguments of DataFrame.drop except for the argument 'labels' will be keyword-only.\n",
      "  datanew = datanew.drop([\"Energy per capita (kWh)\",\"Population\",\"Energy total (TeraWh)\"],1)\n"
     ]
    }
   ],
   "source": [
    "datanew.head()\n",
    "datanew = datanew.drop([\"Energy per capita (kWh)\",\"Population\",\"Energy total (TeraWh)\"],1)"
   ]
  },
  {
   "cell_type": "code",
   "execution_count": 20,
   "id": "fd467b0e",
   "metadata": {},
   "outputs": [
    {
     "data": {
      "text/html": [
       "<div>\n",
       "<style scoped>\n",
       "    .dataframe tbody tr th:only-of-type {\n",
       "        vertical-align: middle;\n",
       "    }\n",
       "\n",
       "    .dataframe tbody tr th {\n",
       "        vertical-align: top;\n",
       "    }\n",
       "\n",
       "    .dataframe thead th {\n",
       "        text-align: right;\n",
       "    }\n",
       "</style>\n",
       "<table border=\"1\" class=\"dataframe\">\n",
       "  <thead>\n",
       "    <tr style=\"text-align: right;\">\n",
       "      <th></th>\n",
       "      <th>Oil</th>\n",
       "      <th>Coal</th>\n",
       "      <th>Solar</th>\n",
       "      <th>Nuclear</th>\n",
       "      <th>Hydro</th>\n",
       "      <th>Wind</th>\n",
       "      <th>Gas</th>\n",
       "      <th>Others renewables</th>\n",
       "      <th>Annual CO2 emissions</th>\n",
       "    </tr>\n",
       "  </thead>\n",
       "  <tbody>\n",
       "    <tr>\n",
       "      <th>0</th>\n",
       "      <td>246.710545</td>\n",
       "      <td>5.859011</td>\n",
       "      <td>1.533996</td>\n",
       "      <td>0.000000</td>\n",
       "      <td>0.376397</td>\n",
       "      <td>0.028407</td>\n",
       "      <td>455.674852</td>\n",
       "      <td>0.000000</td>\n",
       "      <td>166641950</td>\n",
       "    </tr>\n",
       "    <tr>\n",
       "      <th>1</th>\n",
       "      <td>325.019259</td>\n",
       "      <td>6.265340</td>\n",
       "      <td>1.955546</td>\n",
       "      <td>20.628157</td>\n",
       "      <td>90.581628</td>\n",
       "      <td>12.207920</td>\n",
       "      <td>468.694897</td>\n",
       "      <td>5.857144</td>\n",
       "      <td>167565587</td>\n",
       "    </tr>\n",
       "    <tr>\n",
       "      <th>2</th>\n",
       "      <td>553.279009</td>\n",
       "      <td>460.414859</td>\n",
       "      <td>41.326284</td>\n",
       "      <td>0.000000</td>\n",
       "      <td>32.902144</td>\n",
       "      <td>44.934266</td>\n",
       "      <td>499.556494</td>\n",
       "      <td>8.225536</td>\n",
       "      <td>414516833</td>\n",
       "    </tr>\n",
       "    <tr>\n",
       "      <th>3</th>\n",
       "      <td>153.032769</td>\n",
       "      <td>35.134220</td>\n",
       "      <td>3.362667</td>\n",
       "      <td>0.000000</td>\n",
       "      <td>101.378347</td>\n",
       "      <td>18.505139</td>\n",
       "      <td>89.460350</td>\n",
       "      <td>11.913809</td>\n",
       "      <td>67962416</td>\n",
       "    </tr>\n",
       "    <tr>\n",
       "      <th>4</th>\n",
       "      <td>59.674574</td>\n",
       "      <td>0.014560</td>\n",
       "      <td>0.109201</td>\n",
       "      <td>0.000000</td>\n",
       "      <td>3.871167</td>\n",
       "      <td>0.333062</td>\n",
       "      <td>117.798497</td>\n",
       "      <td>0.200201</td>\n",
       "      <td>38725131</td>\n",
       "    </tr>\n",
       "  </tbody>\n",
       "</table>\n",
       "</div>"
      ],
      "text/plain": [
       "          Oil        Coal      Solar    Nuclear       Hydro       Wind  \\\n",
       "0  246.710545    5.859011   1.533996   0.000000    0.376397   0.028407   \n",
       "1  325.019259    6.265340   1.955546  20.628157   90.581628  12.207920   \n",
       "2  553.279009  460.414859  41.326284   0.000000   32.902144  44.934266   \n",
       "3  153.032769   35.134220   3.362667   0.000000  101.378347  18.505139   \n",
       "4   59.674574    0.014560   0.109201   0.000000    3.871167   0.333062   \n",
       "\n",
       "          Gas  Others renewables  Annual CO2 emissions  \n",
       "0  455.674852           0.000000             166641950  \n",
       "1  468.694897           5.857144             167565587  \n",
       "2  499.556494           8.225536             414516833  \n",
       "3   89.460350          11.913809              67962416  \n",
       "4  117.798497           0.200201              38725131  "
      ]
     },
     "execution_count": 20,
     "metadata": {},
     "output_type": "execute_result"
    }
   ],
   "source": [
    "datanew.head()"
   ]
  },
  {
   "cell_type": "markdown",
   "id": "149bafc8",
   "metadata": {},
   "source": [
    "---\n",
    "## data14567 for heatmaps movies "
   ]
  },
  {
   "cell_type": "code",
   "execution_count": 21,
   "id": "37884cf0",
   "metadata": {},
   "outputs": [
    {
     "data": {
      "text/html": [
       "<div>\n",
       "<style scoped>\n",
       "    .dataframe tbody tr th:only-of-type {\n",
       "        vertical-align: middle;\n",
       "    }\n",
       "\n",
       "    .dataframe tbody tr th {\n",
       "        vertical-align: top;\n",
       "    }\n",
       "\n",
       "    .dataframe thead th {\n",
       "        text-align: right;\n",
       "    }\n",
       "</style>\n",
       "<table border=\"1\" class=\"dataframe\">\n",
       "  <thead>\n",
       "    <tr style=\"text-align: right;\">\n",
       "      <th></th>\n",
       "      <th>Country</th>\n",
       "      <th>Year</th>\n",
       "      <th>Oil</th>\n",
       "      <th>Coal</th>\n",
       "      <th>Solar</th>\n",
       "      <th>Nuclear</th>\n",
       "      <th>Hydro</th>\n",
       "      <th>Wind</th>\n",
       "      <th>Gas</th>\n",
       "      <th>Others renewables</th>\n",
       "      <th>Energy per capita (kWh)</th>\n",
       "      <th>Annual CO2 emissions</th>\n",
       "      <th>Population</th>\n",
       "      <th>latitude</th>\n",
       "      <th>longitude</th>\n",
       "    </tr>\n",
       "  </thead>\n",
       "  <tbody>\n",
       "    <tr>\n",
       "      <th>0</th>\n",
       "      <td>Algeria</td>\n",
       "      <td>1980</td>\n",
       "      <td>37.382</td>\n",
       "      <td>0.420</td>\n",
       "      <td>0.0</td>\n",
       "      <td>0.0</td>\n",
       "      <td>0.403</td>\n",
       "      <td>0.0</td>\n",
       "      <td>61.795</td>\n",
       "      <td>0.0</td>\n",
       "      <td>9213.403</td>\n",
       "      <td>66416467</td>\n",
       "      <td>43984569</td>\n",
       "      <td>28.033886</td>\n",
       "      <td>1.659626</td>\n",
       "    </tr>\n",
       "    <tr>\n",
       "      <th>1</th>\n",
       "      <td>Algeria</td>\n",
       "      <td>1981</td>\n",
       "      <td>33.155</td>\n",
       "      <td>0.243</td>\n",
       "      <td>0.0</td>\n",
       "      <td>0.0</td>\n",
       "      <td>0.473</td>\n",
       "      <td>0.0</td>\n",
       "      <td>66.129</td>\n",
       "      <td>0.0</td>\n",
       "      <td>10851.361</td>\n",
       "      <td>46341982</td>\n",
       "      <td>43984569</td>\n",
       "      <td>28.033886</td>\n",
       "      <td>1.659626</td>\n",
       "    </tr>\n",
       "    <tr>\n",
       "      <th>2</th>\n",
       "      <td>Algeria</td>\n",
       "      <td>1982</td>\n",
       "      <td>30.470</td>\n",
       "      <td>3.915</td>\n",
       "      <td>0.0</td>\n",
       "      <td>0.0</td>\n",
       "      <td>0.536</td>\n",
       "      <td>0.0</td>\n",
       "      <td>65.078</td>\n",
       "      <td>0.0</td>\n",
       "      <td>12126.704</td>\n",
       "      <td>39173029</td>\n",
       "      <td>43984569</td>\n",
       "      <td>28.033886</td>\n",
       "      <td>1.659626</td>\n",
       "    </tr>\n",
       "    <tr>\n",
       "      <th>3</th>\n",
       "      <td>Algeria</td>\n",
       "      <td>1983</td>\n",
       "      <td>31.334</td>\n",
       "      <td>3.198</td>\n",
       "      <td>0.0</td>\n",
       "      <td>0.0</td>\n",
       "      <td>0.241</td>\n",
       "      <td>0.0</td>\n",
       "      <td>65.227</td>\n",
       "      <td>0.0</td>\n",
       "      <td>12838.885</td>\n",
       "      <td>52503909</td>\n",
       "      <td>43984569</td>\n",
       "      <td>28.033886</td>\n",
       "      <td>1.659626</td>\n",
       "    </tr>\n",
       "    <tr>\n",
       "      <th>4</th>\n",
       "      <td>Algeria</td>\n",
       "      <td>1984</td>\n",
       "      <td>36.139</td>\n",
       "      <td>3.693</td>\n",
       "      <td>0.0</td>\n",
       "      <td>0.0</td>\n",
       "      <td>0.483</td>\n",
       "      <td>0.0</td>\n",
       "      <td>59.686</td>\n",
       "      <td>0.0</td>\n",
       "      <td>11951.858</td>\n",
       "      <td>70946530</td>\n",
       "      <td>43984569</td>\n",
       "      <td>28.033886</td>\n",
       "      <td>1.659626</td>\n",
       "    </tr>\n",
       "  </tbody>\n",
       "</table>\n",
       "</div>"
      ],
      "text/plain": [
       "   Country  Year     Oil   Coal  Solar  Nuclear  Hydro  Wind     Gas  \\\n",
       "0  Algeria  1980  37.382  0.420    0.0      0.0  0.403   0.0  61.795   \n",
       "1  Algeria  1981  33.155  0.243    0.0      0.0  0.473   0.0  66.129   \n",
       "2  Algeria  1982  30.470  3.915    0.0      0.0  0.536   0.0  65.078   \n",
       "3  Algeria  1983  31.334  3.198    0.0      0.0  0.241   0.0  65.227   \n",
       "4  Algeria  1984  36.139  3.693    0.0      0.0  0.483   0.0  59.686   \n",
       "\n",
       "   Others renewables  Energy per capita (kWh)  Annual CO2 emissions  \\\n",
       "0                0.0                 9213.403              66416467   \n",
       "1                0.0                10851.361              46341982   \n",
       "2                0.0                12126.704              39173029   \n",
       "3                0.0                12838.885              52503909   \n",
       "4                0.0                11951.858              70946530   \n",
       "\n",
       "   Population   latitude  longitude  \n",
       "0    43984569  28.033886   1.659626  \n",
       "1    43984569  28.033886   1.659626  \n",
       "2    43984569  28.033886   1.659626  \n",
       "3    43984569  28.033886   1.659626  \n",
       "4    43984569  28.033886   1.659626  "
      ]
     },
     "execution_count": 21,
     "metadata": {},
     "output_type": "execute_result"
    }
   ],
   "source": [
    "#creating data14567 for the heatmaps and movies\n",
    "# merging data145, data6 and data7\n",
    "data1456 = pd.merge(data145, data6, on=['Country'])\n",
    "data14567 = pd.merge(data1456, data7, on=['Country'])\n",
    "data14567.head()"
   ]
  },
  {
   "cell_type": "markdown",
   "id": "5775569b",
   "metadata": {},
   "source": [
    "---\n",
    "> * Write a short section that discusses the dataset stats, containing key points/plots from your exploratory data analysis.\n",
    "\n",
    "The exploratory data analysis phase is aimed at analyzing the data through visual techniques in order to get at first sight an idea about the data we are working with."
   ]
  },
  {
   "cell_type": "markdown",
   "id": "8ebd0c56",
   "metadata": {},
   "source": [
    "# Data2"
   ]
  },
  {
   "cell_type": "code",
   "execution_count": 22,
   "id": "9e3d092a",
   "metadata": {},
   "outputs": [
    {
     "data": {
      "text/html": [
       "<div>\n",
       "<style scoped>\n",
       "    .dataframe tbody tr th:only-of-type {\n",
       "        vertical-align: middle;\n",
       "    }\n",
       "\n",
       "    .dataframe tbody tr th {\n",
       "        vertical-align: top;\n",
       "    }\n",
       "\n",
       "    .dataframe thead th {\n",
       "        text-align: right;\n",
       "    }\n",
       "</style>\n",
       "<table border=\"1\" class=\"dataframe\">\n",
       "  <thead>\n",
       "    <tr style=\"text-align: right;\">\n",
       "      <th></th>\n",
       "      <th>Area Code</th>\n",
       "      <th>Area</th>\n",
       "      <th>Months Code</th>\n",
       "      <th>Months</th>\n",
       "      <th>Element Code</th>\n",
       "      <th>Element</th>\n",
       "      <th>Unit</th>\n",
       "      <th>Y1980</th>\n",
       "      <th>Y1981</th>\n",
       "      <th>Y1982</th>\n",
       "      <th>...</th>\n",
       "      <th>Y2010</th>\n",
       "      <th>Y2011</th>\n",
       "      <th>Y2012</th>\n",
       "      <th>Y2013</th>\n",
       "      <th>Y2014</th>\n",
       "      <th>Y2015</th>\n",
       "      <th>Y2016</th>\n",
       "      <th>Y2017</th>\n",
       "      <th>Y2018</th>\n",
       "      <th>Y2019</th>\n",
       "    </tr>\n",
       "  </thead>\n",
       "  <tbody>\n",
       "    <tr>\n",
       "      <th>0</th>\n",
       "      <td>2</td>\n",
       "      <td>Afghanistan</td>\n",
       "      <td>7001</td>\n",
       "      <td>January</td>\n",
       "      <td>7271</td>\n",
       "      <td>Temperature change</td>\n",
       "      <td>°C</td>\n",
       "      <td>-0.393</td>\n",
       "      <td>1.724</td>\n",
       "      <td>0.678</td>\n",
       "      <td>...</td>\n",
       "      <td>3.601</td>\n",
       "      <td>1.179</td>\n",
       "      <td>-0.583</td>\n",
       "      <td>1.233</td>\n",
       "      <td>1.755</td>\n",
       "      <td>1.943</td>\n",
       "      <td>3.416</td>\n",
       "      <td>1.201</td>\n",
       "      <td>1.996</td>\n",
       "      <td>2.951</td>\n",
       "    </tr>\n",
       "    <tr>\n",
       "      <th>1</th>\n",
       "      <td>2</td>\n",
       "      <td>Afghanistan</td>\n",
       "      <td>7001</td>\n",
       "      <td>January</td>\n",
       "      <td>6078</td>\n",
       "      <td>Standard Deviation</td>\n",
       "      <td>°C</td>\n",
       "      <td>1.950</td>\n",
       "      <td>1.950</td>\n",
       "      <td>1.950</td>\n",
       "      <td>...</td>\n",
       "      <td>1.950</td>\n",
       "      <td>1.950</td>\n",
       "      <td>1.950</td>\n",
       "      <td>1.950</td>\n",
       "      <td>1.950</td>\n",
       "      <td>1.950</td>\n",
       "      <td>1.950</td>\n",
       "      <td>1.950</td>\n",
       "      <td>1.950</td>\n",
       "      <td>1.950</td>\n",
       "    </tr>\n",
       "    <tr>\n",
       "      <th>2</th>\n",
       "      <td>2</td>\n",
       "      <td>Afghanistan</td>\n",
       "      <td>7002</td>\n",
       "      <td>February</td>\n",
       "      <td>7271</td>\n",
       "      <td>Temperature change</td>\n",
       "      <td>°C</td>\n",
       "      <td>-1.222</td>\n",
       "      <td>1.088</td>\n",
       "      <td>-2.101</td>\n",
       "      <td>...</td>\n",
       "      <td>1.212</td>\n",
       "      <td>0.321</td>\n",
       "      <td>-3.201</td>\n",
       "      <td>1.494</td>\n",
       "      <td>-3.187</td>\n",
       "      <td>2.699</td>\n",
       "      <td>2.251</td>\n",
       "      <td>-0.323</td>\n",
       "      <td>2.705</td>\n",
       "      <td>0.086</td>\n",
       "    </tr>\n",
       "    <tr>\n",
       "      <th>3</th>\n",
       "      <td>2</td>\n",
       "      <td>Afghanistan</td>\n",
       "      <td>7002</td>\n",
       "      <td>February</td>\n",
       "      <td>6078</td>\n",
       "      <td>Standard Deviation</td>\n",
       "      <td>°C</td>\n",
       "      <td>2.597</td>\n",
       "      <td>2.597</td>\n",
       "      <td>2.597</td>\n",
       "      <td>...</td>\n",
       "      <td>2.597</td>\n",
       "      <td>2.597</td>\n",
       "      <td>2.597</td>\n",
       "      <td>2.597</td>\n",
       "      <td>2.597</td>\n",
       "      <td>2.597</td>\n",
       "      <td>2.597</td>\n",
       "      <td>2.597</td>\n",
       "      <td>2.597</td>\n",
       "      <td>2.597</td>\n",
       "    </tr>\n",
       "    <tr>\n",
       "      <th>4</th>\n",
       "      <td>2</td>\n",
       "      <td>Afghanistan</td>\n",
       "      <td>7003</td>\n",
       "      <td>March</td>\n",
       "      <td>7271</td>\n",
       "      <td>Temperature change</td>\n",
       "      <td>°C</td>\n",
       "      <td>-0.628</td>\n",
       "      <td>1.166</td>\n",
       "      <td>-1.781</td>\n",
       "      <td>...</td>\n",
       "      <td>3.390</td>\n",
       "      <td>0.748</td>\n",
       "      <td>-0.527</td>\n",
       "      <td>2.246</td>\n",
       "      <td>-0.076</td>\n",
       "      <td>-0.497</td>\n",
       "      <td>2.296</td>\n",
       "      <td>0.834</td>\n",
       "      <td>4.418</td>\n",
       "      <td>0.234</td>\n",
       "    </tr>\n",
       "  </tbody>\n",
       "</table>\n",
       "<p>5 rows × 47 columns</p>\n",
       "</div>"
      ],
      "text/plain": [
       "   Area Code         Area  Months Code    Months  Element Code  \\\n",
       "0          2  Afghanistan         7001   January          7271   \n",
       "1          2  Afghanistan         7001   January          6078   \n",
       "2          2  Afghanistan         7002  February          7271   \n",
       "3          2  Afghanistan         7002  February          6078   \n",
       "4          2  Afghanistan         7003     March          7271   \n",
       "\n",
       "              Element Unit  Y1980  Y1981  Y1982  ...  Y2010  Y2011  Y2012  \\\n",
       "0  Temperature change   °C -0.393  1.724  0.678  ...  3.601  1.179 -0.583   \n",
       "1  Standard Deviation   °C  1.950  1.950  1.950  ...  1.950  1.950  1.950   \n",
       "2  Temperature change   °C -1.222  1.088 -2.101  ...  1.212  0.321 -3.201   \n",
       "3  Standard Deviation   °C  2.597  2.597  2.597  ...  2.597  2.597  2.597   \n",
       "4  Temperature change   °C -0.628  1.166 -1.781  ...  3.390  0.748 -0.527   \n",
       "\n",
       "   Y2013  Y2014  Y2015  Y2016  Y2017  Y2018  Y2019  \n",
       "0  1.233  1.755  1.943  3.416  1.201  1.996  2.951  \n",
       "1  1.950  1.950  1.950  1.950  1.950  1.950  1.950  \n",
       "2  1.494 -3.187  2.699  2.251 -0.323  2.705  0.086  \n",
       "3  2.597  2.597  2.597  2.597  2.597  2.597  2.597  \n",
       "4  2.246 -0.076 -0.497  2.296  0.834  4.418  0.234  \n",
       "\n",
       "[5 rows x 47 columns]"
      ]
     },
     "execution_count": 22,
     "metadata": {},
     "output_type": "execute_result"
    }
   ],
   "source": [
    "data2.head()"
   ]
  },
  {
   "cell_type": "markdown",
   "id": "a6d3862d",
   "metadata": {},
   "source": [
    "## Plot the average temperature change per year by area"
   ]
  },
  {
   "cell_type": "code",
   "execution_count": 23,
   "id": "8e986a71",
   "metadata": {},
   "outputs": [
    {
     "name": "stderr",
     "output_type": "stream",
     "text": [
      "/var/folders/vt/s658dnz54fbf1fgjx18nklh00000gn/T/ipykernel_32658/369423164.py:9: FutureWarning: In a future version of pandas all arguments of DataFrame.drop except for the argument 'labels' will be keyword-only.\n",
      "  data2_focus= data2_focus.drop([\"Area Code\", \"Months Code\", \"Element Code\", \"Element\", \"Unit\"], 1)\n"
     ]
    },
    {
     "data": {
      "text/html": [
       "<div>\n",
       "<style scoped>\n",
       "    .dataframe tbody tr th:only-of-type {\n",
       "        vertical-align: middle;\n",
       "    }\n",
       "\n",
       "    .dataframe tbody tr th {\n",
       "        vertical-align: top;\n",
       "    }\n",
       "\n",
       "    .dataframe thead th {\n",
       "        text-align: right;\n",
       "    }\n",
       "</style>\n",
       "<table border=\"1\" class=\"dataframe\">\n",
       "  <thead>\n",
       "    <tr style=\"text-align: right;\">\n",
       "      <th></th>\n",
       "      <th>Area</th>\n",
       "      <th>Months</th>\n",
       "      <th>Date</th>\n",
       "      <th>temperature change</th>\n",
       "    </tr>\n",
       "  </thead>\n",
       "  <tbody>\n",
       "    <tr>\n",
       "      <th>0</th>\n",
       "      <td>Africa</td>\n",
       "      <td>January</td>\n",
       "      <td>Y1980</td>\n",
       "      <td>0.559</td>\n",
       "    </tr>\n",
       "    <tr>\n",
       "      <th>1</th>\n",
       "      <td>Africa</td>\n",
       "      <td>February</td>\n",
       "      <td>Y1980</td>\n",
       "      <td>0.452</td>\n",
       "    </tr>\n",
       "    <tr>\n",
       "      <th>2</th>\n",
       "      <td>Africa</td>\n",
       "      <td>March</td>\n",
       "      <td>Y1980</td>\n",
       "      <td>0.393</td>\n",
       "    </tr>\n",
       "    <tr>\n",
       "      <th>3</th>\n",
       "      <td>Africa</td>\n",
       "      <td>April</td>\n",
       "      <td>Y1980</td>\n",
       "      <td>0.665</td>\n",
       "    </tr>\n",
       "    <tr>\n",
       "      <th>4</th>\n",
       "      <td>Africa</td>\n",
       "      <td>May</td>\n",
       "      <td>Y1980</td>\n",
       "      <td>0.382</td>\n",
       "    </tr>\n",
       "  </tbody>\n",
       "</table>\n",
       "</div>"
      ],
      "text/plain": [
       "     Area    Months   Date  temperature change\n",
       "0  Africa   January  Y1980               0.559\n",
       "1  Africa  February  Y1980               0.452\n",
       "2  Africa     March  Y1980               0.393\n",
       "3  Africa     April  Y1980               0.665\n",
       "4  Africa       May  Y1980               0.382"
      ]
     },
     "execution_count": 23,
     "metadata": {},
     "output_type": "execute_result"
    }
   ],
   "source": [
    "# plot the average temperature change per year by area/area code \n",
    "#focus on continents\n",
    "focus_area= [\"Africa\", \"Oceania\", \"Asia\",\"European Union\", \"Northern America\", \"South America\"]\n",
    "data2_focus= data2[data2.Area.isin(focus_area)]\n",
    "\n",
    "#keep only temperature change\n",
    "data2_focus= data2_focus[data2_focus.Element== \"Temperature change\"]\n",
    "\n",
    "data2_focus= data2_focus.drop([\"Area Code\", \"Months Code\", \"Element Code\", \"Element\", \"Unit\"], 1)\n",
    "\n",
    "#convert columns of years in rows\n",
    "data2_focus= data2_focus.melt(id_vars=[\"Area\", \"Months\"], \n",
    "        var_name=\"Date\", \n",
    "        value_name=\"temperature change\")\n",
    "data2_focus.head()"
   ]
  },
  {
   "cell_type": "code",
   "execution_count": 26,
   "id": "ffec0942",
   "metadata": {},
   "outputs": [
    {
     "data": {
      "image/png": "[encoded data removed]",
      "text/plain": [
       "<Figure size 432x288 with 1 Axes>"
      ]
     },
     "metadata": {
      "needs_background": "light"
     },
     "output_type": "display_data"
    }
   ],
   "source": [
    "# plot the average temperature change per year by area\n",
    "\n",
    "#the average number of crimes per year by category\n",
    "\n",
    "anniunici= data2_focus.Date.unique()\n",
    "import numpy as np\n",
    "\n",
    "average=[]\n",
    "\n",
    "for continent in focus_area:\n",
    "    temp1=data2_focus[data2_focus['Area']== continent]\n",
    "    \n",
    "    for anno in anniunici:\n",
    "        temp2=temp1[temp1['Date']==anno]\n",
    "    \n",
    "    media= temp2[\"temperature change\"].mean()  #mean of the list\n",
    "    average.append(media)\n",
    "    temp2=[]\n",
    "    \n",
    "    \n",
    "fig = plt.figure()\n",
    "plt.bar(focus_area,average, color= 'black')\n",
    "plt.title(\"Average temperature change per year by area from 1980-2019\")\n",
    "plt.rc('axes', titlesize=20)\n",
    "plt.xlabel(\"Areas\", fontsize= 20)\n",
    "plt.ylabel(\"Average temperature\", fontsize= 20)\n",
    "plt.xticks(rotation=45)\n",
    "plt.show()\n",
    "#fig.savefig(\"Average temperature change per year by area from 1980-2019.jpg\")   \n",
    "    "
   ]
  },
  {
   "cell_type": "markdown",
   "id": "a7a36f08",
   "metadata": {},
   "source": [
    "## Plot year-by-year average temperature change of each of the focus areas across the years 1980-2019"
   ]
  },
  {
   "cell_type": "code",
   "execution_count": 27,
   "id": "e7b548ab",
   "metadata": {},
   "outputs": [
    {
     "data": {
      "text/html": [
       "<div>\n",
       "<style scoped>\n",
       "    .dataframe tbody tr th:only-of-type {\n",
       "        vertical-align: middle;\n",
       "    }\n",
       "\n",
       "    .dataframe tbody tr th {\n",
       "        vertical-align: top;\n",
       "    }\n",
       "\n",
       "    .dataframe thead th {\n",
       "        text-align: right;\n",
       "    }\n",
       "</style>\n",
       "<table border=\"1\" class=\"dataframe\">\n",
       "  <thead>\n",
       "    <tr style=\"text-align: right;\">\n",
       "      <th></th>\n",
       "      <th>Area</th>\n",
       "      <th>Date</th>\n",
       "      <th>Average temperature change</th>\n",
       "    </tr>\n",
       "  </thead>\n",
       "  <tbody>\n",
       "    <tr>\n",
       "      <th>0</th>\n",
       "      <td>Africa</td>\n",
       "      <td>Y1980</td>\n",
       "      <td>0.357882</td>\n",
       "    </tr>\n",
       "    <tr>\n",
       "      <th>1</th>\n",
       "      <td>Africa</td>\n",
       "      <td>Y1981</td>\n",
       "      <td>0.167824</td>\n",
       "    </tr>\n",
       "    <tr>\n",
       "      <th>2</th>\n",
       "      <td>Africa</td>\n",
       "      <td>Y1982</td>\n",
       "      <td>0.156235</td>\n",
       "    </tr>\n",
       "    <tr>\n",
       "      <th>3</th>\n",
       "      <td>Africa</td>\n",
       "      <td>Y1983</td>\n",
       "      <td>0.430824</td>\n",
       "    </tr>\n",
       "    <tr>\n",
       "      <th>4</th>\n",
       "      <td>Africa</td>\n",
       "      <td>Y1984</td>\n",
       "      <td>0.312647</td>\n",
       "    </tr>\n",
       "  </tbody>\n",
       "</table>\n",
       "</div>"
      ],
      "text/plain": [
       "     Area   Date  Average temperature change\n",
       "0  Africa  Y1980                    0.357882\n",
       "1  Africa  Y1981                    0.167824\n",
       "2  Africa  Y1982                    0.156235\n",
       "3  Africa  Y1983                    0.430824\n",
       "4  Africa  Y1984                    0.312647"
      ]
     },
     "execution_count": 27,
     "metadata": {},
     "output_type": "execute_result"
    }
   ],
   "source": [
    "# bar-charts displaying the year-by-year average temperature change of each of these focus areas across the years 1980-2019\n",
    "temperature_per_y= data2_focus.groupby(['Area','Date']).mean().reset_index(drop=False)[['Area', 'Date', 'temperature change']].rename(columns={'temperature change': 'Average temperature change'})           \n",
    "temperature_per_y.head()"
   ]
  },
  {
   "cell_type": "code",
   "execution_count": 28,
   "id": "5345db65",
   "metadata": {},
   "outputs": [
    {
     "data": {
      "image/png": "[encoded data removed]",
      "text/plain": [
       "<Figure size 432x288 with 1 Axes>"
      ]
     },
     "metadata": {
      "needs_background": "light"
     },
     "output_type": "display_data"
    },
    {
     "data": {
      "image/png": "[encoded data removed]",
      "text/plain": [
       "<Figure size 432x288 with 1 Axes>"
      ]
     },
     "metadata": {
      "needs_background": "light"
     },
     "output_type": "display_data"
    },
    {
     "data": {
      "image/png": "[encoded data removed]",
      "text/plain": [
       "<Figure size 432x288 with 1 Axes>"
      ]
     },
     "metadata": {
      "needs_background": "light"
     },
     "output_type": "display_data"
    },
    {
     "data": {
      "image/png": "[encoded data removed]",
      "text/plain": [
       "<Figure size 432x288 with 1 Axes>"
      ]
     },
     "metadata": {
      "needs_background": "light"
     },
     "output_type": "display_data"
    },
    {
     "data": {
      "image/png": "[encoded data removed]",
      "text/plain": [
       "<Figure size 432x288 with 1 Axes>"
      ]
     },
     "metadata": {
      "needs_background": "light"
     },
     "output_type": "display_data"
    },
    {
     "data": {
      "image/png": "[encoded data removed]",
      "text/plain": [
       "<Figure size 432x288 with 1 Axes>"
      ]
     },
     "metadata": {
      "needs_background": "light"
     },
     "output_type": "display_data"
    }
   ],
   "source": [
    "import numpy as np\n",
    "import matplotlib.pyplot as plt\n",
    "focuscrimes = set(['WEAPON LAWS', 'PROSTITUTION', 'DRIVING UNDER THE INFLUENCE', 'ROBBERY', 'BURGLARY', 'ASSAULT', 'DRUNKENNESS', 'DRUG/NARCOTIC', 'TRESPASS', 'LARCENY/THEFT', 'VANDALISM', 'VEHICLE THEFT', 'STOLEN PROPERTY', 'DISORDERLY CONDUCT'])\n",
    "\n",
    "\n",
    "for continent in focus_area:\n",
    "\n",
    "    temp1=temperature_per_y[temperature_per_y['Area']== continent]\n",
    "    #ax.add_subplot()\n",
    "    #a= temp1['Average temperature change']\n",
    "    \n",
    "    \n",
    "    \n",
    "    \n",
    "    \n",
    "    #a.plot.bar(x='Date', y='Average temperature change', title= continent, xlabel= \"Date\", ylabel= \"Average\")\n",
    "    \n",
    "\n",
    "    fig = plt.figure()\n",
    "    plt.bar(range(1980, 2020),temp1[\"Average temperature change\"], color= 'black')\n",
    "    plt.title(continent)\n",
    "    #plt.rc('axes', titlesize=20)\n",
    "    plt.xlabel(\"Date\")\n",
    "    plt.ylabel(\"Average temperature\")\n",
    "   \n",
    "    plt.show()\n",
    "    #fig.savefig(\"Average temperature change per year by area from 1980-2019.jpg\")  \n"
   ]
  },
  {
   "cell_type": "markdown",
   "id": "3f298c8c",
   "metadata": {},
   "source": [
    "## Plot of the tempearure anomalies from 1980-2019 "
   ]
  },
  {
   "cell_type": "code",
   "execution_count": 29,
   "id": "e59ff838",
   "metadata": {},
   "outputs": [
    {
     "name": "stderr",
     "output_type": "stream",
     "text": [
      "/var/folders/vt/s658dnz54fbf1fgjx18nklh00000gn/T/ipykernel_32658/3764037084.py:3: FutureWarning: In a future version of pandas all arguments of DataFrame.drop except for the argument 'labels' will be keyword-only.\n",
      "  data2= data2.drop(\"Element\", 1)\n"
     ]
    }
   ],
   "source": [
    "# Data 2 and 5: model that determines the relationship between emissions and global warming\n",
    "data2= data2[data2.Element== \"Temperature change\"]\n",
    "data2= data2.drop(\"Element\", 1)"
   ]
  },
  {
   "cell_type": "code",
   "execution_count": 30,
   "id": "eb32bc65",
   "metadata": {},
   "outputs": [
    {
     "name": "stderr",
     "output_type": "stream",
     "text": [
      "/var/folders/vt/s658dnz54fbf1fgjx18nklh00000gn/T/ipykernel_32658/1203244787.py:2: FutureWarning: In a future version of pandas all arguments of DataFrame.drop except for the argument 'labels' will be keyword-only.\n",
      "  world= world.drop([\"Area Code\",\"Area\", \"Months Code\",\"Element Code\"], 1)\n",
      "/var/folders/vt/s658dnz54fbf1fgjx18nklh00000gn/T/ipykernel_32658/1203244787.py:4: FutureWarning: In a future version of pandas all arguments of DataFrame.drop except for the argument 'labels' will be keyword-only.\n",
      "  world= world.drop([\"Months\", \"Unit\"], 1)\n"
     ]
    }
   ],
   "source": [
    "world= data2[data2.Area== \"World\"]\n",
    "world= world.drop([\"Area Code\",\"Area\", \"Months Code\",\"Element Code\"], 1)\n",
    "world= world.iloc[:12, :]\n",
    "world= world.drop([\"Months\", \"Unit\"], 1)\n",
    "#world.head()"
   ]
  },
  {
   "cell_type": "code",
   "execution_count": 31,
   "id": "5347f39f",
   "metadata": {},
   "outputs": [
    {
     "data": {
      "text/html": [
       "<div>\n",
       "<style scoped>\n",
       "    .dataframe tbody tr th:only-of-type {\n",
       "        vertical-align: middle;\n",
       "    }\n",
       "\n",
       "    .dataframe tbody tr th {\n",
       "        vertical-align: top;\n",
       "    }\n",
       "\n",
       "    .dataframe thead th {\n",
       "        text-align: right;\n",
       "    }\n",
       "</style>\n",
       "<table border=\"1\" class=\"dataframe\">\n",
       "  <thead>\n",
       "    <tr style=\"text-align: right;\">\n",
       "      <th></th>\n",
       "      <th>Temperature Anomalies</th>\n",
       "    </tr>\n",
       "    <tr>\n",
       "      <th>Year</th>\n",
       "      <th></th>\n",
       "    </tr>\n",
       "  </thead>\n",
       "  <tbody>\n",
       "    <tr>\n",
       "      <th>Y1980</th>\n",
       "      <td>0.280083</td>\n",
       "    </tr>\n",
       "    <tr>\n",
       "      <th>Y1981</th>\n",
       "      <td>0.479500</td>\n",
       "    </tr>\n",
       "    <tr>\n",
       "      <th>Y1982</th>\n",
       "      <td>0.041083</td>\n",
       "    </tr>\n",
       "    <tr>\n",
       "      <th>Y1983</th>\n",
       "      <td>0.421000</td>\n",
       "    </tr>\n",
       "    <tr>\n",
       "      <th>Y1984</th>\n",
       "      <td>0.050333</td>\n",
       "    </tr>\n",
       "  </tbody>\n",
       "</table>\n",
       "</div>"
      ],
      "text/plain": [
       "       Temperature Anomalies\n",
       "Year                        \n",
       "Y1980               0.280083\n",
       "Y1981               0.479500\n",
       "Y1982               0.041083\n",
       "Y1983               0.421000\n",
       "Y1984               0.050333"
      ]
     },
     "execution_count": 31,
     "metadata": {},
     "output_type": "execute_result"
    }
   ],
   "source": [
    "world= world.melt(id_vars=[], var_name= \"Year\", value_name= \"Temperature Anomalies\")\n",
    "world= world.groupby(\"Year\").mean()\n",
    "world.head()"
   ]
  },
  {
   "cell_type": "code",
   "execution_count": 32,
   "id": "f6db7015",
   "metadata": {},
   "outputs": [
    {
     "data": {
      "image/png": "[encoded data removed]",
      "text/plain": [
       "<Figure size 432x288 with 1 Axes>"
      ]
     },
     "metadata": {
      "needs_background": "light"
     },
     "output_type": "display_data"
    }
   ],
   "source": [
    "#bar plot with the tempearure anomalies form 1980-2019\n",
    "import matplotlib.pyplot as plt\n",
    "import numpy as np\n",
    "fig = plt.figure()\n",
    "plt.bar(range(1980, 2020),world[\"Temperature Anomalies\"], color= 'black')\n",
    "plt.title(\"Tempearure anomalies form 1980-2019\")\n",
    "plt.rc('axes', titlesize=20)\n",
    "plt.xlabel(\"Years\", fontsize= 20)\n",
    "plt.ylabel(\"Temperature anomalies\", fontsize= 20)\n",
    "plt.show()\n",
    "#fig.savefig(\"Tempearure anomalies form 1980-2019.jpg\")"
   ]
  },
  {
   "cell_type": "markdown",
   "id": "d29614f9",
   "metadata": {},
   "source": [
    "## Comment:\n",
    "\n",
    "From the bar plot above, we can seen that the general trend of the temperature anomalies level has been growing a lot in those 40 years with some alternating higher peaks and some valleys. \n",
    "Starting from a level of 0,28 in 1980, it reached a peak in 2016 of around 1,61, which is almost 6 times higher.\n",
    "\n",
    "Global Warming is the long-term heating of Earth’s climate system and it has been observed since the pre-industrial period (between 1850 and 1900). It is due to human activities, primarily fossil fuel burning, which increases heat-trapping greenhouse gas levels in Earth’s atmosphere.\n",
    "https://climate.nasa.gov/resources/global-warming-vs-climate-change/\n",
    "\n",
    "As stated in this Unite Nations' [article](https://www.un.org/en/chronicle/article/health-effects-global-warming-developing-countries-are-most-vulnerable), in the latest 50 years the level of temperatures has increased exponentially and represents a huge warning for the sake of our planet. The World Health Organization (WHO) reports that climate change is responsible for at least 150,000 deaths per year, a number that is expected to double by 2030.\n",
    "In fact, Global Warming can result in many serious alterations both to the environment and to human health. \n",
    "For example it can cause a rise in sea level, leading to the loss of coastal land, a change in precipitation patterns, increased risks of droughts and floods, and threats to biodiversity.\n",
    "Among the various problems that it can cause to human health we can mention infectious diseases and respiratory diseases such as asthma. \n",
    "\n",
    "\n",
    "\n"
   ]
  },
  {
   "cell_type": "markdown",
   "id": "93c9fdf0",
   "metadata": {},
   "source": [
    "# Data3"
   ]
  },
  {
   "cell_type": "code",
   "execution_count": 33,
   "id": "bb8df437",
   "metadata": {},
   "outputs": [
    {
     "data": {
      "text/html": [
       "<div>\n",
       "<style scoped>\n",
       "    .dataframe tbody tr th:only-of-type {\n",
       "        vertical-align: middle;\n",
       "    }\n",
       "\n",
       "    .dataframe tbody tr th {\n",
       "        vertical-align: top;\n",
       "    }\n",
       "\n",
       "    .dataframe thead th {\n",
       "        text-align: right;\n",
       "    }\n",
       "</style>\n",
       "<table border=\"1\" class=\"dataframe\">\n",
       "  <thead>\n",
       "    <tr style=\"text-align: right;\">\n",
       "      <th></th>\n",
       "      <th>Energy</th>\n",
       "      <th>mortality</th>\n",
       "    </tr>\n",
       "  </thead>\n",
       "  <tbody>\n",
       "    <tr>\n",
       "      <th>0</th>\n",
       "      <td>Coal</td>\n",
       "      <td>100000</td>\n",
       "    </tr>\n",
       "    <tr>\n",
       "      <th>1</th>\n",
       "      <td>Oil</td>\n",
       "      <td>36000</td>\n",
       "    </tr>\n",
       "    <tr>\n",
       "      <th>2</th>\n",
       "      <td>Natural gas</td>\n",
       "      <td>4000</td>\n",
       "    </tr>\n",
       "    <tr>\n",
       "      <th>3</th>\n",
       "      <td>Hydro</td>\n",
       "      <td>1400</td>\n",
       "    </tr>\n",
       "    <tr>\n",
       "      <th>4</th>\n",
       "      <td>Rooftop solar</td>\n",
       "      <td>440</td>\n",
       "    </tr>\n",
       "    <tr>\n",
       "      <th>5</th>\n",
       "      <td>Wind</td>\n",
       "      <td>150</td>\n",
       "    </tr>\n",
       "    <tr>\n",
       "      <th>6</th>\n",
       "      <td>Nuclear</td>\n",
       "      <td>90</td>\n",
       "    </tr>\n",
       "  </tbody>\n",
       "</table>\n",
       "</div>"
      ],
      "text/plain": [
       "          Energy  mortality\n",
       "0           Coal     100000\n",
       "1            Oil      36000\n",
       "2    Natural gas       4000\n",
       "3          Hydro       1400\n",
       "4  Rooftop solar        440\n",
       "5           Wind        150\n",
       "6        Nuclear         90"
      ]
     },
     "execution_count": 33,
     "metadata": {},
     "output_type": "execute_result"
    }
   ],
   "source": [
    "data3"
   ]
  },
  {
   "cell_type": "code",
   "execution_count": 34,
   "id": "e99e5781",
   "metadata": {},
   "outputs": [
    {
     "data": {
      "image/png": "[encoded data removed]",
      "text/plain": [
       "<Figure size 432x288 with 1 Axes>"
      ]
     },
     "metadata": {
      "needs_background": "light"
     },
     "output_type": "display_data"
    }
   ],
   "source": [
    "# bar plot of the mortality rate per each type of energy \n",
    "import matplotlib.pyplot as plt\n",
    "import numpy as np\n",
    "fig = plt.figure()\n",
    "plt.bar(data3.Energy,data3.mortality, color= 'black')\n",
    "plt.title(\"Mortality rate worldwide in 2012, by energy source (in deaths per thousand terawatt hour)\")\n",
    "plt.rc('axes', titlesize=20)\n",
    "plt.xlabel(\"Energy type\", fontsize= 20)\n",
    "plt.ylabel(\"Mortality rate\", fontsize= 20)\n",
    "plt.xticks(rotation=45)\n",
    "plt.show()\n",
    "#fig.savefig(\"mortality rate by energy source.jpg\")"
   ]
  },
  {
   "cell_type": "markdown",
   "id": "0cb403be",
   "metadata": {},
   "source": [
    "### Comment: \n",
    "\n",
    "From this bar plot we can see that the mortality rates due to the coal and oil types of energy are the highest, while the nuclear energy has the lowest mortality rate.\n",
    "\n",
    "On contrary, as we all know, the nuclear energy is often associated with a feeling of fear among people, but is it a well-founded fear? If it is so safe, why are we afraid of it?\n",
    "\n",
    "Specialists claim that the nuclear accidents at Three Mile Island, Chernobyl and Fukushima frightened people not because of the number of deaths that was low, but because of how governments responded and managed them, always overreacting. In fact, the panicked and frightened management of governments has always conveyed a very negative message to people about nuclear energy. \n",
    "\n",
    "As discussed in this [article](https://www.forbes.com/sites/michaelshellenberger/2018/06/11/if-nuclear-power-is-so-safe-why-are-we-so-afraid-of-it/?sh=90774d663859), a first step towards the improvement of this situation could be the change in gpvernments' management of a possible future nuclear accident."
   ]
  },
  {
   "cell_type": "markdown",
   "id": "a3623e62",
   "metadata": {},
   "source": [
    "# Data145"
   ]
  },
  {
   "cell_type": "code",
   "execution_count": 35,
   "id": "37ecfe83",
   "metadata": {},
   "outputs": [
    {
     "data": {
      "text/html": [
       "<div>\n",
       "<style scoped>\n",
       "    .dataframe tbody tr th:only-of-type {\n",
       "        vertical-align: middle;\n",
       "    }\n",
       "\n",
       "    .dataframe tbody tr th {\n",
       "        vertical-align: top;\n",
       "    }\n",
       "\n",
       "    .dataframe thead th {\n",
       "        text-align: right;\n",
       "    }\n",
       "</style>\n",
       "<table border=\"1\" class=\"dataframe\">\n",
       "  <thead>\n",
       "    <tr style=\"text-align: right;\">\n",
       "      <th></th>\n",
       "      <th>Country</th>\n",
       "      <th>Year</th>\n",
       "      <th>Oil</th>\n",
       "      <th>Coal</th>\n",
       "      <th>Solar</th>\n",
       "      <th>Nuclear</th>\n",
       "      <th>Hydro</th>\n",
       "      <th>Wind</th>\n",
       "      <th>Gas</th>\n",
       "      <th>Others renewables</th>\n",
       "      <th>Energy per capita (kWh)</th>\n",
       "      <th>Annual CO2 emissions</th>\n",
       "    </tr>\n",
       "  </thead>\n",
       "  <tbody>\n",
       "    <tr>\n",
       "      <th>0</th>\n",
       "      <td>Africa</td>\n",
       "      <td>1980</td>\n",
       "      <td>49.047</td>\n",
       "      <td>32.009</td>\n",
       "      <td>0.0</td>\n",
       "      <td>0.000</td>\n",
       "      <td>7.903</td>\n",
       "      <td>0.0</td>\n",
       "      <td>11.007</td>\n",
       "      <td>0.034</td>\n",
       "      <td>3569.616</td>\n",
       "      <td>536509759</td>\n",
       "    </tr>\n",
       "    <tr>\n",
       "      <th>1</th>\n",
       "      <td>Africa</td>\n",
       "      <td>1981</td>\n",
       "      <td>46.881</td>\n",
       "      <td>33.628</td>\n",
       "      <td>0.0</td>\n",
       "      <td>0.000</td>\n",
       "      <td>7.374</td>\n",
       "      <td>0.0</td>\n",
       "      <td>12.085</td>\n",
       "      <td>0.032</td>\n",
       "      <td>3861.601</td>\n",
       "      <td>549389371</td>\n",
       "    </tr>\n",
       "    <tr>\n",
       "      <th>2</th>\n",
       "      <td>Africa</td>\n",
       "      <td>1982</td>\n",
       "      <td>46.099</td>\n",
       "      <td>34.736</td>\n",
       "      <td>0.0</td>\n",
       "      <td>0.000</td>\n",
       "      <td>6.909</td>\n",
       "      <td>0.0</td>\n",
       "      <td>12.223</td>\n",
       "      <td>0.032</td>\n",
       "      <td>4008.212</td>\n",
       "      <td>572603068</td>\n",
       "    </tr>\n",
       "    <tr>\n",
       "      <th>3</th>\n",
       "      <td>Africa</td>\n",
       "      <td>1983</td>\n",
       "      <td>46.413</td>\n",
       "      <td>34.407</td>\n",
       "      <td>0.0</td>\n",
       "      <td>0.000</td>\n",
       "      <td>6.063</td>\n",
       "      <td>0.0</td>\n",
       "      <td>13.086</td>\n",
       "      <td>0.031</td>\n",
       "      <td>4000.224</td>\n",
       "      <td>595441085</td>\n",
       "    </tr>\n",
       "    <tr>\n",
       "      <th>4</th>\n",
       "      <td>Africa</td>\n",
       "      <td>1984</td>\n",
       "      <td>45.905</td>\n",
       "      <td>35.640</td>\n",
       "      <td>0.0</td>\n",
       "      <td>0.509</td>\n",
       "      <td>5.773</td>\n",
       "      <td>0.0</td>\n",
       "      <td>12.142</td>\n",
       "      <td>0.030</td>\n",
       "      <td>4017.939</td>\n",
       "      <td>650285298</td>\n",
       "    </tr>\n",
       "  </tbody>\n",
       "</table>\n",
       "</div>"
      ],
      "text/plain": [
       "  Country  Year     Oil    Coal  Solar  Nuclear  Hydro  Wind     Gas  \\\n",
       "0  Africa  1980  49.047  32.009    0.0    0.000  7.903   0.0  11.007   \n",
       "1  Africa  1981  46.881  33.628    0.0    0.000  7.374   0.0  12.085   \n",
       "2  Africa  1982  46.099  34.736    0.0    0.000  6.909   0.0  12.223   \n",
       "3  Africa  1983  46.413  34.407    0.0    0.000  6.063   0.0  13.086   \n",
       "4  Africa  1984  45.905  35.640    0.0    0.509  5.773   0.0  12.142   \n",
       "\n",
       "   Others renewables  Energy per capita (kWh)  Annual CO2 emissions  \n",
       "0              0.034                 3569.616             536509759  \n",
       "1              0.032                 3861.601             549389371  \n",
       "2              0.032                 4008.212             572603068  \n",
       "3              0.031                 4000.224             595441085  \n",
       "4              0.030                 4017.939             650285298  "
      ]
     },
     "execution_count": 35,
     "metadata": {},
     "output_type": "execute_result"
    }
   ],
   "source": [
    "data145.head()"
   ]
  },
  {
   "cell_type": "code",
   "execution_count": 36,
   "id": "8ef11457",
   "metadata": {},
   "outputs": [
    {
     "data": {
      "image/png": "[encoded data removed]",
      "text/plain": [
       "<Figure size 432x288 with 1 Axes>"
      ]
     },
     "metadata": {
      "needs_background": "light"
     },
     "output_type": "display_data"
    }
   ],
   "source": [
    "# annual CO2 emissions from 1980-2019\n",
    "\n",
    "anni_unici= data145.Year.unique()\n",
    "\n",
    "tot_CO2= np.zeros(len(anni_unici))\n",
    "i= 0\n",
    "for anno in anni_unici:\n",
    "    temp1=data145[data145['Year']== anno]\n",
    "    tot_CO2[i]= temp1['Annual CO2 emissions'].sum()\n",
    "    i= i+1\n",
    "\n",
    "fig = plt.figure()\n",
    "plt.bar(anni_unici,tot_CO2, color= 'black')\n",
    "plt.title(\"Total annual CO2 emissions\")\n",
    "plt.rc('axes', titlesize=20)\n",
    "plt.xlabel(\"Years\", fontsize= 15)\n",
    "plt.ylabel(\"Total\", fontsize= 15)\n",
    "plt.show()\n",
    "#fig.savefig('Total_annual_CO2_emissions.png')"
   ]
  },
  {
   "cell_type": "markdown",
   "id": "09096a35",
   "metadata": {},
   "source": [
    "### Comment: \n",
    "\n",
    "In these 40 years, from 1980 to 2019, the total annual CO2 emissions has almost doubled. This reflectes the big changes in the society we are living in. We consume a lot and we have a really big impact on the enviroment. These CO2 levels need to be a huge warning for all of us.\n",
    "\n",
    "In many coutries, it is common to start taking care of this problem, but unfortunately this is not true in all the world."
   ]
  },
  {
   "cell_type": "code",
   "execution_count": 37,
   "id": "39c5200e",
   "metadata": {},
   "outputs": [
    {
     "data": {
      "image/png": "[encoded data removed]",
      "text/plain": [
       "<Figure size 432x288 with 1 Axes>"
      ]
     },
     "metadata": {
      "needs_background": "light"
     },
     "output_type": "display_data"
    }
   ],
   "source": [
    "# annual energy per capita \n",
    "\n",
    "energy_capita= np.zeros(len(anni_unici))\n",
    "i= 0\n",
    "for anno in anni_unici:\n",
    "    temp1=data145[data145['Year']== anno]\n",
    "    energy_capita[i]= temp1['Energy per capita (kWh)'].sum()\n",
    "    i= i+1\n",
    "\n",
    "fig = plt.figure()\n",
    "plt.bar(anni_unici,energy_capita, color= 'black')\n",
    "plt.title(\"Annual energy per capita\")\n",
    "plt.rc('axes', titlesize=20)\n",
    "plt.xlabel(\"Years\", fontsize= 15)\n",
    "plt.ylabel(\"Total\", fontsize= 15)\n",
    "plt.show()\n",
    "#fig.savefig('Annual energy per capita.png')"
   ]
  },
  {
   "cell_type": "markdown",
   "id": "3f219cd9",
   "metadata": {},
   "source": [
    "## Comment: \n",
    "As can be seen in this bar plot above, the annual energy per capita has increased in the range of years 1980-2005, but it has then slightly decreased or kept on the same level.\n",
    "This is probably due to the measures that the various countries have decided to adopt to tackle the environmental problem."
   ]
  },
  {
   "cell_type": "code",
   "execution_count": 38,
   "id": "d1ec95b9",
   "metadata": {},
   "outputs": [
    {
     "data": {
      "image/png": "[encoded data removed]",
      "text/plain": [
       "<Figure size 432x288 with 1 Axes>"
      ]
     },
     "metadata": {
      "needs_background": "light"
     },
     "output_type": "display_data"
    }
   ],
   "source": [
    "# bar plot with the means of the different types of energy\n",
    "\n",
    "mean_oil= data145['Oil'].mean()\n",
    "mean_coal= data145['Coal'].mean()\n",
    "mean_solar= data145['Solar'].mean()\n",
    "mean_nuclear= data145['Nuclear'].mean()\n",
    "mean_hydro= data145['Hydro'].mean()\n",
    "mean_wind= data145['Wind'].mean()\n",
    "mean_gas= data145['Gas'].mean()\n",
    "mean_otherren= data145['Others renewables'].mean()\n",
    "\n",
    "energy_type= ['Oil', 'Coal', 'Solar', 'Nuclear', 'Hydro', 'Wind', 'Gas', 'Others']\n",
    "means=[mean_oil, mean_coal, mean_solar, mean_nuclear, mean_hydro, mean_wind, mean_gas, mean_otherren]\n",
    "\n",
    "fig = plt.figure()\n",
    "plt.bar(energy_type,means, color= 'black')\n",
    "plt.title(\"Average of type of energy\")\n",
    "plt.rc('axes', titlesize=20)\n",
    "plt.xlabel(\"Energy type\", fontsize= 20)\n",
    "plt.ylabel(\"Average\", fontsize= 20)\n",
    "plt.xticks(rotation=45)\n",
    "plt.show()\n",
    "#fig.savefig(\"average_type_of_energy.jpg\")"
   ]
  },
  {
   "cell_type": "markdown",
   "id": "d184818e",
   "metadata": {},
   "source": [
    "## Comment: \n",
    "As can be seen from the bar plot above, on average the most used types of energy are the Oil one, followed by Gas, Coal and then Hydro. On contrary, on avergae the least used are solar, wind and other types and this can be due to the fact that not all the countries have the right atmospheric climate to use them in an efficient way.\n",
    "The nuclear is not so used also due to the fear that it creates in many countries."
   ]
  },
  {
   "cell_type": "code",
   "execution_count": 39,
   "id": "67fcd459",
   "metadata": {},
   "outputs": [
    {
     "data": {
      "image/png": "[encoded data removed]",
      "text/plain": [
       "<Figure size 432x288 with 1 Axes>"
      ]
     },
     "metadata": {
      "needs_background": "light"
     },
     "output_type": "display_data"
    },
    {
     "data": {
      "image/png": "[encoded data removed]",
      "text/plain": [
       "<Figure size 432x288 with 1 Axes>"
      ]
     },
     "metadata": {
      "needs_background": "light"
     },
     "output_type": "display_data"
    },
    {
     "data": {
      "image/png": "[encoded data removed]",
      "text/plain": [
       "<Figure size 432x288 with 1 Axes>"
      ]
     },
     "metadata": {
      "needs_background": "light"
     },
     "output_type": "display_data"
    },
    {
     "data": {
      "image/png": "[encoded data removed]",
      "text/plain": [
       "<Figure size 432x288 with 1 Axes>"
      ]
     },
     "metadata": {
      "needs_background": "light"
     },
     "output_type": "display_data"
    },
    {
     "data": {
      "image/png": "[encoded data removed]",
      "text/plain": [
       "<Figure size 432x288 with 1 Axes>"
      ]
     },
     "metadata": {
      "needs_background": "light"
     },
     "output_type": "display_data"
    },
    {
     "data": {
      "image/png": "[encoded data removed]",
      "text/plain": [
       "<Figure size 432x288 with 1 Axes>"
      ]
     },
     "metadata": {
      "needs_background": "light"
     },
     "output_type": "display_data"
    },
    {
     "data": {
      "image/png": "[encoded data removed]",
      "text/plain": [
       "<Figure size 432x288 with 1 Axes>"
      ]
     },
     "metadata": {
      "needs_background": "light"
     },
     "output_type": "display_data"
    },
    {
     "data": {
      "image/png": "[encoded data removed]",
      "text/plain": [
       "<Figure size 432x288 with 1 Axes>"
      ]
     },
     "metadata": {
      "needs_background": "light"
     },
     "output_type": "display_data"
    }
   ],
   "source": [
    "# emissions for each country \n",
    "import matplotlib.pyplot as plt\n",
    "import numpy as np\n",
    "\n",
    "#country_names= data145.Country.unique()\n",
    "country_names= [\"Africa\", \"Australia\", \"United States\", \"Sweden\", \"China\", \"Italy\", \"Denmark\", \"India\"]\n",
    "years_list= data145.Year.unique()\n",
    "\n",
    "for country in country_names:\n",
    "    temp1=data145[data145['Country']== country]\n",
    "        \n",
    "    fig=plt.figure()\n",
    "    plt.bar(temp1.Year, temp1[\"Annual CO2 emissions\"], color= 'black')\n",
    "    plt.title(country)\n",
    "    plt.rc('axes', titlesize=20)\n",
    "    plt.xlabel(\"Years\", fontsize= 20)\n",
    "    plt.ylabel(\"Total CO2 emission\", fontsize= 20)\n"
   ]
  },
  {
   "cell_type": "markdown",
   "id": "389e1336",
   "metadata": {},
   "source": [
    "## Comment: \n",
    "\n",
    "Bar plot for each focus area of the total CO2 emissions"
   ]
  },
  {
   "cell_type": "markdown",
   "id": "244c0d87",
   "metadata": {},
   "source": [
    "## Bokeh plot of the different types of energy"
   ]
  },
  {
   "cell_type": "code",
   "execution_count": 40,
   "id": "d8e9f261",
   "metadata": {},
   "outputs": [
    {
     "data": {
      "text/html": [
       "<div style=\"display: table;\"><div style=\"display: table-row;\"><div style=\"display: table-cell;\"><b title=\"bokeh.models.sources.ColumnDataSource\">ColumnDataSource</b>(</div><div style=\"display: table-cell;\">id&nbsp;=&nbsp;'1002', <span id=\"1004\" style=\"cursor: pointer;\">&hellip;)</span></div></div><div class=\"1003\" style=\"display: none;\"><div style=\"display: table-cell;\"></div><div style=\"display: table-cell;\">data&nbsp;=&nbsp;{'Nuclear': {'__ndarray__': 'x0s3iUFgBEDJdr6fGi8IQGZmZmZmZgpAcT0K16NwDUAlBoGVQwsRQE5iEFg5tBNA9P3UeOmmFEBoke18P7UVQLKd76fGyxZA5dAi2/n+FkDhehSuR2EXQIcW2c73UxhAokW28/1UGEDl0CLb+f4YQL6fGi/dJBlAGQRWDi2yGUCsHFpkO98ZQMHKoUW2cxlA7nw/NV66GUAj2/l+ajwaQF66SQwCKxpAK4cW2c53GkC+nxov3SQaQN9PjZdukhhA8tJNYhBYGEAQWDm0yHYXQMHKoUW28xZAeekmMQisFUDufD81XjoVQB+F61G4HhVACtejcD2KFECamZmZmRkTQNv5fmq8dBFAyXa+nxovEUD4U+Olm0QRQC2yne+nRhFAMzMzMzMzEUCmm8QgsPIQQBKDwMqhxRBA+n5qvHQTEUA=', 'shape': (40,), 'dtype': 'float64', 'order': 'little'}, 'Coal': {'__ndarray__': 'WDm0yHbeOkBzaJHtfF87QEa28/3U2DtAObTIdr4/PEBzaJHtfB88QBkEVg4tkjxAhetRuB5FPEBqvHSTGGQ8QArXo3A9KjxAvp8aL93kO0A9CtejcD07QPCnxks3yTpABFYOLbJ9OkBWDi2ynW86QMHKoUW2MzpAf2q8dJPYOUDb+X5qvLQ5QLKd76fGazlA7nw/NV4aOUDJdr6fGs84QIXrUbgeBTlACtejcD0qOUCe76fGS5c5QIlBYOXQ4jpASOF6FK5nO0B3vp8aL308QPT91HjpJj1AjZduEoPgPUBxPQrXo/A9QFYOLbKd7z1AVOOlm8TgPUCmm8QgsJI+QM3MzMzMTD5ADi2yne9HPkCJQWDl0AI+QMl2vp8aDz1Ake18PzU+PEDufD81Xto7QDvfT42XjjtAKVyPwvUIO0A=', 'shape': (40,), 'dtype': 'float64', 'order': 'little'}, 'Others renewables': {'__ndarray__': 'Di2yne+nxj+mm8QgsHLIP9Ei2/l+asw/YOXQItv5zj9QjZduEoPQP6abxCCwctA/7nw/NV660T+R7Xw/NV7SP5MYBFYOLdI/g8DKoUW20z8X2c73U+PVPw4tsp3vp9Y/VOOlm8Qg2D/4U+Olm8TYP5zEILByaNk/7FG4HoXr2T/sUbgehevZP9v5fmq8dNs/JQaBlUOL3D8bL90kBoHdP2iR7Xw/Nd4/ZDvfT42X3j8AAAAAAADgP9NNYhBYOeA/+n5qvHST4D9zaJHtfD/hP5huEoPAyuE/ObTIdr6f4j8v3SQGgZXjP3Noke18P+U/j8L1KFyP5j9g5dAi2/nmPycxCKwcWug/xSCwcmiR6T8IrBxaZDvrP0w3iUFg5ew/okW28/3U7D/ByqFFtvPtP4/C9Shcj+4/16NwPQrX7z8=', 'shape': (40,), 'dtype': 'float64', 'order': 'little'}, 'Solar': {'__ndarray__': 'AAAAAAAAAAAAAAAAAAAAAAAAAAAAAAAAAAAAAAAAAAAAAAAAAAAAAAAAAAAAAAAAAAAAAAAAAAAAAAAAAAAAAAAAAAAAAAAA/Knx0k1iUD/8qfHSTWJQP/yp8dJNYlA//Knx0k1iUD/8qfHSTWJgP/yp8dJNYmA//Knx0k1iYD/8qfHSTWJgP/yp8dJNYmA//Knx0k1iYD/8qfHSTWJgP/p+arx0k2g/+n5qvHSTaD/8qfHSTWJwP3sUrkfhenQ/eekmMQisfD8730+Nl26CP/p+arx0k4g/uB6F61G4jj+amZmZmZmZP8uhRbbz/aQ/VOOlm8QgsD/ByqFFtvO9P2IQWDm0yMY/uB6F61G4zj8bL90kBoHVPy/dJAaBlds/SOF6FK5H4T9g5dAi2/nmP/YoXI/C9ew/rkfhehSu8T8=', 'shape': (40,), 'dtype': 'float64', 'order': 'little'}, 'Year': [1980, 1981, 1982, 1983, 1984, 1985, 1986, 1987, 1988, 1989, 1990, 1991, 1992, 1993, 1994, 1995, 1996, 1997, 1998, 1999, 2000, 2001, 2002, 2003, 2004, 2005, 2006, 2007, 2008, 2009, 2010, 2011, 2012, 2013, 2014, 2015, 2016, 2017, 2018, 2019], 'Wind': {'__ndarray__': 'AAAAAAAAAAAAAAAAAAAAAAAAAAAAAAAAAAAAAAAAAAAAAAAAAAAAAAAAAAAAAAAAAAAAAAAAAAD8qfHSTWJQP/yp8dJNYlA//Knx0k1igD+6SQwCK4eGP/p+arx0k4g/eekmMQisjD/8qfHSTWKQP3sUrkfhepQ/WmQ730+Nlz+amZmZmZmZP/yp8dJNYqA/Gy/dJAaBpT8pXI/C9SisP3sUrkfherQ/+n5qvHSTuD+oxks3iUHAP+Olm8QgsMI/qvHSTWIQyD99PzVeuknMP5zEILByaNE/xSCwcmiR1T8xCKwcWmTbP0jhehSuR+E/+n5qvHST5D/HSzeJQWDpP2q8dJMYBO4/hetRuB6F8T8zMzMzMzPzP+f7qfHSTfY/XI/C9Shc+T8dWmQ730/9P1pkO99Pjf8/EFg5tMh2AUA=', 'shape': (40,), 'dtype': 'float64', 'order': 'little'}, 'Hydro': {'__ndarray__': 'YhBYObTIGEBWDi2ynW8ZQHWTGARWDhpAI9v5fmq8GkDHSzeJQWAaQE5iEFg5NBpAlkOLbOf7GUCmm8QgsHIZQLKd76fGSxlAyXa+nxqvGEAIrBxaZDsZQL6fGi/dpBlAppvEILByGUBiEFg5tMgaQDm0yHa+nxpAGy/dJAaBG0BkO99PjRcbQG3n+6nxUhtArBxaZDtfG0Av3SQGgRUbQBfZzvdT4xpAEoPAyqHFGUCF61G4HoUZQIts5/upcRhAd76fGi/dGECe76fGS7cYQH0/NV66yRhA5/up8dJNGECoxks3iUEZQKabxCCwchlAy6FFtvN9GUBoke18PzUZQGIQWDm0yBlAfT81XrpJGkAQWDm0yHYaQFpkO99PDRpAMQisHFpkGkAfhetRuB4aQJzEILBy6BlAYhBYObTIGUA=', 'shape': (40,), 'dtype': 'float64', 'order': 'little'}, 'Gas': {'__ndarray__': 'nu+nxktXMkCoxks3iaEyQJ7vp8ZL1zJA16NwPQrXMkCLbOf7qXEzQFg5tMh2XjNAUI2XbhIjM0C8dJMYBHYzQB+F61G4njNAFK5H4XoUNEDl0CLb+X40QMuhRbbz3TRAdZMYBFbONEAfhetRuN40QM/3U+OluzRAhetRuB4FNUA3iUFg5XA1QD0K16NwHTVAke18PzVeNUC8dJMYBJY1QC2yne+n5jVAz/dT46X7NUBmZmZmZiY2QAisHFpk+zVA3SQGgZXDNUCoxks3iaE1QDMzMzMzkzVADi2yne/HNUA/NV66SQw2QK5H4XoU7jVAI9v5fmp8NkCWQ4ts53s2QEjhehSuxzZAmpmZmZm5NkCLbOf7qbE2QJMYBFYODTdAhetRuB5FN0CNl24Sg4A3QOOlm8QgEDhAYOXQIts5OEA=', 'shape': (40,), 'dtype': 'float64', 'order': 'little'}, 'index': [4244, 4245, 4246, 4247, 4248, 4249, 4250, 4251, 4252, 4253, 4254, 4255, 4256, 4257, 4258, 4259, 4260, 4261, 4262, 4263, 4264, 4265, 4266, 4267, 4268, 4269, 4270, 4271, 4272, 4273, 4274, 4275, 4276, 4277, 4278, 4279, 4280, 4281, 4282, 4283], 'Oil': {'__ndarray__': 'CtejcD3qRkCoxks3iTFGQD0K16NwnUVAVg4tsp0fRUCNl24Sg6BEQDm0yHa+H0RADi2yne9HREBaZDvfT/1DQPLSTWIQ6ENAnMQgsHLYQ0Bt5/up8dJDQFYOLbKdr0NAVOOlm8TgQ0BaZDvfT51DQLTIdr6fykNAwcqhRbajQ0DVeOkmMYhDQCuHFtnO10NANV66SQzSQ0DhehSuR9FDQKabxCCwkkNAkxgEVg6NQ0C0yHa+n0pDQCcxCKwcCkNApHA9CtfTQkCNl24Sg3BCQMP1KFyPIkJAVg4tsp3PQUDXo3A9CndBQPhT46WbZEFAXrpJDAIbQUA/NV66SdxAQJhuEoPA2kBAnMQgsHK4QEBvEoPAyrFAQD0K16Nw3UBA8KfGSzf5QED8qfHSTeJAQM3MzMzMnEBAZDvfT42HQEA=', 'shape': (40,), 'dtype': 'float64', 'order': 'little'}},</div></div><div class=\"1003\" style=\"display: none;\"><div style=\"display: table-cell;\"></div><div style=\"display: table-cell;\">js_event_callbacks&nbsp;=&nbsp;{},</div></div><div class=\"1003\" style=\"display: none;\"><div style=\"display: table-cell;\"></div><div style=\"display: table-cell;\">js_property_callbacks&nbsp;=&nbsp;{},</div></div><div class=\"1003\" style=\"display: none;\"><div style=\"display: table-cell;\"></div><div style=\"display: table-cell;\">name&nbsp;=&nbsp;None,</div></div><div class=\"1003\" style=\"display: none;\"><div style=\"display: table-cell;\"></div><div style=\"display: table-cell;\">selected&nbsp;=&nbsp;Selection(id='1006', ...),</div></div><div class=\"1003\" style=\"display: none;\"><div style=\"display: table-cell;\"></div><div style=\"display: table-cell;\">selection_policy&nbsp;=&nbsp;UnionRenderers(id='1005', ...),</div></div><div class=\"1003\" style=\"display: none;\"><div style=\"display: table-cell;\"></div><div style=\"display: table-cell;\">subscribed_events&nbsp;=&nbsp;[],</div></div><div class=\"1003\" style=\"display: none;\"><div style=\"display: table-cell;\"></div><div style=\"display: table-cell;\">syncable&nbsp;=&nbsp;True,</div></div><div class=\"1003\" style=\"display: none;\"><div style=\"display: table-cell;\"></div><div style=\"display: table-cell;\">tags&nbsp;=&nbsp;[])</div></div></div>\n",
       "<script>\n",
       "(function() {\n",
       "  let expanded = false;\n",
       "  const ellipsis = document.getElementById(\"1004\");\n",
       "  ellipsis.addEventListener(\"click\", function() {\n",
       "    const rows = document.getElementsByClassName(\"1003\");\n",
       "    for (let i = 0; i < rows.length; i++) {\n",
       "      const el = rows[i];\n",
       "      el.style.display = expanded ? \"none\" : \"table-row\";\n",
       "    }\n",
       "    ellipsis.innerHTML = expanded ? \"&hellip;)\" : \"&lsaquo;&lsaquo;&lsaquo;\";\n",
       "    expanded = !expanded;\n",
       "  });\n",
       "})();\n",
       "</script>\n"
      ],
      "text/plain": [
       "ColumnDataSource(id='1002', ...)"
      ]
     },
     "execution_count": 40,
     "metadata": {},
     "output_type": "execute_result"
    }
   ],
   "source": [
    "from bokeh.plotting import figure,show\n",
    "from bokeh.io import output_notebook\n",
    "from bokeh.models import ColumnDataSource, CDSView, GroupFilter\n",
    "#Converting the DataFrame to Bokeh ColumnDataSource\n",
    "year_energy= ColumnDataSource(data=df_world)\n",
    "year_energy"
   ]
  },
  {
   "cell_type": "code",
   "execution_count": 41,
   "id": "f99136ef",
   "metadata": {},
   "outputs": [
    {
     "data": {
      "text/html": [
       "\n",
       "    <div class=\"bk-root\">\n",
       "        <a href=\"https://bokeh.org\" target=\"_blank\" class=\"bk-logo bk-logo-small bk-logo-notebook\"></a>\n",
       "        <span id=\"1007\">Loading BokehJS ...</span>\n",
       "    </div>"
      ]
     },
     "metadata": {},
     "output_type": "display_data"
    },
    {
     "data": {
      "application/javascript": [
       "\n",
       "(function(root) {\n",
       "  function now() {\n",
       "    return new Date();\n",
       "  }\n",
       "\n",
       "  const force = true;\n",
       "\n",
       "  if (typeof root._bokeh_onload_callbacks === \"undefined\" || force === true) {\n",
       "    root._bokeh_onload_callbacks = [];\n",
       "    root._bokeh_is_loading = undefined;\n",
       "  }\n",
       "\n",
       "  const JS_MIME_TYPE = 'application/javascript';\n",
       "  const HTML_MIME_TYPE = 'text/html';\n",
       "  const EXEC_MIME_TYPE = 'application/vnd.bokehjs_exec.v0+json';\n",
       "  const CLASS_NAME = 'output_bokeh rendered_html';\n",
       "\n",
       "  /**\n",
       "   * Render data to the DOM node\n",
       "   */\n",
       "  function render(props, node) {\n",
       "    const script = document.createElement(\"script\");\n",
       "    node.appendChild(script);\n",
       "  }\n",
       "\n",
       "  /**\n",
       "   * Handle when an output is cleared or removed\n",
       "   */\n",
       "  function handleClearOutput(event, handle) {\n",
       "    const cell = handle.cell;\n",
       "\n",
       "    const id = cell.output_area._bokeh_element_id;\n",
       "    const server_id = cell.output_area._bokeh_server_id;\n",
       "    // Clean up Bokeh references\n",
       "    if (id != null && id in Bokeh.index) {\n",
       "      Bokeh.index[id].model.document.clear();\n",
       "      delete Bokeh.index[id];\n",
       "    }\n",
       "\n",
       "    if (server_id !== undefined) {\n",
       "      // Clean up Bokeh references\n",
       "      const cmd_clean = \"from bokeh.io.state import curstate; print(curstate().uuid_to_server['\" + server_id + \"'].get_sessions()[0].document.roots[0]._id)\";\n",
       "      cell.notebook.kernel.execute(cmd_clean, {\n",
       "        iopub: {\n",
       "          output: function(msg) {\n",
       "            const id = msg.content.text.trim();\n",
       "            if (id in Bokeh.index) {\n",
       "              Bokeh.index[id].model.document.clear();\n",
       "              delete Bokeh.index[id];\n",
       "            }\n",
       "          }\n",
       "        }\n",
       "      });\n",
       "      // Destroy server and session\n",
       "      const cmd_destroy = \"import bokeh.io.notebook as ion; ion.destroy_server('\" + server_id + \"')\";\n",
       "      cell.notebook.kernel.execute(cmd_destroy);\n",
       "    }\n",
       "  }\n",
       "\n",
       "  /**\n",
       "   * Handle when a new output is added\n",
       "   */\n",
       "  function handleAddOutput(event, handle) {\n",
       "    const output_area = handle.output_area;\n",
       "    const output = handle.output;\n",
       "\n",
       "    // limit handleAddOutput to display_data with EXEC_MIME_TYPE content only\n",
       "    if ((output.output_type != \"display_data\") || (!Object.prototype.hasOwnProperty.call(output.data, EXEC_MIME_TYPE))) {\n",
       "      return\n",
       "    }\n",
       "\n",
       "    const toinsert = output_area.element.find(\".\" + CLASS_NAME.split(' ')[0]);\n",
       "\n",
       "    if (output.metadata[EXEC_MIME_TYPE][\"id\"] !== undefined) {\n",
       "      toinsert[toinsert.length - 1].firstChild.textContent = output.data[JS_MIME_TYPE];\n",
       "      // store reference to embed id on output_area\n",
       "      output_area._bokeh_element_id = output.metadata[EXEC_MIME_TYPE][\"id\"];\n",
       "    }\n",
       "    if (output.metadata[EXEC_MIME_TYPE][\"server_id\"] !== undefined) {\n",
       "      const bk_div = document.createElement(\"div\");\n",
       "      bk_div.innerHTML = output.data[HTML_MIME_TYPE];\n",
       "      const script_attrs = bk_div.children[0].attributes;\n",
       "      for (let i = 0; i < script_attrs.length; i++) {\n",
       "        toinsert[toinsert.length - 1].firstChild.setAttribute(script_attrs[i].name, script_attrs[i].value);\n",
       "        toinsert[toinsert.length - 1].firstChild.textContent = bk_div.children[0].textContent\n",
       "      }\n",
       "      // store reference to server id on output_area\n",
       "      output_area._bokeh_server_id = output.metadata[EXEC_MIME_TYPE][\"server_id\"];\n",
       "    }\n",
       "  }\n",
       "\n",
       "  function register_renderer(events, OutputArea) {\n",
       "\n",
       "    function append_mime(data, metadata, element) {\n",
       "      // create a DOM node to render to\n",
       "      const toinsert = this.create_output_subarea(\n",
       "        metadata,\n",
       "        CLASS_NAME,\n",
       "        EXEC_MIME_TYPE\n",
       "      );\n",
       "      this.keyboard_manager.register_events(toinsert);\n",
       "      // Render to node\n",
       "      const props = {data: data, metadata: metadata[EXEC_MIME_TYPE]};\n",
       "      render(props, toinsert[toinsert.length - 1]);\n",
       "      element.append(toinsert);\n",
       "      return toinsert\n",
       "    }\n",
       "\n",
       "    /* Handle when an output is cleared or removed */\n",
       "    events.on('clear_output.CodeCell', handleClearOutput);\n",
       "    events.on('delete.Cell', handleClearOutput);\n",
       "\n",
       "    /* Handle when a new output is added */\n",
       "    events.on('output_added.OutputArea', handleAddOutput);\n",
       "\n",
       "    /**\n",
       "     * Register the mime type and append_mime function with output_area\n",
       "     */\n",
       "    OutputArea.prototype.register_mime_type(EXEC_MIME_TYPE, append_mime, {\n",
       "      /* Is output safe? */\n",
       "      safe: true,\n",
       "      /* Index of renderer in `output_area.display_order` */\n",
       "      index: 0\n",
       "    });\n",
       "  }\n",
       "\n",
       "  // register the mime type if in Jupyter Notebook environment and previously unregistered\n",
       "  if (root.Jupyter !== undefined) {\n",
       "    const events = require('base/js/events');\n",
       "    const OutputArea = require('notebook/js/outputarea').OutputArea;\n",
       "\n",
       "    if (OutputArea.prototype.mime_types().indexOf(EXEC_MIME_TYPE) == -1) {\n",
       "      register_renderer(events, OutputArea);\n",
       "    }\n",
       "  }\n",
       "\n",
       "  \n",
       "  if (typeof (root._bokeh_timeout) === \"undefined\" || force === true) {\n",
       "    root._bokeh_timeout = Date.now() + 5000;\n",
       "    root._bokeh_failed_load = false;\n",
       "  }\n",
       "\n",
       "  const NB_LOAD_WARNING = {'data': {'text/html':\n",
       "     \"<div style='background-color: #fdd'>\\n\"+\n",
       "     \"<p>\\n\"+\n",
       "     \"BokehJS does not appear to have successfully loaded. If loading BokehJS from CDN, this \\n\"+\n",
       "     \"may be due to a slow or bad network connection. Possible fixes:\\n\"+\n",
       "     \"</p>\\n\"+\n",
       "     \"<ul>\\n\"+\n",
       "     \"<li>re-rerun `output_notebook()` to attempt to load from CDN again, or</li>\\n\"+\n",
       "     \"<li>use INLINE resources instead, as so:</li>\\n\"+\n",
       "     \"</ul>\\n\"+\n",
       "     \"<code>\\n\"+\n",
       "     \"from bokeh.resources import INLINE\\n\"+\n",
       "     \"output_notebook(resources=INLINE)\\n\"+\n",
       "     \"</code>\\n\"+\n",
       "     \"</div>\"}};\n",
       "\n",
       "  function display_loaded() {\n",
       "    const el = document.getElementById(\"1007\");\n",
       "    if (el != null) {\n",
       "      el.textContent = \"BokehJS is loading...\";\n",
       "    }\n",
       "    if (root.Bokeh !== undefined) {\n",
       "      if (el != null) {\n",
       "        el.textContent = \"BokehJS \" + root.Bokeh.version + \" successfully loaded.\";\n",
       "      }\n",
       "    } else if (Date.now() < root._bokeh_timeout) {\n",
       "      setTimeout(display_loaded, 100)\n",
       "    }\n",
       "  }\n",
       "\n",
       "\n",
       "  function run_callbacks() {\n",
       "    try {\n",
       "      root._bokeh_onload_callbacks.forEach(function(callback) {\n",
       "        if (callback != null)\n",
       "          callback();\n",
       "      });\n",
       "    } finally {\n",
       "      delete root._bokeh_onload_callbacks\n",
       "    }\n",
       "    console.debug(\"Bokeh: all callbacks have finished\");\n",
       "  }\n",
       "\n",
       "  function load_libs(css_urls, js_urls, callback) {\n",
       "    if (css_urls == null) css_urls = [];\n",
       "    if (js_urls == null) js_urls = [];\n",
       "\n",
       "    root._bokeh_onload_callbacks.push(callback);\n",
       "    if (root._bokeh_is_loading > 0) {\n",
       "      console.debug(\"Bokeh: BokehJS is being loaded, scheduling callback at\", now());\n",
       "      return null;\n",
       "    }\n",
       "    if (js_urls == null || js_urls.length === 0) {\n",
       "      run_callbacks();\n",
       "      return null;\n",
       "    }\n",
       "    console.debug(\"Bokeh: BokehJS not loaded, scheduling load and callback at\", now());\n",
       "    root._bokeh_is_loading = css_urls.length + js_urls.length;\n",
       "\n",
       "    function on_load() {\n",
       "      root._bokeh_is_loading--;\n",
       "      if (root._bokeh_is_loading === 0) {\n",
       "        console.debug(\"Bokeh: all BokehJS libraries/stylesheets loaded\");\n",
       "        run_callbacks()\n",
       "      }\n",
       "    }\n",
       "\n",
       "    function on_error(url) {\n",
       "      console.error(\"failed to load \" + url);\n",
       "    }\n",
       "\n",
       "    for (let i = 0; i < css_urls.length; i++) {\n",
       "      const url = css_urls[i];\n",
       "      const element = document.createElement(\"link\");\n",
       "      element.onload = on_load;\n",
       "      element.onerror = on_error.bind(null, url);\n",
       "      element.rel = \"stylesheet\";\n",
       "      element.type = \"text/css\";\n",
       "      element.href = url;\n",
       "      console.debug(\"Bokeh: injecting link tag for BokehJS stylesheet: \", url);\n",
       "      document.body.appendChild(element);\n",
       "    }\n",
       "\n",
       "    for (let i = 0; i < js_urls.length; i++) {\n",
       "      const url = js_urls[i];\n",
       "      const element = document.createElement('script');\n",
       "      element.onload = on_load;\n",
       "      element.onerror = on_error.bind(null, url);\n",
       "      element.async = false;\n",
       "      element.src = url;\n",
       "      console.debug(\"Bokeh: injecting script tag for BokehJS library: \", url);\n",
       "      document.head.appendChild(element);\n",
       "    }\n",
       "  };\n",
       "\n",
       "  function inject_raw_css(css) {\n",
       "    const element = document.createElement(\"style\");\n",
       "    element.appendChild(document.createTextNode(css));\n",
       "    document.body.appendChild(element);\n",
       "  }\n",
       "\n",
       "  \n",
       "  const js_urls = [\"https://cdn.bokeh.org/bokeh/release/bokeh-2.4.2.min.js\", \"https://cdn.bokeh.org/bokeh/release/bokeh-gl-2.4.2.min.js\", \"https://cdn.bokeh.org/bokeh/release/bokeh-widgets-2.4.2.min.js\", \"https://cdn.bokeh.org/bokeh/release/bokeh-tables-2.4.2.min.js\", \"https://cdn.bokeh.org/bokeh/release/bokeh-mathjax-2.4.2.min.js\"];\n",
       "  const css_urls = [];\n",
       "  \n",
       "\n",
       "  const inline_js = [\n",
       "    function(Bokeh) {\n",
       "      Bokeh.set_log_level(\"info\");\n",
       "    },\n",
       "    function(Bokeh) {\n",
       "    \n",
       "    \n",
       "    }\n",
       "  ];\n",
       "\n",
       "  function run_inline_js() {\n",
       "    \n",
       "    if (root.Bokeh !== undefined || force === true) {\n",
       "      \n",
       "    for (let i = 0; i < inline_js.length; i++) {\n",
       "      inline_js[i].call(root, root.Bokeh);\n",
       "    }\n",
       "    if (force === true) {\n",
       "        display_loaded();\n",
       "      }} else if (Date.now() < root._bokeh_timeout) {\n",
       "      setTimeout(run_inline_js, 100);\n",
       "    } else if (!root._bokeh_failed_load) {\n",
       "      console.log(\"Bokeh: BokehJS failed to load within specified timeout.\");\n",
       "      root._bokeh_failed_load = true;\n",
       "    } else if (force !== true) {\n",
       "      const cell = $(document.getElementById(\"1007\")).parents('.cell').data().cell;\n",
       "      cell.output_area.append_execute_result(NB_LOAD_WARNING)\n",
       "    }\n",
       "\n",
       "  }\n",
       "\n",
       "  if (root._bokeh_is_loading === 0) {\n",
       "    console.debug(\"Bokeh: BokehJS loaded, going straight to plotting\");\n",
       "    run_inline_js();\n",
       "  } else {\n",
       "    load_libs(css_urls, js_urls, function() {\n",
       "      console.debug(\"Bokeh: BokehJS plotting callback run at\", now());\n",
       "      run_inline_js();\n",
       "    });\n",
       "  }\n",
       "}(window));"
      ],
      "application/vnd.bokehjs_load.v0+json": "\n(function(root) {\n  function now() {\n    return new Date();\n  }\n\n  const force = true;\n\n  if (typeof root._bokeh_onload_callbacks === \"undefined\" || force === true) {\n    root._bokeh_onload_callbacks = [];\n    root._bokeh_is_loading = undefined;\n  }\n\n  \n\n  \n  if (typeof (root._bokeh_timeout) === \"undefined\" || force === true) {\n    root._bokeh_timeout = Date.now() + 5000;\n    root._bokeh_failed_load = false;\n  }\n\n  const NB_LOAD_WARNING = {'data': {'text/html':\n     \"<div style='background-color: #fdd'>\\n\"+\n     \"<p>\\n\"+\n     \"BokehJS does not appear to have successfully loaded. If loading BokehJS from CDN, this \\n\"+\n     \"may be due to a slow or bad network connection. Possible fixes:\\n\"+\n     \"</p>\\n\"+\n     \"<ul>\\n\"+\n     \"<li>re-rerun `output_notebook()` to attempt to load from CDN again, or</li>\\n\"+\n     \"<li>use INLINE resources instead, as so:</li>\\n\"+\n     \"</ul>\\n\"+\n     \"<code>\\n\"+\n     \"from bokeh.resources import INLINE\\n\"+\n     \"output_notebook(resources=INLINE)\\n\"+\n     \"</code>\\n\"+\n     \"</div>\"}};\n\n  function display_loaded() {\n    const el = document.getElementById(\"1007\");\n    if (el != null) {\n      el.textContent = \"BokehJS is loading...\";\n    }\n    if (root.Bokeh !== undefined) {\n      if (el != null) {\n        el.textContent = \"BokehJS \" + root.Bokeh.version + \" successfully loaded.\";\n      }\n    } else if (Date.now() < root._bokeh_timeout) {\n      setTimeout(display_loaded, 100)\n    }\n  }\n\n\n  function run_callbacks() {\n    try {\n      root._bokeh_onload_callbacks.forEach(function(callback) {\n        if (callback != null)\n          callback();\n      });\n    } finally {\n      delete root._bokeh_onload_callbacks\n    }\n    console.debug(\"Bokeh: all callbacks have finished\");\n  }\n\n  function load_libs(css_urls, js_urls, callback) {\n    if (css_urls == null) css_urls = [];\n    if (js_urls == null) js_urls = [];\n\n    root._bokeh_onload_callbacks.push(callback);\n    if (root._bokeh_is_loading > 0) {\n      console.debug(\"Bokeh: BokehJS is being loaded, scheduling callback at\", now());\n      return null;\n    }\n    if (js_urls == null || js_urls.length === 0) {\n      run_callbacks();\n      return null;\n    }\n    console.debug(\"Bokeh: BokehJS not loaded, scheduling load and callback at\", now());\n    root._bokeh_is_loading = css_urls.length + js_urls.length;\n\n    function on_load() {\n      root._bokeh_is_loading--;\n      if (root._bokeh_is_loading === 0) {\n        console.debug(\"Bokeh: all BokehJS libraries/stylesheets loaded\");\n        run_callbacks()\n      }\n    }\n\n    function on_error(url) {\n      console.error(\"failed to load \" + url);\n    }\n\n    for (let i = 0; i < css_urls.length; i++) {\n      const url = css_urls[i];\n      const element = document.createElement(\"link\");\n      element.onload = on_load;\n      element.onerror = on_error.bind(null, url);\n      element.rel = \"stylesheet\";\n      element.type = \"text/css\";\n      element.href = url;\n      console.debug(\"Bokeh: injecting link tag for BokehJS stylesheet: \", url);\n      document.body.appendChild(element);\n    }\n\n    for (let i = 0; i < js_urls.length; i++) {\n      const url = js_urls[i];\n      const element = document.createElement('script');\n      element.onload = on_load;\n      element.onerror = on_error.bind(null, url);\n      element.async = false;\n      element.src = url;\n      console.debug(\"Bokeh: injecting script tag for BokehJS library: \", url);\n      document.head.appendChild(element);\n    }\n  };\n\n  function inject_raw_css(css) {\n    const element = document.createElement(\"style\");\n    element.appendChild(document.createTextNode(css));\n    document.body.appendChild(element);\n  }\n\n  \n  const js_urls = [\"https://cdn.bokeh.org/bokeh/release/bokeh-2.4.2.min.js\", \"https://cdn.bokeh.org/bokeh/release/bokeh-gl-2.4.2.min.js\", \"https://cdn.bokeh.org/bokeh/release/bokeh-widgets-2.4.2.min.js\", \"https://cdn.bokeh.org/bokeh/release/bokeh-tables-2.4.2.min.js\", \"https://cdn.bokeh.org/bokeh/release/bokeh-mathjax-2.4.2.min.js\"];\n  const css_urls = [];\n  \n\n  const inline_js = [\n    function(Bokeh) {\n      Bokeh.set_log_level(\"info\");\n    },\n    function(Bokeh) {\n    \n    \n    }\n  ];\n\n  function run_inline_js() {\n    \n    if (root.Bokeh !== undefined || force === true) {\n      \n    for (let i = 0; i < inline_js.length; i++) {\n      inline_js[i].call(root, root.Bokeh);\n    }\n    if (force === true) {\n        display_loaded();\n      }} else if (Date.now() < root._bokeh_timeout) {\n      setTimeout(run_inline_js, 100);\n    } else if (!root._bokeh_failed_load) {\n      console.log(\"Bokeh: BokehJS failed to load within specified timeout.\");\n      root._bokeh_failed_load = true;\n    } else if (force !== true) {\n      const cell = $(document.getElementById(\"1007\")).parents('.cell').data().cell;\n      cell.output_area.append_execute_result(NB_LOAD_WARNING)\n    }\n\n  }\n\n  if (root._bokeh_is_loading === 0) {\n    console.debug(\"Bokeh: BokehJS loaded, going straight to plotting\");\n    run_inline_js();\n  } else {\n    load_libs(css_urls, js_urls, function() {\n      console.debug(\"Bokeh: BokehJS plotting callback run at\", now());\n      run_inline_js();\n    });\n  }\n}(window));"
     },
     "metadata": {},
     "output_type": "display_data"
    },
    {
     "name": "stderr",
     "output_type": "stream",
     "text": [
      "ERROR:bokeh.core.validation.check:E-1001 (BAD_COLUMN_NAME): Glyph refers to nonexistent column name. This could either be due to a misspelling or typo, or due to an expected column being missing. : key \"top\" value \"Others\" [renderer: GlyphRenderer(id='1165', ...)]\n"
     ]
    },
    {
     "data": {
      "text/html": [
       "\n",
       "\n",
       "\n",
       "\n",
       "\n",
       "\n",
       "  <div class=\"bk-root\" id=\"7284ec2f-5935-4e5b-92c3-4d04620ee4b8\" data-root-id=\"1008\"></div>\n"
      ]
     },
     "metadata": {},
     "output_type": "display_data"
    },
    {
     "data": {
      "application/javascript": [
       "(function(root) {\n",
       "  function embed_document(root) {\n",
       "    \n",
       "  const docs_json = {\"5b72abb1-7479-4f81-9fc8-0a48d107ecdd\":{\"defs\":[],\"roots\":{\"references\":[{\"attributes\":{\"below\":[{\"id\":\"1019\"}],\"center\":[{\"id\":\"1022\"},{\"id\":\"1026\"},{\"id\":\"1057\"}],\"left\":[{\"id\":\"1023\"}],\"renderers\":[{\"id\":\"1045\"},{\"id\":\"1063\"},{\"id\":\"1080\"},{\"id\":\"1097\"},{\"id\":\"1114\"},{\"id\":\"1131\"},{\"id\":\"1148\"},{\"id\":\"1165\"}],\"title\":{\"id\":\"1009\"},\"toolbar\":{\"id\":\"1034\"},\"width\":950,\"x_range\":{\"id\":\"1011\"},\"x_scale\":{\"id\":\"1015\"},\"y_range\":{\"id\":\"1013\"},\"y_scale\":{\"id\":\"1017\"}},\"id\":\"1008\",\"subtype\":\"Figure\",\"type\":\"Plot\"},{\"attributes\":{\"source\":{\"id\":\"1002\"}},\"id\":\"1149\",\"type\":\"CDSView\"},{\"attributes\":{\"coordinates\":null,\"data_source\":{\"id\":\"1002\"},\"glyph\":{\"id\":\"1162\"},\"group\":null,\"hover_glyph\":null,\"muted_glyph\":{\"id\":\"1164\"},\"nonselection_glyph\":{\"id\":\"1163\"},\"view\":{\"id\":\"1166\"}},\"id\":\"1165\",\"type\":\"GlyphRenderer\"},{\"attributes\":{\"fill_color\":{\"value\":\"green\"},\"line_color\":{\"value\":\"#1f77b4\"},\"top\":{\"field\":\"Others\"},\"x\":{\"field\":\"Year\"}},\"id\":\"1162\",\"type\":\"VBar\"},{\"attributes\":{},\"id\":\"1032\",\"type\":\"HelpTool\"},{\"attributes\":{},\"id\":\"1011\",\"type\":\"DataRange1d\"},{\"attributes\":{\"axis_label\":\"Total\",\"coordinates\":null,\"formatter\":{\"id\":\"1049\"},\"group\":null,\"major_label_policy\":{\"id\":\"1050\"},\"ticker\":{\"id\":\"1024\"}},\"id\":\"1023\",\"type\":\"LinearAxis\"},{\"attributes\":{\"fill_alpha\":{\"value\":0.1},\"fill_color\":{\"value\":\"#e84d60\"},\"hatch_alpha\":{\"value\":0.1},\"line_alpha\":{\"value\":0.1},\"line_color\":{\"value\":\"#1f77b4\"},\"top\":{\"field\":\"Solar\"},\"x\":{\"field\":\"Year\"}},\"id\":\"1078\",\"type\":\"VBar\"},{\"attributes\":{},\"id\":\"1020\",\"type\":\"BasicTicker\"},{\"attributes\":{\"label\":{\"value\":\"Gas\"},\"renderers\":[{\"id\":\"1148\"}]},\"id\":\"1160\",\"type\":\"LegendItem\"},{\"attributes\":{\"fill_color\":{\"value\":\"#4d60e8\"},\"line_color\":{\"value\":\"#1f77b4\"},\"top\":{\"field\":\"Wind\"},\"x\":{\"field\":\"Year\"}},\"id\":\"1128\",\"type\":\"VBar\"},{\"attributes\":{\"fill_alpha\":{\"value\":0.2},\"fill_color\":{\"value\":\"#c9d9d3\"},\"hatch_alpha\":{\"value\":0.2},\"line_alpha\":{\"value\":0.2},\"line_color\":{\"value\":\"#1f77b4\"},\"top\":{\"field\":\"Oil\"},\"x\":{\"field\":\"Year\"}},\"id\":\"1044\",\"type\":\"VBar\"},{\"attributes\":{\"label\":{\"value\":\"Wind\"},\"renderers\":[{\"id\":\"1131\"}]},\"id\":\"1143\",\"type\":\"LegendItem\"},{\"attributes\":{\"axis\":{\"id\":\"1019\"},\"coordinates\":null,\"group\":null,\"ticker\":null},\"id\":\"1022\",\"type\":\"Grid\"},{\"attributes\":{\"overlay\":{\"id\":\"1033\"}},\"id\":\"1029\",\"type\":\"BoxZoomTool\"},{\"attributes\":{\"fill_alpha\":{\"value\":0.1},\"fill_color\":{\"value\":\"#4d60e8\"},\"hatch_alpha\":{\"value\":0.1},\"line_alpha\":{\"value\":0.1},\"line_color\":{\"value\":\"#1f77b4\"},\"top\":{\"field\":\"Wind\"},\"x\":{\"field\":\"Year\"}},\"id\":\"1129\",\"type\":\"VBar\"},{\"attributes\":{\"fill_alpha\":{\"value\":0.1},\"fill_color\":{\"value\":\"#e8884d\"},\"hatch_alpha\":{\"value\":0.1},\"line_alpha\":{\"value\":0.1},\"line_color\":{\"value\":\"#1f77b4\"},\"top\":{\"field\":\"Gas\"},\"x\":{\"field\":\"Year\"}},\"id\":\"1146\",\"type\":\"VBar\"},{\"attributes\":{\"coordinates\":null,\"data_source\":{\"id\":\"1002\"},\"glyph\":{\"id\":\"1128\"},\"group\":null,\"hover_glyph\":null,\"muted_glyph\":{\"id\":\"1130\"},\"nonselection_glyph\":{\"id\":\"1129\"},\"view\":{\"id\":\"1132\"}},\"id\":\"1131\",\"type\":\"GlyphRenderer\"},{\"attributes\":{\"data\":{\"Coal\":{\"__ndarray__\":\"WDm0yHbeOkBzaJHtfF87QEa28/3U2DtAObTIdr4/PEBzaJHtfB88QBkEVg4tkjxAhetRuB5FPEBqvHSTGGQ8QArXo3A9KjxAvp8aL93kO0A9CtejcD07QPCnxks3yTpABFYOLbJ9OkBWDi2ynW86QMHKoUW2MzpAf2q8dJPYOUDb+X5qvLQ5QLKd76fGazlA7nw/NV4aOUDJdr6fGs84QIXrUbgeBTlACtejcD0qOUCe76fGS5c5QIlBYOXQ4jpASOF6FK5nO0B3vp8aL308QPT91HjpJj1AjZduEoPgPUBxPQrXo/A9QFYOLbKd7z1AVOOlm8TgPUCmm8QgsJI+QM3MzMzMTD5ADi2yne9HPkCJQWDl0AI+QMl2vp8aDz1Ake18PzU+PEDufD81Xto7QDvfT42XjjtAKVyPwvUIO0A=\",\"dtype\":\"float64\",\"order\":\"little\",\"shape\":[40]},\"Gas\":{\"__ndarray__\":\"nu+nxktXMkCoxks3iaEyQJ7vp8ZL1zJA16NwPQrXMkCLbOf7qXEzQFg5tMh2XjNAUI2XbhIjM0C8dJMYBHYzQB+F61G4njNAFK5H4XoUNEDl0CLb+X40QMuhRbbz3TRAdZMYBFbONEAfhetRuN40QM/3U+OluzRAhetRuB4FNUA3iUFg5XA1QD0K16NwHTVAke18PzVeNUC8dJMYBJY1QC2yne+n5jVAz/dT46X7NUBmZmZmZiY2QAisHFpk+zVA3SQGgZXDNUCoxks3iaE1QDMzMzMzkzVADi2yne/HNUA/NV66SQw2QK5H4XoU7jVAI9v5fmp8NkCWQ4ts53s2QEjhehSuxzZAmpmZmZm5NkCLbOf7qbE2QJMYBFYODTdAhetRuB5FN0CNl24Sg4A3QOOlm8QgEDhAYOXQIts5OEA=\",\"dtype\":\"float64\",\"order\":\"little\",\"shape\":[40]},\"Hydro\":{\"__ndarray__\":\"YhBYObTIGEBWDi2ynW8ZQHWTGARWDhpAI9v5fmq8GkDHSzeJQWAaQE5iEFg5NBpAlkOLbOf7GUCmm8QgsHIZQLKd76fGSxlAyXa+nxqvGEAIrBxaZDsZQL6fGi/dpBlAppvEILByGUBiEFg5tMgaQDm0yHa+nxpAGy/dJAaBG0BkO99PjRcbQG3n+6nxUhtArBxaZDtfG0Av3SQGgRUbQBfZzvdT4xpAEoPAyqHFGUCF61G4HoUZQIts5/upcRhAd76fGi/dGECe76fGS7cYQH0/NV66yRhA5/up8dJNGECoxks3iUEZQKabxCCwchlAy6FFtvN9GUBoke18PzUZQGIQWDm0yBlAfT81XrpJGkAQWDm0yHYaQFpkO99PDRpAMQisHFpkGkAfhetRuB4aQJzEILBy6BlAYhBYObTIGUA=\",\"dtype\":\"float64\",\"order\":\"little\",\"shape\":[40]},\"Nuclear\":{\"__ndarray__\":\"x0s3iUFgBEDJdr6fGi8IQGZmZmZmZgpAcT0K16NwDUAlBoGVQwsRQE5iEFg5tBNA9P3UeOmmFEBoke18P7UVQLKd76fGyxZA5dAi2/n+FkDhehSuR2EXQIcW2c73UxhAokW28/1UGEDl0CLb+f4YQL6fGi/dJBlAGQRWDi2yGUCsHFpkO98ZQMHKoUW2cxlA7nw/NV66GUAj2/l+ajwaQF66SQwCKxpAK4cW2c53GkC+nxov3SQaQN9PjZdukhhA8tJNYhBYGEAQWDm0yHYXQMHKoUW28xZAeekmMQisFUDufD81XjoVQB+F61G4HhVACtejcD2KFECamZmZmRkTQNv5fmq8dBFAyXa+nxovEUD4U+Olm0QRQC2yne+nRhFAMzMzMzMzEUCmm8QgsPIQQBKDwMqhxRBA+n5qvHQTEUA=\",\"dtype\":\"float64\",\"order\":\"little\",\"shape\":[40]},\"Oil\":{\"__ndarray__\":\"CtejcD3qRkCoxks3iTFGQD0K16NwnUVAVg4tsp0fRUCNl24Sg6BEQDm0yHa+H0RADi2yne9HREBaZDvfT/1DQPLSTWIQ6ENAnMQgsHLYQ0Bt5/up8dJDQFYOLbKdr0NAVOOlm8TgQ0BaZDvfT51DQLTIdr6fykNAwcqhRbajQ0DVeOkmMYhDQCuHFtnO10NANV66SQzSQ0DhehSuR9FDQKabxCCwkkNAkxgEVg6NQ0C0yHa+n0pDQCcxCKwcCkNApHA9CtfTQkCNl24Sg3BCQMP1KFyPIkJAVg4tsp3PQUDXo3A9CndBQPhT46WbZEFAXrpJDAIbQUA/NV66SdxAQJhuEoPA2kBAnMQgsHK4QEBvEoPAyrFAQD0K16Nw3UBA8KfGSzf5QED8qfHSTeJAQM3MzMzMnEBAZDvfT42HQEA=\",\"dtype\":\"float64\",\"order\":\"little\",\"shape\":[40]},\"Others renewables\":{\"__ndarray__\":\"Di2yne+nxj+mm8QgsHLIP9Ei2/l+asw/YOXQItv5zj9QjZduEoPQP6abxCCwctA/7nw/NV660T+R7Xw/NV7SP5MYBFYOLdI/g8DKoUW20z8X2c73U+PVPw4tsp3vp9Y/VOOlm8Qg2D/4U+Olm8TYP5zEILByaNk/7FG4HoXr2T/sUbgehevZP9v5fmq8dNs/JQaBlUOL3D8bL90kBoHdP2iR7Xw/Nd4/ZDvfT42X3j8AAAAAAADgP9NNYhBYOeA/+n5qvHST4D9zaJHtfD/hP5huEoPAyuE/ObTIdr6f4j8v3SQGgZXjP3Noke18P+U/j8L1KFyP5j9g5dAi2/nmPycxCKwcWug/xSCwcmiR6T8IrBxaZDvrP0w3iUFg5ew/okW28/3U7D/ByqFFtvPtP4/C9Shcj+4/16NwPQrX7z8=\",\"dtype\":\"float64\",\"order\":\"little\",\"shape\":[40]},\"Solar\":{\"__ndarray__\":\"AAAAAAAAAAAAAAAAAAAAAAAAAAAAAAAAAAAAAAAAAAAAAAAAAAAAAAAAAAAAAAAAAAAAAAAAAAAAAAAAAAAAAAAAAAAAAAAA/Knx0k1iUD/8qfHSTWJQP/yp8dJNYlA//Knx0k1iUD/8qfHSTWJgP/yp8dJNYmA//Knx0k1iYD/8qfHSTWJgP/yp8dJNYmA//Knx0k1iYD/8qfHSTWJgP/p+arx0k2g/+n5qvHSTaD/8qfHSTWJwP3sUrkfhenQ/eekmMQisfD8730+Nl26CP/p+arx0k4g/uB6F61G4jj+amZmZmZmZP8uhRbbz/aQ/VOOlm8QgsD/ByqFFtvO9P2IQWDm0yMY/uB6F61G4zj8bL90kBoHVPy/dJAaBlds/SOF6FK5H4T9g5dAi2/nmP/YoXI/C9ew/rkfhehSu8T8=\",\"dtype\":\"float64\",\"order\":\"little\",\"shape\":[40]},\"Wind\":{\"__ndarray__\":\"AAAAAAAAAAAAAAAAAAAAAAAAAAAAAAAAAAAAAAAAAAAAAAAAAAAAAAAAAAAAAAAAAAAAAAAAAAD8qfHSTWJQP/yp8dJNYlA//Knx0k1igD+6SQwCK4eGP/p+arx0k4g/eekmMQisjD/8qfHSTWKQP3sUrkfhepQ/WmQ730+Nlz+amZmZmZmZP/yp8dJNYqA/Gy/dJAaBpT8pXI/C9SisP3sUrkfherQ/+n5qvHSTuD+oxks3iUHAP+Olm8QgsMI/qvHSTWIQyD99PzVeuknMP5zEILByaNE/xSCwcmiR1T8xCKwcWmTbP0jhehSuR+E/+n5qvHST5D/HSzeJQWDpP2q8dJMYBO4/hetRuB6F8T8zMzMzMzPzP+f7qfHSTfY/XI/C9Shc+T8dWmQ730/9P1pkO99Pjf8/EFg5tMh2AUA=\",\"dtype\":\"float64\",\"order\":\"little\",\"shape\":[40]},\"Year\":[1980,1981,1982,1983,1984,1985,1986,1987,1988,1989,1990,1991,1992,1993,1994,1995,1996,1997,1998,1999,2000,2001,2002,2003,2004,2005,2006,2007,2008,2009,2010,2011,2012,2013,2014,2015,2016,2017,2018,2019],\"index\":[4244,4245,4246,4247,4248,4249,4250,4251,4252,4253,4254,4255,4256,4257,4258,4259,4260,4261,4262,4263,4264,4265,4266,4267,4268,4269,4270,4271,4272,4273,4274,4275,4276,4277,4278,4279,4280,4281,4282,4283]},\"selected\":{\"id\":\"1006\"},\"selection_policy\":{\"id\":\"1005\"}},\"id\":\"1002\",\"type\":\"ColumnDataSource\"},{\"attributes\":{\"source\":{\"id\":\"1002\"}},\"id\":\"1132\",\"type\":\"CDSView\"},{\"attributes\":{\"fill_alpha\":{\"value\":0.2},\"fill_color\":{\"value\":\"#4d60e8\"},\"hatch_alpha\":{\"value\":0.2},\"line_alpha\":{\"value\":0.2},\"line_color\":{\"value\":\"#1f77b4\"},\"top\":{\"field\":\"Wind\"},\"x\":{\"field\":\"Year\"}},\"id\":\"1130\",\"type\":\"VBar\"},{\"attributes\":{\"fill_color\":{\"value\":\"#e8884d\"},\"line_color\":{\"value\":\"#1f77b4\"},\"top\":{\"field\":\"Gas\"},\"x\":{\"field\":\"Year\"}},\"id\":\"1145\",\"type\":\"VBar\"},{\"attributes\":{\"coordinates\":null,\"data_source\":{\"id\":\"1002\"},\"glyph\":{\"id\":\"1060\"},\"group\":null,\"hover_glyph\":null,\"muted_glyph\":{\"id\":\"1062\"},\"nonselection_glyph\":{\"id\":\"1061\"},\"view\":{\"id\":\"1064\"}},\"id\":\"1063\",\"type\":\"GlyphRenderer\"},{\"attributes\":{\"coordinates\":null,\"data_source\":{\"id\":\"1002\"},\"glyph\":{\"id\":\"1111\"},\"group\":null,\"hover_glyph\":null,\"muted_glyph\":{\"id\":\"1113\"},\"nonselection_glyph\":{\"id\":\"1112\"},\"view\":{\"id\":\"1115\"}},\"id\":\"1114\",\"type\":\"GlyphRenderer\"},{\"attributes\":{\"label\":{\"value\":\"Solar\"},\"renderers\":[{\"id\":\"1080\"}]},\"id\":\"1092\",\"type\":\"LegendItem\"},{\"attributes\":{},\"id\":\"1015\",\"type\":\"LinearScale\"},{\"attributes\":{\"fill_alpha\":{\"value\":0.2},\"fill_color\":{\"value\":\"#e84d60\"},\"hatch_alpha\":{\"value\":0.2},\"line_alpha\":{\"value\":0.2},\"line_color\":{\"value\":\"#1f77b4\"},\"top\":{\"field\":\"Solar\"},\"x\":{\"field\":\"Year\"}},\"id\":\"1079\",\"type\":\"VBar\"},{\"attributes\":{},\"id\":\"1049\",\"type\":\"BasicTickFormatter\"},{\"attributes\":{\"fill_color\":{\"value\":\"#718dbf\"},\"line_color\":{\"value\":\"#1f77b4\"},\"top\":{\"field\":\"Coal\"},\"x\":{\"field\":\"Year\"}},\"id\":\"1060\",\"type\":\"VBar\"},{\"attributes\":{\"fill_alpha\":{\"value\":0.1},\"fill_color\":{\"value\":\"#c9d9d3\"},\"hatch_alpha\":{\"value\":0.1},\"line_alpha\":{\"value\":0.1},\"line_color\":{\"value\":\"#1f77b4\"},\"top\":{\"field\":\"Oil\"},\"x\":{\"field\":\"Year\"}},\"id\":\"1043\",\"type\":\"VBar\"},{\"attributes\":{},\"id\":\"1050\",\"type\":\"AllLabels\"},{\"attributes\":{\"fill_color\":{\"value\":\"#c9d9d3\"},\"line_color\":{\"value\":\"#1f77b4\"},\"top\":{\"field\":\"Oil\"},\"x\":{\"field\":\"Year\"}},\"id\":\"1042\",\"type\":\"VBar\"},{\"attributes\":{},\"id\":\"1053\",\"type\":\"AllLabels\"},{\"attributes\":{\"fill_color\":{\"value\":\"#e84d60\"},\"line_color\":{\"value\":\"#1f77b4\"},\"top\":{\"field\":\"Solar\"},\"x\":{\"field\":\"Year\"}},\"id\":\"1077\",\"type\":\"VBar\"},{\"attributes\":{\"fill_alpha\":{\"value\":0.1},\"fill_color\":{\"value\":\"#718dbf\"},\"hatch_alpha\":{\"value\":0.1},\"line_alpha\":{\"value\":0.1},\"line_color\":{\"value\":\"#1f77b4\"},\"top\":{\"field\":\"Coal\"},\"x\":{\"field\":\"Year\"}},\"id\":\"1061\",\"type\":\"VBar\"},{\"attributes\":{\"fill_alpha\":{\"value\":0.1},\"fill_color\":{\"value\":\"#4de8d5\"},\"hatch_alpha\":{\"value\":0.1},\"line_alpha\":{\"value\":0.1},\"line_color\":{\"value\":\"#1f77b4\"},\"top\":{\"field\":\"Hydro\"},\"x\":{\"field\":\"Year\"}},\"id\":\"1112\",\"type\":\"VBar\"},{\"attributes\":{},\"id\":\"1052\",\"type\":\"BasicTickFormatter\"},{\"attributes\":{\"bottom_units\":\"screen\",\"coordinates\":null,\"fill_alpha\":0.5,\"fill_color\":\"lightgrey\",\"group\":null,\"left_units\":\"screen\",\"level\":\"overlay\",\"line_alpha\":1.0,\"line_color\":\"black\",\"line_dash\":[4,4],\"line_width\":2,\"right_units\":\"screen\",\"syncable\":false,\"top_units\":\"screen\"},\"id\":\"1033\",\"type\":\"BoxAnnotation\"},{\"attributes\":{},\"id\":\"1030\",\"type\":\"SaveTool\"},{\"attributes\":{\"label\":{\"value\":\"Nuclear\"},\"renderers\":[{\"id\":\"1097\"}]},\"id\":\"1109\",\"type\":\"LegendItem\"},{\"attributes\":{\"source\":{\"id\":\"1002\"}},\"id\":\"1064\",\"type\":\"CDSView\"},{\"attributes\":{\"tools\":[{\"id\":\"1027\"},{\"id\":\"1028\"},{\"id\":\"1029\"},{\"id\":\"1030\"},{\"id\":\"1031\"},{\"id\":\"1032\"}]},\"id\":\"1034\",\"type\":\"Toolbar\"},{\"attributes\":{\"source\":{\"id\":\"1002\"}},\"id\":\"1115\",\"type\":\"CDSView\"},{\"attributes\":{\"coordinates\":null,\"data_source\":{\"id\":\"1002\"},\"glyph\":{\"id\":\"1077\"},\"group\":null,\"hover_glyph\":null,\"muted_glyph\":{\"id\":\"1079\"},\"nonselection_glyph\":{\"id\":\"1078\"},\"view\":{\"id\":\"1081\"}},\"id\":\"1080\",\"type\":\"GlyphRenderer\"},{\"attributes\":{\"fill_alpha\":{\"value\":0.2},\"fill_color\":{\"value\":\"#718dbf\"},\"hatch_alpha\":{\"value\":0.2},\"line_alpha\":{\"value\":0.2},\"line_color\":{\"value\":\"#1f77b4\"},\"top\":{\"field\":\"Coal\"},\"x\":{\"field\":\"Year\"}},\"id\":\"1062\",\"type\":\"VBar\"},{\"attributes\":{\"fill_alpha\":{\"value\":0.2},\"fill_color\":{\"value\":\"#4de8d5\"},\"hatch_alpha\":{\"value\":0.2},\"line_alpha\":{\"value\":0.2},\"line_color\":{\"value\":\"#1f77b4\"},\"top\":{\"field\":\"Hydro\"},\"x\":{\"field\":\"Year\"}},\"id\":\"1113\",\"type\":\"VBar\"},{\"attributes\":{\"fill_alpha\":{\"value\":0.1},\"fill_color\":{\"value\":\"green\"},\"hatch_alpha\":{\"value\":0.1},\"line_alpha\":{\"value\":0.1},\"line_color\":{\"value\":\"#1f77b4\"},\"top\":{\"field\":\"Others\"},\"x\":{\"field\":\"Year\"}},\"id\":\"1163\",\"type\":\"VBar\"},{\"attributes\":{\"coordinates\":null,\"data_source\":{\"id\":\"1002\"},\"glyph\":{\"id\":\"1042\"},\"group\":null,\"hover_glyph\":null,\"muted_glyph\":{\"id\":\"1044\"},\"nonselection_glyph\":{\"id\":\"1043\"},\"view\":{\"id\":\"1046\"}},\"id\":\"1045\",\"type\":\"GlyphRenderer\"},{\"attributes\":{},\"id\":\"1028\",\"type\":\"WheelZoomTool\"},{\"attributes\":{},\"id\":\"1027\",\"type\":\"PanTool\"},{\"attributes\":{\"coordinates\":null,\"data_source\":{\"id\":\"1002\"},\"glyph\":{\"id\":\"1094\"},\"group\":null,\"hover_glyph\":null,\"muted_glyph\":{\"id\":\"1096\"},\"nonselection_glyph\":{\"id\":\"1095\"},\"view\":{\"id\":\"1098\"}},\"id\":\"1097\",\"type\":\"GlyphRenderer\"},{\"attributes\":{\"source\":{\"id\":\"1002\"}},\"id\":\"1046\",\"type\":\"CDSView\"},{\"attributes\":{\"axis\":{\"id\":\"1023\"},\"coordinates\":null,\"dimension\":1,\"group\":null,\"ticker\":null},\"id\":\"1026\",\"type\":\"Grid\"},{\"attributes\":{},\"id\":\"1024\",\"type\":\"BasicTicker\"},{\"attributes\":{\"label\":{\"value\":\"Oil\"},\"renderers\":[{\"id\":\"1045\"}]},\"id\":\"1058\",\"type\":\"LegendItem\"},{\"attributes\":{\"label\":{\"value\":\"Coal\"},\"renderers\":[{\"id\":\"1063\"}]},\"id\":\"1075\",\"type\":\"LegendItem\"},{\"attributes\":{},\"id\":\"1006\",\"type\":\"Selection\"},{\"attributes\":{\"click_policy\":\"mute\",\"coordinates\":null,\"group\":null,\"items\":[{\"id\":\"1058\"},{\"id\":\"1075\"},{\"id\":\"1092\"},{\"id\":\"1109\"},{\"id\":\"1126\"},{\"id\":\"1143\"},{\"id\":\"1160\"},{\"id\":\"1177\"}],\"orientation\":\"horizontal\"},\"id\":\"1057\",\"type\":\"Legend\"},{\"attributes\":{\"fill_alpha\":{\"value\":0.1},\"fill_color\":{\"value\":\"#b3de69\"},\"hatch_alpha\":{\"value\":0.1},\"line_alpha\":{\"value\":0.1},\"line_color\":{\"value\":\"#1f77b4\"},\"top\":{\"field\":\"Nuclear\"},\"x\":{\"field\":\"Year\"}},\"id\":\"1095\",\"type\":\"VBar\"},{\"attributes\":{\"source\":{\"id\":\"1002\"}},\"id\":\"1098\",\"type\":\"CDSView\"},{\"attributes\":{},\"id\":\"1005\",\"type\":\"UnionRenderers\"},{\"attributes\":{\"fill_alpha\":{\"value\":0.2},\"fill_color\":{\"value\":\"#b3de69\"},\"hatch_alpha\":{\"value\":0.2},\"line_alpha\":{\"value\":0.2},\"line_color\":{\"value\":\"#1f77b4\"},\"top\":{\"field\":\"Nuclear\"},\"x\":{\"field\":\"Year\"}},\"id\":\"1096\",\"type\":\"VBar\"},{\"attributes\":{\"source\":{\"id\":\"1002\"}},\"id\":\"1166\",\"type\":\"CDSView\"},{\"attributes\":{\"fill_color\":{\"value\":\"#b3de69\"},\"line_color\":{\"value\":\"#1f77b4\"},\"top\":{\"field\":\"Nuclear\"},\"x\":{\"field\":\"Year\"}},\"id\":\"1094\",\"type\":\"VBar\"},{\"attributes\":{\"fill_color\":{\"value\":\"#4de8d5\"},\"line_color\":{\"value\":\"#1f77b4\"},\"top\":{\"field\":\"Hydro\"},\"x\":{\"field\":\"Year\"}},\"id\":\"1111\",\"type\":\"VBar\"},{\"attributes\":{\"fill_alpha\":{\"value\":0.2},\"fill_color\":{\"value\":\"green\"},\"hatch_alpha\":{\"value\":0.2},\"line_alpha\":{\"value\":0.2},\"line_color\":{\"value\":\"#1f77b4\"},\"top\":{\"field\":\"Others\"},\"x\":{\"field\":\"Year\"}},\"id\":\"1164\",\"type\":\"VBar\"},{\"attributes\":{\"coordinates\":null,\"group\":null,\"text\":\"Types of energy in the world (1980-2019)\"},\"id\":\"1009\",\"type\":\"Title\"},{\"attributes\":{\"axis_label\":\"Year\",\"coordinates\":null,\"formatter\":{\"id\":\"1052\"},\"group\":null,\"major_label_policy\":{\"id\":\"1053\"},\"ticker\":{\"id\":\"1020\"}},\"id\":\"1019\",\"type\":\"LinearAxis\"},{\"attributes\":{},\"id\":\"1031\",\"type\":\"ResetTool\"},{\"attributes\":{\"source\":{\"id\":\"1002\"}},\"id\":\"1081\",\"type\":\"CDSView\"},{\"attributes\":{\"coordinates\":null,\"data_source\":{\"id\":\"1002\"},\"glyph\":{\"id\":\"1145\"},\"group\":null,\"hover_glyph\":null,\"muted_glyph\":{\"id\":\"1147\"},\"nonselection_glyph\":{\"id\":\"1146\"},\"view\":{\"id\":\"1149\"}},\"id\":\"1148\",\"type\":\"GlyphRenderer\"},{\"attributes\":{\"label\":{\"value\":\"Others\"},\"renderers\":[{\"id\":\"1165\"}]},\"id\":\"1177\",\"type\":\"LegendItem\"},{\"attributes\":{},\"id\":\"1013\",\"type\":\"DataRange1d\"},{\"attributes\":{\"fill_alpha\":{\"value\":0.2},\"fill_color\":{\"value\":\"#e8884d\"},\"hatch_alpha\":{\"value\":0.2},\"line_alpha\":{\"value\":0.2},\"line_color\":{\"value\":\"#1f77b4\"},\"top\":{\"field\":\"Gas\"},\"x\":{\"field\":\"Year\"}},\"id\":\"1147\",\"type\":\"VBar\"},{\"attributes\":{\"label\":{\"value\":\"Hydro\"},\"renderers\":[{\"id\":\"1114\"}]},\"id\":\"1126\",\"type\":\"LegendItem\"},{\"attributes\":{},\"id\":\"1017\",\"type\":\"LinearScale\"}],\"root_ids\":[\"1008\"]},\"title\":\"Bokeh Application\",\"version\":\"2.4.2\"}};\n",
       "  const render_items = [{\"docid\":\"5b72abb1-7479-4f81-9fc8-0a48d107ecdd\",\"root_ids\":[\"1008\"],\"roots\":{\"1008\":\"7284ec2f-5935-4e5b-92c3-4d04620ee4b8\"}}];\n",
       "  root.Bokeh.embed.embed_items_notebook(docs_json, render_items);\n",
       "\n",
       "  }\n",
       "  if (root.Bokeh !== undefined) {\n",
       "    embed_document(root);\n",
       "  } else {\n",
       "    let attempts = 0;\n",
       "    const timer = setInterval(function(root) {\n",
       "      if (root.Bokeh !== undefined) {\n",
       "        clearInterval(timer);\n",
       "        embed_document(root);\n",
       "      } else {\n",
       "        attempts++;\n",
       "        if (attempts > 100) {\n",
       "          clearInterval(timer);\n",
       "          console.log(\"Bokeh: ERROR: Unable to run BokehJS code because BokehJS library is missing\");\n",
       "        }\n",
       "      }\n",
       "    }, 10, root)\n",
       "  }\n",
       "})(window);"
      ],
      "application/vnd.bokehjs_exec.v0+json": ""
     },
     "metadata": {
      "application/vnd.bokehjs_exec.v0+json": {
       "id": "1008"
      }
     },
     "output_type": "display_data"
    }
   ],
   "source": [
    "# Creating an empty figure\n",
    "output_notebook()\n",
    "p = figure(title= \"Types of energy in the world (1980-2019)\", width=950, height=600) \n",
    "colors = [\"#c9d9d3\", \"#718dbf\", \"#e84d60\", \"#b3de69\", \"#4de8d5\", \"#4d60e8\", \"#e8884d\", \"green\"]\n",
    "\n",
    "energy_type= ['Oil', 'Coal', 'Solar', 'Nuclear', 'Hydro', 'Wind', 'Gas', 'Others']\n",
    "\n",
    "# Adding bars\n",
    "bar ={} # to store vbars \n",
    "# here we will do a for loop to create a bar for each race\n",
    "c=0\n",
    "for indx,i in enumerate(energy_type):\n",
    "    bar[i] = p.vbar(x= 'Year',  top=i, source= year_energy, legend_label=i, fill_color= colors[c]) \n",
    "    c= c+1\n",
    "    \n",
    "# Defining the X-Axis Label\n",
    "p.xaxis.axis_label = \"Year\"\n",
    " \n",
    "# defining the Y-Axis Label\n",
    "p.yaxis.axis_label = \"Total\"    \n",
    "    \n",
    "#Make your legend interactive and display the figure\n",
    "p.legend.click_policy=\"mute\" #assigns the click policy (you can try to use ''hide') \n",
    "p.legend.location = \"top_right\"\n",
    "p.legend.orientation= 'horizontal'\n",
    "show(p)"
   ]
  },
  {
   "cell_type": "markdown",
   "id": "16573aed",
   "metadata": {},
   "source": [
    "## Comment:\n",
    "\n",
    "Looking at this interactive Bokeh plot, we can see the amount of each energy type in the world from 1980 to 2019.\n",
    "In particular we can see that the wind energy is not so common, but it has been used from around 2002 on and has an increasing trend, and similarly also teh solar one which has been used since 2012.\n",
    "\n",
    "The highest one is the Oil energy, whose trend is generally decreasing; followed by the Coal energy, that has an oscillatory trend, with a peak in 2011 and it is currently in the decreasing phase; and followed by the gas energy which has an overall slightly increasing trend over this years period. \n",
    "\n",
    "The hydro energy has always mantained the same stable level and finally the nuclear energy is the most interesting one since, as we have already seen, it creates fear in people that prefer to avoid its use. In fact, from this plot we can see how its trend has increased in the period 1980-2000, but then, with the beginnning of the new century, it begun to decrease and then stabilized from 2013 on."
   ]
  },
  {
   "cell_type": "markdown",
   "id": "24e523b1",
   "metadata": {},
   "source": [
    "## Plot map of the CO2 emissions in the world in 2019"
   ]
  },
  {
   "cell_type": "code",
   "execution_count": 43,
   "id": "13a03d67",
   "metadata": {},
   "outputs": [
    {
     "data": {
      "text/plain": [
       "<AxesSubplot:>"
      ]
     },
     "execution_count": 43,
     "metadata": {},
     "output_type": "execute_result"
    },
    {
     "data": {
      "image/png": "[encoded data removed]",
      "text/plain": [
       "<Figure size 1440x720 with 2 Axes>"
      ]
     },
     "metadata": {
      "needs_background": "light"
     },
     "output_type": "display_data"
    }
   ],
   "source": [
    "#https://blog.getambee.com/plotting-geographical-data-in-python/ \n",
    "\n",
    "# pip install descartes\n",
    "import pandas as pd\n",
    "import geopandas as gpd\n",
    "import matplotlib.pyplot as plt\n",
    "from matplotlib import style\n",
    "\n",
    "#‘naturalearth_lowres’ dataset which contains the shape of all countries in the world\n",
    "worldmap = gpd.read_file(gpd.datasets.get_path('naturalearth_lowres'))\n",
    "worldmap[\"name\"].replace({\"United States of America\": \"United States\"}, inplace=True)\n",
    "\n",
    "#We will now merge the data5 filtered for 2019 to the world GeoDataFrame.\n",
    "data5filtered= data5[data5.Year == 2019]\n",
    "data5filtered.pop(\"Year\")\n",
    "data5filtered.columns= [\"name\", 'CO2 emissions']\n",
    "\n",
    "#world=world.merge(data5filtered,left_on='name',right_on='name',how='outer')\n",
    "worldmap=pd.merge(worldmap, data5filtered, on= [\"name\"])\n",
    "\n",
    "worldmap.plot(column='CO2 emissions',figsize=(20,10),legend=True, cmap='turbo', legend_kwds={'label': \"CO2 emissions\",'orientation':\"horizontal\"},missing_kwds={'color': 'lightgrey'})"
   ]
  },
  {
   "cell_type": "markdown",
   "id": "1a68bf2f",
   "metadata": {},
   "source": [
    "## Movie heathmap of the world from 1980- 1995\n"
   ]
  },
  {
   "cell_type": "code",
   "execution_count": 44,
   "id": "603bf86d",
   "metadata": {},
   "outputs": [
    {
     "data": {
      "text/html": [
       "<div>\n",
       "<style scoped>\n",
       "    .dataframe tbody tr th:only-of-type {\n",
       "        vertical-align: middle;\n",
       "    }\n",
       "\n",
       "    .dataframe tbody tr th {\n",
       "        vertical-align: top;\n",
       "    }\n",
       "\n",
       "    .dataframe thead th {\n",
       "        text-align: right;\n",
       "    }\n",
       "</style>\n",
       "<table border=\"1\" class=\"dataframe\">\n",
       "  <thead>\n",
       "    <tr style=\"text-align: right;\">\n",
       "      <th></th>\n",
       "      <th>Country</th>\n",
       "      <th>Year</th>\n",
       "      <th>Oil</th>\n",
       "      <th>Coal</th>\n",
       "      <th>Solar</th>\n",
       "      <th>Nuclear</th>\n",
       "      <th>Hydro</th>\n",
       "      <th>Wind</th>\n",
       "      <th>Gas</th>\n",
       "      <th>Others renewables</th>\n",
       "      <th>Energy per capita (kWh)</th>\n",
       "      <th>Annual CO2 emissions</th>\n",
       "      <th>Population</th>\n",
       "      <th>latitude</th>\n",
       "      <th>longitude</th>\n",
       "    </tr>\n",
       "  </thead>\n",
       "  <tbody>\n",
       "    <tr>\n",
       "      <th>0</th>\n",
       "      <td>Algeria</td>\n",
       "      <td>1980</td>\n",
       "      <td>37.382</td>\n",
       "      <td>0.420</td>\n",
       "      <td>0.0</td>\n",
       "      <td>0.0</td>\n",
       "      <td>0.403</td>\n",
       "      <td>0.0</td>\n",
       "      <td>61.795</td>\n",
       "      <td>0.0</td>\n",
       "      <td>9213.403</td>\n",
       "      <td>66416467</td>\n",
       "      <td>43984569</td>\n",
       "      <td>28.033886</td>\n",
       "      <td>1.659626</td>\n",
       "    </tr>\n",
       "    <tr>\n",
       "      <th>1</th>\n",
       "      <td>Algeria</td>\n",
       "      <td>1981</td>\n",
       "      <td>33.155</td>\n",
       "      <td>0.243</td>\n",
       "      <td>0.0</td>\n",
       "      <td>0.0</td>\n",
       "      <td>0.473</td>\n",
       "      <td>0.0</td>\n",
       "      <td>66.129</td>\n",
       "      <td>0.0</td>\n",
       "      <td>10851.361</td>\n",
       "      <td>46341982</td>\n",
       "      <td>43984569</td>\n",
       "      <td>28.033886</td>\n",
       "      <td>1.659626</td>\n",
       "    </tr>\n",
       "    <tr>\n",
       "      <th>2</th>\n",
       "      <td>Algeria</td>\n",
       "      <td>1982</td>\n",
       "      <td>30.470</td>\n",
       "      <td>3.915</td>\n",
       "      <td>0.0</td>\n",
       "      <td>0.0</td>\n",
       "      <td>0.536</td>\n",
       "      <td>0.0</td>\n",
       "      <td>65.078</td>\n",
       "      <td>0.0</td>\n",
       "      <td>12126.704</td>\n",
       "      <td>39173029</td>\n",
       "      <td>43984569</td>\n",
       "      <td>28.033886</td>\n",
       "      <td>1.659626</td>\n",
       "    </tr>\n",
       "    <tr>\n",
       "      <th>3</th>\n",
       "      <td>Algeria</td>\n",
       "      <td>1983</td>\n",
       "      <td>31.334</td>\n",
       "      <td>3.198</td>\n",
       "      <td>0.0</td>\n",
       "      <td>0.0</td>\n",
       "      <td>0.241</td>\n",
       "      <td>0.0</td>\n",
       "      <td>65.227</td>\n",
       "      <td>0.0</td>\n",
       "      <td>12838.885</td>\n",
       "      <td>52503909</td>\n",
       "      <td>43984569</td>\n",
       "      <td>28.033886</td>\n",
       "      <td>1.659626</td>\n",
       "    </tr>\n",
       "    <tr>\n",
       "      <th>4</th>\n",
       "      <td>Algeria</td>\n",
       "      <td>1984</td>\n",
       "      <td>36.139</td>\n",
       "      <td>3.693</td>\n",
       "      <td>0.0</td>\n",
       "      <td>0.0</td>\n",
       "      <td>0.483</td>\n",
       "      <td>0.0</td>\n",
       "      <td>59.686</td>\n",
       "      <td>0.0</td>\n",
       "      <td>11951.858</td>\n",
       "      <td>70946530</td>\n",
       "      <td>43984569</td>\n",
       "      <td>28.033886</td>\n",
       "      <td>1.659626</td>\n",
       "    </tr>\n",
       "  </tbody>\n",
       "</table>\n",
       "</div>"
      ],
      "text/plain": [
       "   Country  Year     Oil   Coal  Solar  Nuclear  Hydro  Wind     Gas  \\\n",
       "0  Algeria  1980  37.382  0.420    0.0      0.0  0.403   0.0  61.795   \n",
       "1  Algeria  1981  33.155  0.243    0.0      0.0  0.473   0.0  66.129   \n",
       "2  Algeria  1982  30.470  3.915    0.0      0.0  0.536   0.0  65.078   \n",
       "3  Algeria  1983  31.334  3.198    0.0      0.0  0.241   0.0  65.227   \n",
       "4  Algeria  1984  36.139  3.693    0.0      0.0  0.483   0.0  59.686   \n",
       "\n",
       "   Others renewables  Energy per capita (kWh)  Annual CO2 emissions  \\\n",
       "0                0.0                 9213.403              66416467   \n",
       "1                0.0                10851.361              46341982   \n",
       "2                0.0                12126.704              39173029   \n",
       "3                0.0                12838.885              52503909   \n",
       "4                0.0                11951.858              70946530   \n",
       "\n",
       "   Population   latitude  longitude  \n",
       "0    43984569  28.033886   1.659626  \n",
       "1    43984569  28.033886   1.659626  \n",
       "2    43984569  28.033886   1.659626  \n",
       "3    43984569  28.033886   1.659626  \n",
       "4    43984569  28.033886   1.659626  "
      ]
     },
     "execution_count": 44,
     "metadata": {},
     "output_type": "execute_result"
    }
   ],
   "source": [
    "#creating data14567 for the heatmaps and movies\n",
    "# merging data145, data6 and data7\n",
    "data1456 = pd.merge(data145, data6, on=['Country'])\n",
    "data14567 = pd.merge(data1456, data7, on=['Country'])\n",
    "data14567.head()"
   ]
  },
  {
   "cell_type": "code",
   "execution_count": 174,
   "id": "82e7983a",
   "metadata": {},
   "outputs": [],
   "source": [
    "#movie 1980-1995\n",
    "import folium\n",
    "from folium import plugins\n",
    "\n",
    "lat= 20.0000 #Y\n",
    "lon= 9.0000 #X\n",
    "m1 = folium.Map([lat, lon], zoom_start=2)#tiles = \"Stamen Toner\"\n",
    "\n",
    "\n",
    "# Ensure you're handing it floats\n",
    "data14567['latitude'] =data14567['latitude'].astype(float)\n",
    "data14567['longitude'] = data14567['longitude'].astype(float)\n",
    "\n",
    "#rescaling the Annual CO2 emissions values to plot the rispective intensity\n",
    "max_emissions= data14567[\"Annual CO2 emissions\"].max()\n",
    "data14567[\"Annual CO2 emissions\"]= data14567[\"Annual CO2 emissions\"].div(max_emissions).div(0.001).apply(lambda x: np.ceil(x))\n"
   ]
  },
  {
   "cell_type": "code",
   "execution_count": null,
   "id": "6699c49a",
   "metadata": {},
   "outputs": [],
   "source": [
    "data14567_concat= data14567.iloc[:0]\n",
    "\n",
    "for i in range (0, len(data14567)):\n",
    "    reps = int(data14567[\"Annual CO2 emissions\"][i])\n",
    "    \n",
    "    data14567_concat = data14567_concat.append([data14567[data14567.index == i]]*reps)"
   ]
  },
  {
   "cell_type": "code",
   "execution_count": null,
   "id": "356ae9be",
   "metadata": {},
   "outputs": [],
   "source": [
    "data14567_concat[\"latitude\"] = data14567_concat[\"latitude\"].apply(lambda x: x+np.random.normal(0,2))\n",
    "data14567_concat[\"longitude\"] = data14567_concat[\"longitude\"].apply(lambda x: x+np.random.normal(0,2))"
   ]
  },
  {
   "cell_type": "code",
   "execution_count": null,
   "id": "e158db8f",
   "metadata": {},
   "outputs": [],
   "source": [
    "# List comprehension to make out list of lists\n",
    "data14567_data = [[[row['latitude'],row['longitude']] for index, row in data14567_concat[data14567_concat['Year']==i].iterrows()] for i in range(1980,1995)]\n",
    "\n",
    "# Plot it on the map\n",
    "hmm = plugins.HeatMapWithTime(data14567_data,auto_play=True,max_opacity=0.8, gradient={0.1: 'blue', 0.25:'green', 0.5:'yellow', 0.75:'orange',1:'red'}, radius=15)\n",
    "hmm.add_to(m1)\n",
    "# Display the map\n",
    "m1"
   ]
  },
  {
   "cell_type": "markdown",
   "id": "2b457809",
   "metadata": {},
   "source": [
    "## Movie with box plot"
   ]
  },
  {
   "cell_type": "code",
   "execution_count": 45,
   "id": "0f682e33",
   "metadata": {},
   "outputs": [
    {
     "data": {
      "text/html": [
       "<div>\n",
       "<style scoped>\n",
       "    .dataframe tbody tr th:only-of-type {\n",
       "        vertical-align: middle;\n",
       "    }\n",
       "\n",
       "    .dataframe tbody tr th {\n",
       "        vertical-align: top;\n",
       "    }\n",
       "\n",
       "    .dataframe thead th {\n",
       "        text-align: right;\n",
       "    }\n",
       "</style>\n",
       "<table border=\"1\" class=\"dataframe\">\n",
       "  <thead>\n",
       "    <tr style=\"text-align: right;\">\n",
       "      <th></th>\n",
       "      <th>Country</th>\n",
       "      <th>Year</th>\n",
       "      <th>Oil</th>\n",
       "      <th>Coal</th>\n",
       "      <th>Solar</th>\n",
       "      <th>Nuclear</th>\n",
       "      <th>Hydro</th>\n",
       "      <th>Wind</th>\n",
       "      <th>Gas</th>\n",
       "      <th>Others renewables</th>\n",
       "      <th>Energy per capita (kWh)</th>\n",
       "      <th>Annual CO2 emissions</th>\n",
       "      <th>Population</th>\n",
       "      <th>latitude</th>\n",
       "      <th>longitude</th>\n",
       "    </tr>\n",
       "  </thead>\n",
       "  <tbody>\n",
       "    <tr>\n",
       "      <th>0</th>\n",
       "      <td>Algeria</td>\n",
       "      <td>1980</td>\n",
       "      <td>37.382</td>\n",
       "      <td>0.420</td>\n",
       "      <td>0.0</td>\n",
       "      <td>0.0</td>\n",
       "      <td>0.403</td>\n",
       "      <td>0.0</td>\n",
       "      <td>61.795</td>\n",
       "      <td>0.0</td>\n",
       "      <td>9213.403</td>\n",
       "      <td>66416467</td>\n",
       "      <td>43984569</td>\n",
       "      <td>28.033886</td>\n",
       "      <td>1.659626</td>\n",
       "    </tr>\n",
       "    <tr>\n",
       "      <th>1</th>\n",
       "      <td>Algeria</td>\n",
       "      <td>1981</td>\n",
       "      <td>33.155</td>\n",
       "      <td>0.243</td>\n",
       "      <td>0.0</td>\n",
       "      <td>0.0</td>\n",
       "      <td>0.473</td>\n",
       "      <td>0.0</td>\n",
       "      <td>66.129</td>\n",
       "      <td>0.0</td>\n",
       "      <td>10851.361</td>\n",
       "      <td>46341982</td>\n",
       "      <td>43984569</td>\n",
       "      <td>28.033886</td>\n",
       "      <td>1.659626</td>\n",
       "    </tr>\n",
       "    <tr>\n",
       "      <th>2</th>\n",
       "      <td>Algeria</td>\n",
       "      <td>1982</td>\n",
       "      <td>30.470</td>\n",
       "      <td>3.915</td>\n",
       "      <td>0.0</td>\n",
       "      <td>0.0</td>\n",
       "      <td>0.536</td>\n",
       "      <td>0.0</td>\n",
       "      <td>65.078</td>\n",
       "      <td>0.0</td>\n",
       "      <td>12126.704</td>\n",
       "      <td>39173029</td>\n",
       "      <td>43984569</td>\n",
       "      <td>28.033886</td>\n",
       "      <td>1.659626</td>\n",
       "    </tr>\n",
       "    <tr>\n",
       "      <th>3</th>\n",
       "      <td>Algeria</td>\n",
       "      <td>1983</td>\n",
       "      <td>31.334</td>\n",
       "      <td>3.198</td>\n",
       "      <td>0.0</td>\n",
       "      <td>0.0</td>\n",
       "      <td>0.241</td>\n",
       "      <td>0.0</td>\n",
       "      <td>65.227</td>\n",
       "      <td>0.0</td>\n",
       "      <td>12838.885</td>\n",
       "      <td>52503909</td>\n",
       "      <td>43984569</td>\n",
       "      <td>28.033886</td>\n",
       "      <td>1.659626</td>\n",
       "    </tr>\n",
       "    <tr>\n",
       "      <th>4</th>\n",
       "      <td>Algeria</td>\n",
       "      <td>1984</td>\n",
       "      <td>36.139</td>\n",
       "      <td>3.693</td>\n",
       "      <td>0.0</td>\n",
       "      <td>0.0</td>\n",
       "      <td>0.483</td>\n",
       "      <td>0.0</td>\n",
       "      <td>59.686</td>\n",
       "      <td>0.0</td>\n",
       "      <td>11951.858</td>\n",
       "      <td>70946530</td>\n",
       "      <td>43984569</td>\n",
       "      <td>28.033886</td>\n",
       "      <td>1.659626</td>\n",
       "    </tr>\n",
       "  </tbody>\n",
       "</table>\n",
       "</div>"
      ],
      "text/plain": [
       "   Country  Year     Oil   Coal  Solar  Nuclear  Hydro  Wind     Gas  \\\n",
       "0  Algeria  1980  37.382  0.420    0.0      0.0  0.403   0.0  61.795   \n",
       "1  Algeria  1981  33.155  0.243    0.0      0.0  0.473   0.0  66.129   \n",
       "2  Algeria  1982  30.470  3.915    0.0      0.0  0.536   0.0  65.078   \n",
       "3  Algeria  1983  31.334  3.198    0.0      0.0  0.241   0.0  65.227   \n",
       "4  Algeria  1984  36.139  3.693    0.0      0.0  0.483   0.0  59.686   \n",
       "\n",
       "   Others renewables  Energy per capita (kWh)  Annual CO2 emissions  \\\n",
       "0                0.0                 9213.403              66416467   \n",
       "1                0.0                10851.361              46341982   \n",
       "2                0.0                12126.704              39173029   \n",
       "3                0.0                12838.885              52503909   \n",
       "4                0.0                11951.858              70946530   \n",
       "\n",
       "   Population   latitude  longitude  \n",
       "0    43984569  28.033886   1.659626  \n",
       "1    43984569  28.033886   1.659626  \n",
       "2    43984569  28.033886   1.659626  \n",
       "3    43984569  28.033886   1.659626  \n",
       "4    43984569  28.033886   1.659626  "
      ]
     },
     "execution_count": 45,
     "metadata": {},
     "output_type": "execute_result"
    }
   ],
   "source": [
    "#https://towardsdatascience.com/an-interactive-co2-emissions-dashboard-with-plotly-and-streamlit-b0bd4ae80cc8\n",
    "data14567.head()"
   ]
  },
  {
   "cell_type": "code",
   "execution_count": null,
   "id": "a4a73167",
   "metadata": {},
   "outputs": [],
   "source": []
  },
  {
   "cell_type": "code",
   "execution_count": null,
   "id": "29b4f227",
   "metadata": {},
   "outputs": [],
   "source": []
  },
  {
   "cell_type": "code",
   "execution_count": null,
   "id": "fa2f246c",
   "metadata": {},
   "outputs": [],
   "source": []
  },
  {
   "cell_type": "code",
   "execution_count": null,
   "id": "a35c0a77",
   "metadata": {},
   "outputs": [],
   "source": []
  },
  {
   "cell_type": "code",
   "execution_count": null,
   "id": "2ea1e955",
   "metadata": {},
   "outputs": [],
   "source": []
  },
  {
   "cell_type": "code",
   "execution_count": null,
   "id": "f3e7aa00",
   "metadata": {},
   "outputs": [],
   "source": []
  },
  {
   "cell_type": "markdown",
   "id": "caefa2d3",
   "metadata": {},
   "source": [
    "# 3) Data Analysis\n",
    "\n",
    "The goal of this analysis is to deep dive into the environmental problems with a different point of view.\n",
    "We often hear about reducing emissions, but what about proposing a specific ratio of energy type?\n",
    "The key point will consist of using the first [greenest country](https://sustainabilitymag.com/top10/top-10-greenest-countries-2)'s energy types proportions. In fact, we will apply Sweden energy types proportions to the whole world and see if the levels of CO2 emissions, temperature anomalies and mortality could improve.\n",
    "\n",
    "The analysis will be divided in three parts:\n",
    "1) classification of country as green or not depending on the **CO2 emissions.**\n",
    "\n",
    "2) analysis of the current **CO2 emissions** and the hypothetical ones if the Sweden energy types proportions would be used by all the world\n",
    "\n",
    "3) analysis of the current **temperature anomalies** and the hypothetical ones if the Sweden energy types proportions would be used by all the world\n",
    "\n",
    "4) analysis of the current **mortality rate** and the hypothetica one if the Sweden energy types proportions would be used by all the world"
   ]
  },
  {
   "cell_type": "markdown",
   "id": "cfa02d40",
   "metadata": {},
   "source": [
    "## 1)  Classification: green or not green"
   ]
  },
  {
   "cell_type": "code",
   "execution_count": null,
   "id": "c53aef40",
   "metadata": {},
   "outputs": [],
   "source": [
    "import xgboost as xgb\n",
    "from sklearn.metrics import mean_squared_error\n",
    "import pandas as pd\n",
    "import numpy as np"
   ]
  },
  {
   "cell_type": "code",
   "execution_count": null,
   "id": "d18c13d8",
   "metadata": {},
   "outputs": [],
   "source": [
    "data_temp = datanew.copy()\n",
    "data_temp[\"Country\"] = data_class[\"Country\"]\n",
    "median = data_temp[\"Annual CO2 emissions\"].median()\n",
    "\n",
    "#let's create another column that determines if the country is green or not based on the median of emissions.\n",
    "data_temp[\"green\"] = (data_temp[\"Annual CO2 emissions\"] <= median).apply(lambda x: int(x))"
   ]
  },
  {
   "cell_type": "code",
   "execution_count": null,
   "id": "790643bd",
   "metadata": {},
   "outputs": [],
   "source": [
    "from sklearn.ensemble import RandomForestClassifier\n",
    "\n",
    "X = data_temp.drop([\"green\", \"Country\", \"Annual CO2 emissions\"], 1)\n",
    "y = data_temp[\"green\"]\n",
    "\n",
    "from sklearn.model_selection import train_test_split\n",
    "X_train, X_test, y_train, y_test = train_test_split(X, y, test_size=0.2, random_state=42)\n",
    "\n",
    "rf = RandomForestClassifier(n_estimators = 100, random_state = 42)\n",
    "rf.fit(X_train,y_train)\n",
    "\n",
    "y_hat=rf.predict(X_test)\n",
    "\n",
    "from sklearn.metrics import confusion_matrix\n",
    "cm= confusion_matrix(y_test, y_hat)\n",
    "\n"
   ]
  },
  {
   "cell_type": "code",
   "execution_count": null,
   "id": "9861f79b",
   "metadata": {},
   "outputs": [],
   "source": [
    "#let's plot the\n",
    "\n",
    "import seaborn as sns\n",
    "fig = sns.heatmap(cm, annot=True, fmt='g', cmap=\"BuPu\")"
   ]
  },
  {
   "cell_type": "code",
   "execution_count": null,
   "id": "8c1af764",
   "metadata": {},
   "outputs": [],
   "source": [
    "#plot the feature importance\n",
    "importances = rf.feature_importances_\n",
    "attributeNames = np.asarray(X.columns)\n",
    "sort = rf.feature_importances_.argsort()\n",
    "std = np.std([tree.feature_importances_ for tree in rf.estimators_], axis=0)[sort]\n",
    "importances = rf.feature_importances_[sort]\n",
    "#attributeNames = X_vis3.columns PRIMA DIFFERENZA, ATTENTO\n",
    "names = attributeNames[sort]\n",
    "\n",
    "\n",
    "import matplotlib.pyplot as plt\n",
    "\n",
    "fig, ax = plt.subplots(1)\n",
    "ax.barh(names, importances, color=\"black\")\n",
    "ax.set_title(\"Feature importances\")\n",
    "ax.set(xlabel=\"Value of feature\", ylabel=\"Feature Name\")\n",
    "ax.grid()"
   ]
  },
  {
   "cell_type": "markdown",
   "id": "e1501bc8",
   "metadata": {},
   "source": [
    "The model performes very well, it has a 100% accuracy. So based upon the amount of energy produced by category the model can determine with a high degree of accuracy if the country is green or not. <br>\n",
    "As we can see, the energy types that produce more emissions are the most influential in the model. This is as expected, as the degree of usage of nuclear for example wont influence the amount of emissions, since it has low emissions."
   ]
  },
  {
   "cell_type": "markdown",
   "id": "eea6bc02",
   "metadata": {},
   "source": [
    "### What if he used as input the percentage of energy? \n",
    "We have seen that the amount of green energy types used isn't influential in the model. But how about the percentage of energy type per total energy used?"
   ]
  },
  {
   "cell_type": "code",
   "execution_count": null,
   "id": "3402f901",
   "metadata": {},
   "outputs": [],
   "source": [
    "data_percentage = data_class.drop([\"Country\", \"Energy per capita (kWh)\", \"Population\",\"Year\"], 1)\n",
    "X = data_percentage.drop(\"Annual CO2 emissions\",1)\n",
    "y = data_temp[\"green\"]"
   ]
  },
  {
   "cell_type": "code",
   "execution_count": null,
   "id": "1f63df8d",
   "metadata": {},
   "outputs": [],
   "source": [
    "from sklearn.model_selection import train_test_split\n",
    "X_train, X_test, y_train, y_test = train_test_split(X, y, test_size=0.2, random_state=42)\n",
    "\n",
    "rf = RandomForestClassifier(n_estimators = 100, random_state = 42)\n",
    "rf.fit(X_train,y_train)\n",
    "\n",
    "y_hat=rf.predict(X_test)\n",
    "\n",
    "from sklearn.metrics import confusion_matrix\n",
    "cm= confusion_matrix(y_test, y_hat)"
   ]
  },
  {
   "cell_type": "code",
   "execution_count": null,
   "id": "83ea96fb",
   "metadata": {},
   "outputs": [],
   "source": [
    "importances = rf.feature_importances_\n",
    "attributeNames = np.asarray(X.columns)\n",
    "sort = rf.feature_importances_.argsort()\n",
    "std = np.std([tree.feature_importances_ for tree in rf.estimators_], axis=0)[sort]\n",
    "importances = rf.feature_importances_[sort][0:]\n",
    "#attributeNames = X_vis3.columns PRIMA DIFFERENZA, ATTENTO\n",
    "names = attributeNames[sort][0:]\n",
    "\n",
    "\n",
    "import matplotlib.pyplot as plt\n",
    "\n",
    "fig, ax = plt.subplots(1)\n",
    "ax.barh(names[:-2], importances[:-2], color=\"black\")\n",
    "ax.set_title(\"Feature importances\")\n",
    "ax.set(xlabel=\"Value of feature\", ylabel=\"Feature Name\")\n",
    "ax.grid()"
   ]
  },
  {
   "cell_type": "code",
   "execution_count": null,
   "id": "c622689e",
   "metadata": {},
   "outputs": [],
   "source": [
    "import seaborn as sns\n",
    "sns.heatmap(cm, annot=True, fmt='g', cmap=\"BuPu\")"
   ]
  },
  {
   "cell_type": "markdown",
   "id": "96278b07",
   "metadata": {},
   "source": [
    "This model is even more performative, and we have a total change in feature importance: we can see that nuclear and oil are the most influential. So probably a low usage of oil, and high of nuclear is conducive towards low emissions."
   ]
  },
  {
   "cell_type": "markdown",
   "id": "19ca8ea2",
   "metadata": {},
   "source": [
    "## 2) Current CO2 emissions and Hypothetical ones"
   ]
  },
  {
   "cell_type": "code",
   "execution_count": 269,
   "id": "9cf2d74f",
   "metadata": {},
   "outputs": [
    {
     "name": "stderr",
     "output_type": "stream",
     "text": [
      "/var/folders/vt/s658dnz54fbf1fgjx18nklh00000gn/T/ipykernel_26345/3997414703.py:1: FutureWarning: In a future version of pandas all arguments of DataFrame.drop except for the argument 'labels' will be keyword-only.\n",
      "  X = datanew.drop(\"Annual CO2 emissions\",1)\n"
     ]
    }
   ],
   "source": [
    "X = datanew.drop(\"Annual CO2 emissions\",1)\n",
    "y = datanew[\"Annual CO2 emissions\"]"
   ]
  },
  {
   "cell_type": "code",
   "execution_count": 270,
   "id": "985a73ef",
   "metadata": {},
   "outputs": [],
   "source": [
    "from sklearn.model_selection import train_test_split\n",
    "\n",
    "X_train, X_test, y_train, y_test = train_test_split(X, y, test_size=0.2, random_state=42)"
   ]
  },
  {
   "cell_type": "code",
   "execution_count": 271,
   "id": "ed95af83",
   "metadata": {},
   "outputs": [],
   "source": [
    "xg_reg = xgb.XGBRegressor()"
   ]
  },
  {
   "cell_type": "code",
   "execution_count": 272,
   "id": "22595b0c",
   "metadata": {},
   "outputs": [],
   "source": [
    "xg_reg.fit(X_train,y_train)\n",
    "\n",
    "preds = xg_reg.predict(X_test)"
   ]
  },
  {
   "cell_type": "code",
   "execution_count": 273,
   "id": "de1a2501",
   "metadata": {},
   "outputs": [
    {
     "name": "stdout",
     "output_type": "stream",
     "text": [
      "Normalized RMSE: 0.187712\n"
     ]
    }
   ],
   "source": [
    "rmse = np.sqrt(mean_squared_error(y_test, preds))\n",
    "norm_rmse = rmse/(max(y)-min(y))\n",
    "print(\"Normalized RMSE: %f\" % (norm_rmse))"
   ]
  },
  {
   "cell_type": "code",
   "execution_count": 274,
   "id": "d7b5d14a",
   "metadata": {},
   "outputs": [],
   "source": [
    "# Assuming the same proportions of Sweden\n",
    "datanew= data145[data145.Year == 2019]\n",
    "datanew1= pd.merge(datanew, data6, on=['Country'])"
   ]
  },
  {
   "cell_type": "code",
   "execution_count": 275,
   "id": "b41c0361",
   "metadata": {},
   "outputs": [
    {
     "data": {
      "text/html": [
       "<div>\n",
       "<style scoped>\n",
       "    .dataframe tbody tr th:only-of-type {\n",
       "        vertical-align: middle;\n",
       "    }\n",
       "\n",
       "    .dataframe tbody tr th {\n",
       "        vertical-align: top;\n",
       "    }\n",
       "\n",
       "    .dataframe thead th {\n",
       "        text-align: right;\n",
       "    }\n",
       "</style>\n",
       "<table border=\"1\" class=\"dataframe\">\n",
       "  <thead>\n",
       "    <tr style=\"text-align: right;\">\n",
       "      <th></th>\n",
       "      <th>Country</th>\n",
       "      <th>Year</th>\n",
       "      <th>Oil</th>\n",
       "      <th>Coal</th>\n",
       "      <th>Solar</th>\n",
       "      <th>Nuclear</th>\n",
       "      <th>Hydro</th>\n",
       "      <th>Wind</th>\n",
       "      <th>Gas</th>\n",
       "      <th>Others renewables</th>\n",
       "      <th>Energy per capita (kWh)</th>\n",
       "      <th>Annual CO2 emissions</th>\n",
       "      <th>Population</th>\n",
       "    </tr>\n",
       "  </thead>\n",
       "  <tbody>\n",
       "    <tr>\n",
       "      <th>64</th>\n",
       "      <td>Sweden</td>\n",
       "      <td>2019</td>\n",
       "      <td>25.648</td>\n",
       "      <td>3.779</td>\n",
       "      <td>0.233</td>\n",
       "      <td>26.651</td>\n",
       "      <td>26.135</td>\n",
       "      <td>7.907</td>\n",
       "      <td>1.685</td>\n",
       "      <td>5.218</td>\n",
       "      <td>62046.398</td>\n",
       "      <td>40936867</td>\n",
       "      <td>10110233</td>\n",
       "    </tr>\n",
       "  </tbody>\n",
       "</table>\n",
       "</div>"
      ],
      "text/plain": [
       "   Country  Year     Oil   Coal  Solar  Nuclear   Hydro   Wind    Gas  \\\n",
       "64  Sweden  2019  25.648  3.779  0.233   26.651  26.135  7.907  1.685   \n",
       "\n",
       "    Others renewables  Energy per capita (kWh)  Annual CO2 emissions  \\\n",
       "64              5.218                62046.398              40936867   \n",
       "\n",
       "    Population  \n",
       "64    10110233  "
      ]
     },
     "execution_count": 275,
     "metadata": {},
     "output_type": "execute_result"
    }
   ],
   "source": [
    "sweden = datanew1[datanew1.Country == \"Sweden\"]\n",
    "sweden"
   ]
  },
  {
   "cell_type": "code",
   "execution_count": 276,
   "id": "8cdf6ae0",
   "metadata": {},
   "outputs": [
    {
     "name": "stderr",
     "output_type": "stream",
     "text": [
      "/var/folders/vt/s658dnz54fbf1fgjx18nklh00000gn/T/ipykernel_26345/2145205358.py:3: SettingWithCopyWarning: \n",
      "A value is trying to be set on a copy of a slice from a DataFrame.\n",
      "Try using .loc[row_indexer,col_indexer] = value instead\n",
      "\n",
      "See the caveats in the documentation: https://pandas.pydata.org/pandas-docs/stable/user_guide/indexing.html#returning-a-view-versus-a-copy\n",
      "  world2[\"Population\"] = datanew1.Population.sum()#\n"
     ]
    }
   ],
   "source": [
    "# applying these proportions to the World \n",
    "datanew= data145[data145.Year == 2019]\n",
    "world2 = datanew[datanew.Country == \"World\"]#\n",
    "world2[\"Population\"] = datanew1.Population.sum()#"
   ]
  },
  {
   "cell_type": "code",
   "execution_count": 277,
   "id": "8007c329",
   "metadata": {},
   "outputs": [
    {
     "name": "stderr",
     "output_type": "stream",
     "text": [
      "/var/folders/vt/s658dnz54fbf1fgjx18nklh00000gn/T/ipykernel_26345/681799353.py:1: SettingWithCopyWarning: \n",
      "A value is trying to be set on a copy of a slice from a DataFrame.\n",
      "Try using .loc[row_indexer,col_indexer] = value instead\n",
      "\n",
      "See the caveats in the documentation: https://pandas.pydata.org/pandas-docs/stable/user_guide/indexing.html#returning-a-view-versus-a-copy\n",
      "  world2[\"Tot energy consumption teraWh\"] = world2[\"Population\"]*world2[\"Energy per capita (kWh)\"]/1000000000\n"
     ]
    }
   ],
   "source": [
    "world2[\"Tot energy consumption teraWh\"] = world2[\"Population\"]*world2[\"Energy per capita (kWh)\"]/1000000000"
   ]
  },
  {
   "cell_type": "code",
   "execution_count": 278,
   "id": "5e27cd35",
   "metadata": {},
   "outputs": [],
   "source": [
    "world_energy = world2.copy()"
   ]
  },
  {
   "cell_type": "code",
   "execution_count": 279,
   "id": "0cb046e8",
   "metadata": {},
   "outputs": [
    {
     "data": {
      "text/plain": [
       "array([33680.55263742])"
      ]
     },
     "execution_count": 279,
     "metadata": {},
     "output_type": "execute_result"
    }
   ],
   "source": [
    "world2[\"Tot energy consumption teraWh\"].to_numpy()*sweden[\"Oil\"].to_numpy()/100"
   ]
  },
  {
   "cell_type": "code",
   "execution_count": 280,
   "id": "e9890a9f",
   "metadata": {},
   "outputs": [
    {
     "data": {
      "text/plain": [
       "array([25.648])"
      ]
     },
     "execution_count": 280,
     "metadata": {},
     "output_type": "execute_result"
    }
   ],
   "source": [
    "sweden[\"Oil\"].to_numpy()"
   ]
  },
  {
   "cell_type": "code",
   "execution_count": 281,
   "id": "d7cdd4b3",
   "metadata": {},
   "outputs": [
    {
     "name": "stderr",
     "output_type": "stream",
     "text": [
      "/var/folders/vt/s658dnz54fbf1fgjx18nklh00000gn/T/ipykernel_26345/4131403660.py:1: SettingWithCopyWarning: \n",
      "A value is trying to be set on a copy of a slice from a DataFrame.\n",
      "Try using .loc[row_indexer,col_indexer] = value instead\n",
      "\n",
      "See the caveats in the documentation: https://pandas.pydata.org/pandas-docs/stable/user_guide/indexing.html#returning-a-view-versus-a-copy\n",
      "  world2[\"Oil\"] = world2[\"Tot energy consumption teraWh\"].to_numpy()*sweden[\"Oil\"].to_numpy()/100\n",
      "/var/folders/vt/s658dnz54fbf1fgjx18nklh00000gn/T/ipykernel_26345/4131403660.py:2: SettingWithCopyWarning: \n",
      "A value is trying to be set on a copy of a slice from a DataFrame.\n",
      "Try using .loc[row_indexer,col_indexer] = value instead\n",
      "\n",
      "See the caveats in the documentation: https://pandas.pydata.org/pandas-docs/stable/user_guide/indexing.html#returning-a-view-versus-a-copy\n",
      "  world2[\"Coal\"] = world2[\"Tot energy consumption teraWh\"].to_numpy()*sweden[\"Coal\"].to_numpy()/100\n",
      "/var/folders/vt/s658dnz54fbf1fgjx18nklh00000gn/T/ipykernel_26345/4131403660.py:3: SettingWithCopyWarning: \n",
      "A value is trying to be set on a copy of a slice from a DataFrame.\n",
      "Try using .loc[row_indexer,col_indexer] = value instead\n",
      "\n",
      "See the caveats in the documentation: https://pandas.pydata.org/pandas-docs/stable/user_guide/indexing.html#returning-a-view-versus-a-copy\n",
      "  world2[\"Solar\"] = world2[\"Tot energy consumption teraWh\"].to_numpy()*sweden[\"Solar\"].to_numpy()/100\n",
      "/var/folders/vt/s658dnz54fbf1fgjx18nklh00000gn/T/ipykernel_26345/4131403660.py:4: SettingWithCopyWarning: \n",
      "A value is trying to be set on a copy of a slice from a DataFrame.\n",
      "Try using .loc[row_indexer,col_indexer] = value instead\n",
      "\n",
      "See the caveats in the documentation: https://pandas.pydata.org/pandas-docs/stable/user_guide/indexing.html#returning-a-view-versus-a-copy\n",
      "  world2[\"Nuclear\"] = world2[\"Tot energy consumption teraWh\"].to_numpy()*sweden[\"Nuclear\"].to_numpy()/100\n",
      "/var/folders/vt/s658dnz54fbf1fgjx18nklh00000gn/T/ipykernel_26345/4131403660.py:5: SettingWithCopyWarning: \n",
      "A value is trying to be set on a copy of a slice from a DataFrame.\n",
      "Try using .loc[row_indexer,col_indexer] = value instead\n",
      "\n",
      "See the caveats in the documentation: https://pandas.pydata.org/pandas-docs/stable/user_guide/indexing.html#returning-a-view-versus-a-copy\n",
      "  world2[\"Hydro\"] = world2[\"Tot energy consumption teraWh\"].to_numpy()*sweden[\"Hydro\"].to_numpy()/100\n",
      "/var/folders/vt/s658dnz54fbf1fgjx18nklh00000gn/T/ipykernel_26345/4131403660.py:6: SettingWithCopyWarning: \n",
      "A value is trying to be set on a copy of a slice from a DataFrame.\n",
      "Try using .loc[row_indexer,col_indexer] = value instead\n",
      "\n",
      "See the caveats in the documentation: https://pandas.pydata.org/pandas-docs/stable/user_guide/indexing.html#returning-a-view-versus-a-copy\n",
      "  world2[\"Wind\"] = world2[\"Tot energy consumption teraWh\"].to_numpy()*sweden[\"Wind\"].to_numpy()/100\n",
      "/var/folders/vt/s658dnz54fbf1fgjx18nklh00000gn/T/ipykernel_26345/4131403660.py:7: SettingWithCopyWarning: \n",
      "A value is trying to be set on a copy of a slice from a DataFrame.\n",
      "Try using .loc[row_indexer,col_indexer] = value instead\n",
      "\n",
      "See the caveats in the documentation: https://pandas.pydata.org/pandas-docs/stable/user_guide/indexing.html#returning-a-view-versus-a-copy\n",
      "  world2[\"Gas\"] = world2[\"Tot energy consumption teraWh\"].to_numpy()*sweden[\"Gas\"].to_numpy()/100\n",
      "/var/folders/vt/s658dnz54fbf1fgjx18nklh00000gn/T/ipykernel_26345/4131403660.py:8: SettingWithCopyWarning: \n",
      "A value is trying to be set on a copy of a slice from a DataFrame.\n",
      "Try using .loc[row_indexer,col_indexer] = value instead\n",
      "\n",
      "See the caveats in the documentation: https://pandas.pydata.org/pandas-docs/stable/user_guide/indexing.html#returning-a-view-versus-a-copy\n",
      "  world2[\"Others renewables\"] = world2[\"Tot energy consumption teraWh\"].to_numpy()*sweden[\"Others renewables\"].to_numpy()/100\n"
     ]
    }
   ],
   "source": [
    "world2[\"Oil\"] = world2[\"Tot energy consumption teraWh\"].to_numpy()*sweden[\"Oil\"].to_numpy()/100\n",
    "world2[\"Coal\"] = world2[\"Tot energy consumption teraWh\"].to_numpy()*sweden[\"Coal\"].to_numpy()/100\n",
    "world2[\"Solar\"] = world2[\"Tot energy consumption teraWh\"].to_numpy()*sweden[\"Solar\"].to_numpy()/100\n",
    "world2[\"Nuclear\"] = world2[\"Tot energy consumption teraWh\"].to_numpy()*sweden[\"Nuclear\"].to_numpy()/100\n",
    "world2[\"Hydro\"] = world2[\"Tot energy consumption teraWh\"].to_numpy()*sweden[\"Hydro\"].to_numpy()/100\n",
    "world2[\"Wind\"] = world2[\"Tot energy consumption teraWh\"].to_numpy()*sweden[\"Wind\"].to_numpy()/100\n",
    "world2[\"Gas\"] = world2[\"Tot energy consumption teraWh\"].to_numpy()*sweden[\"Gas\"].to_numpy()/100\n",
    "world2[\"Others renewables\"] = world2[\"Tot energy consumption teraWh\"].to_numpy()*sweden[\"Others renewables\"].to_numpy()/100"
   ]
  },
  {
   "cell_type": "code",
   "execution_count": 282,
   "id": "498b6934",
   "metadata": {},
   "outputs": [],
   "source": [
    "world2\n",
    "world_energy_sweden = world2.copy()"
   ]
  },
  {
   "cell_type": "markdown",
   "id": "3e7c810c",
   "metadata": {},
   "source": [
    "Let's predict the emissions of the world based on the model:"
   ]
  },
  {
   "cell_type": "code",
   "execution_count": 283,
   "id": "8c4a0172",
   "metadata": {},
   "outputs": [
    {
     "name": "stderr",
     "output_type": "stream",
     "text": [
      "/var/folders/vt/s658dnz54fbf1fgjx18nklh00000gn/T/ipykernel_26345/1162963484.py:1: FutureWarning: In a future version of pandas all arguments of DataFrame.drop except for the argument 'labels' will be keyword-only.\n",
      "  X = world2.drop([\"Country\", \"Energy per capita (kWh)\",\"Annual CO2 emissions\",\"Population\", \"Tot energy consumption teraWh\",\"Year\"], 1)\n"
     ]
    },
    {
     "data": {
      "text/html": [
       "<div>\n",
       "<style scoped>\n",
       "    .dataframe tbody tr th:only-of-type {\n",
       "        vertical-align: middle;\n",
       "    }\n",
       "\n",
       "    .dataframe tbody tr th {\n",
       "        vertical-align: top;\n",
       "    }\n",
       "\n",
       "    .dataframe thead th {\n",
       "        text-align: right;\n",
       "    }\n",
       "</style>\n",
       "<table border=\"1\" class=\"dataframe\">\n",
       "  <thead>\n",
       "    <tr style=\"text-align: right;\">\n",
       "      <th></th>\n",
       "      <th>Oil</th>\n",
       "      <th>Coal</th>\n",
       "      <th>Solar</th>\n",
       "      <th>Nuclear</th>\n",
       "      <th>Hydro</th>\n",
       "      <th>Wind</th>\n",
       "      <th>Gas</th>\n",
       "      <th>Others renewables</th>\n",
       "    </tr>\n",
       "  </thead>\n",
       "  <tbody>\n",
       "    <tr>\n",
       "      <th>3199</th>\n",
       "      <td>33680.552637</td>\n",
       "      <td>4962.523722</td>\n",
       "      <td>305.971957</td>\n",
       "      <td>34997.676557</td>\n",
       "      <td>34320.073424</td>\n",
       "      <td>10383.348788</td>\n",
       "      <td>2212.715658</td>\n",
       "      <td>6852.196026</td>\n",
       "    </tr>\n",
       "  </tbody>\n",
       "</table>\n",
       "</div>"
      ],
      "text/plain": [
       "               Oil         Coal       Solar       Nuclear         Hydro  \\\n",
       "3199  33680.552637  4962.523722  305.971957  34997.676557  34320.073424   \n",
       "\n",
       "              Wind          Gas  Others renewables  \n",
       "3199  10383.348788  2212.715658        6852.196026  "
      ]
     },
     "execution_count": 283,
     "metadata": {},
     "output_type": "execute_result"
    }
   ],
   "source": [
    "X = world2.drop([\"Country\", \"Energy per capita (kWh)\",\"Annual CO2 emissions\",\"Population\", \"Tot energy consumption teraWh\",\"Year\"], 1)\n",
    "old_world_emissions = world2[\"Annual CO2 emissions\"]\n",
    "X"
   ]
  },
  {
   "cell_type": "code",
   "execution_count": 284,
   "id": "039fea70",
   "metadata": {},
   "outputs": [],
   "source": [
    "new_emissions = xg_reg.predict(X)"
   ]
  },
  {
   "cell_type": "code",
   "execution_count": null,
   "id": "5a014f91",
   "metadata": {},
   "outputs": [],
   "source": [
    "xg_reg.get_booster().get_score()"
   ]
  },
  {
   "cell_type": "code",
   "execution_count": 285,
   "id": "9c9d24b9",
   "metadata": {},
   "outputs": [
    {
     "data": {
      "text/plain": [
       "2625969408.0"
      ]
     },
     "execution_count": 285,
     "metadata": {},
     "output_type": "execute_result"
    }
   ],
   "source": [
    "float(new_emissions)"
   ]
  },
  {
   "cell_type": "code",
   "execution_count": 319,
   "id": "199d9321",
   "metadata": {},
   "outputs": [
    {
     "data": {
      "image/png": "[encoded data removed]",
      "text/plain": [
       "<Figure size 432x288 with 1 Axes>"
      ]
     },
     "metadata": {
      "needs_background": "light"
     },
     "output_type": "display_data"
    }
   ],
   "source": [
    "# bar plot of the Current and hypothetical emissions\n",
    "fig = plt.figure()\n",
    "plt.bar([\"Current\", \"Hypothetical\"],[float(old_world_emissions), float(new_emissions)], color= 'black')\n",
    "plt.title(\"Current and Hypothetical emissions\")\n",
    "plt.rc('axes', titlesize=20)\n",
    "#plt.xlabel(\"Energy type\", fontsize= 20)\n",
    "#plt.ylabel(\"Average\", fontsize= 20)\n",
    "plt.show()\n",
    "#fig.savefig(\"Current and hypothetical emissions.jpg\")"
   ]
  },
  {
   "cell_type": "markdown",
   "id": "5f82b5f5",
   "metadata": {},
   "source": [
    "By this [article](https://earth.stanford.edu/news/roadmap-reducing-greenhouse-gas-emissions-50-percent-2030#gs.z0dz1y) we would almost reach the target we aim reaching in 2050. We would successfully stop global warming. "
   ]
  },
  {
   "cell_type": "markdown",
   "id": "7356848b",
   "metadata": {},
   "source": [
    "---\n",
    "## 3) Create a model that has in input the emissions and in output the temperature anomalies"
   ]
  },
  {
   "cell_type": "code",
   "execution_count": 298,
   "id": "838b4f11",
   "metadata": {},
   "outputs": [
    {
     "data": {
      "text/html": [
       "<div>\n",
       "<style scoped>\n",
       "    .dataframe tbody tr th:only-of-type {\n",
       "        vertical-align: middle;\n",
       "    }\n",
       "\n",
       "    .dataframe tbody tr th {\n",
       "        vertical-align: top;\n",
       "    }\n",
       "\n",
       "    .dataframe thead th {\n",
       "        text-align: right;\n",
       "    }\n",
       "</style>\n",
       "<table border=\"1\" class=\"dataframe\">\n",
       "  <thead>\n",
       "    <tr style=\"text-align: right;\">\n",
       "      <th></th>\n",
       "      <th>Temperature Anomalies</th>\n",
       "    </tr>\n",
       "    <tr>\n",
       "      <th>Year</th>\n",
       "      <th></th>\n",
       "    </tr>\n",
       "  </thead>\n",
       "  <tbody>\n",
       "    <tr>\n",
       "      <th>Y1980</th>\n",
       "      <td>0.280083</td>\n",
       "    </tr>\n",
       "    <tr>\n",
       "      <th>Y1981</th>\n",
       "      <td>0.479500</td>\n",
       "    </tr>\n",
       "    <tr>\n",
       "      <th>Y1982</th>\n",
       "      <td>0.041083</td>\n",
       "    </tr>\n",
       "    <tr>\n",
       "      <th>Y1983</th>\n",
       "      <td>0.421000</td>\n",
       "    </tr>\n",
       "    <tr>\n",
       "      <th>Y1984</th>\n",
       "      <td>0.050333</td>\n",
       "    </tr>\n",
       "  </tbody>\n",
       "</table>\n",
       "</div>"
      ],
      "text/plain": [
       "       Temperature Anomalies\n",
       "Year                        \n",
       "Y1980               0.280083\n",
       "Y1981               0.479500\n",
       "Y1982               0.041083\n",
       "Y1983               0.421000\n",
       "Y1984               0.050333"
      ]
     },
     "execution_count": 298,
     "metadata": {},
     "output_type": "execute_result"
    }
   ],
   "source": [
    "world.head()"
   ]
  },
  {
   "cell_type": "code",
   "execution_count": 288,
   "id": "5b8ca650",
   "metadata": {},
   "outputs": [
    {
     "data": {
      "text/html": [
       "<div>\n",
       "<style scoped>\n",
       "    .dataframe tbody tr th:only-of-type {\n",
       "        vertical-align: middle;\n",
       "    }\n",
       "\n",
       "    .dataframe tbody tr th {\n",
       "        vertical-align: top;\n",
       "    }\n",
       "\n",
       "    .dataframe thead th {\n",
       "        text-align: right;\n",
       "    }\n",
       "</style>\n",
       "<table border=\"1\" class=\"dataframe\">\n",
       "  <thead>\n",
       "    <tr style=\"text-align: right;\">\n",
       "      <th></th>\n",
       "      <th>Country</th>\n",
       "      <th>Year</th>\n",
       "      <th>Annual CO2 emissions</th>\n",
       "    </tr>\n",
       "  </thead>\n",
       "  <tbody>\n",
       "    <tr>\n",
       "      <th>23648</th>\n",
       "      <td>World</td>\n",
       "      <td>1980</td>\n",
       "      <td>19492613515</td>\n",
       "    </tr>\n",
       "    <tr>\n",
       "      <th>23649</th>\n",
       "      <td>World</td>\n",
       "      <td>1981</td>\n",
       "      <td>19026910179</td>\n",
       "    </tr>\n",
       "    <tr>\n",
       "      <th>23650</th>\n",
       "      <td>World</td>\n",
       "      <td>1982</td>\n",
       "      <td>18875760275</td>\n",
       "    </tr>\n",
       "    <tr>\n",
       "      <th>23651</th>\n",
       "      <td>World</td>\n",
       "      <td>1983</td>\n",
       "      <td>18998031557</td>\n",
       "    </tr>\n",
       "    <tr>\n",
       "      <th>23652</th>\n",
       "      <td>World</td>\n",
       "      <td>1984</td>\n",
       "      <td>19656716874</td>\n",
       "    </tr>\n",
       "  </tbody>\n",
       "</table>\n",
       "</div>"
      ],
      "text/plain": [
       "      Country  Year  Annual CO2 emissions\n",
       "23648   World  1980           19492613515\n",
       "23649   World  1981           19026910179\n",
       "23650   World  1982           18875760275\n",
       "23651   World  1983           18998031557\n",
       "23652   World  1984           19656716874"
      ]
     },
     "execution_count": 288,
     "metadata": {},
     "output_type": "execute_result"
    }
   ],
   "source": [
    "world_emissions = data5[data5.Country == \"World\"]\n",
    "world_emissions.head()"
   ]
  },
  {
   "cell_type": "code",
   "execution_count": 289,
   "id": "098ba3a4",
   "metadata": {},
   "outputs": [],
   "source": [
    "X = world_emissions[\"Annual CO2 emissions\"].to_numpy().reshape(-1,1)\n",
    "y = world.to_numpy().reshape(-1,1)"
   ]
  },
  {
   "cell_type": "code",
   "execution_count": 292,
   "id": "182beb4d",
   "metadata": {},
   "outputs": [],
   "source": [
    "from sklearn.model_selection import train_test_split\n",
    "\n",
    "X_train, X_test, y_train, y_test = train_test_split(X, y, test_size=0.2, random_state=42)"
   ]
  },
  {
   "cell_type": "code",
   "execution_count": 293,
   "id": "5f0e5c92",
   "metadata": {},
   "outputs": [],
   "source": [
    "xg_reg = xgb.XGBRegressor()"
   ]
  },
  {
   "cell_type": "code",
   "execution_count": 294,
   "id": "76dbcbbe",
   "metadata": {},
   "outputs": [],
   "source": [
    "xg_reg.fit(X_train,y_train)\n",
    "\n",
    "preds = xg_reg.predict(X_test)"
   ]
  },
  {
   "cell_type": "code",
   "execution_count": 295,
   "id": "20f05abd",
   "metadata": {},
   "outputs": [
    {
     "name": "stdout",
     "output_type": "stream",
     "text": [
      "Normalized RMSE: 0.211029\n"
     ]
    }
   ],
   "source": [
    "rmse = np.sqrt(mean_squared_error(y_test, preds))\n",
    "norm_rmse = rmse/(max(y)-min(y))\n",
    "print(\"Normalized RMSE: %f\" % (norm_rmse))"
   ]
  },
  {
   "cell_type": "code",
   "execution_count": 296,
   "id": "d463d167",
   "metadata": {},
   "outputs": [],
   "source": [
    "# Let's see the level of anomaly with the emissions associated with sweden's proportions\n",
    "new_anomaly = xg_reg.predict(new_emissions)\n",
    "old_anomaly = y[-1]"
   ]
  },
  {
   "cell_type": "code",
   "execution_count": 320,
   "id": "fc4e069b",
   "metadata": {},
   "outputs": [
    {
     "data": {
      "image/png": "[encoded data removed]",
      "text/plain": [
       "<Figure size 432x288 with 1 Axes>"
      ]
     },
     "metadata": {
      "needs_background": "light"
     },
     "output_type": "display_data"
    }
   ],
   "source": [
    "# bar plot of the Current and hypothetical temperature anomalies\n",
    "fig = plt.figure()\n",
    "plt.bar([\"Current\", \"Hypothetical\"],[float(old_anomaly), float(new_anomaly)], color= 'black')\n",
    "plt.title(\"Current and hypothetical temperature anomalies\")\n",
    "plt.rc('axes', titlesize=20)\n",
    "#plt.xlabel(\"Energy type\", fontsize= 20)\n",
    "#plt.ylabel(\"Average\", fontsize= 20)\n",
    "plt.show()\n",
    "#fig.savefig(\"Current and hypothetical temperature anomalies.jpg\")"
   ]
  },
  {
   "cell_type": "markdown",
   "id": "e69c0438",
   "metadata": {},
   "source": [
    "---\n",
    "## 4) Let's confront the current mortality rate, with the sweden-proportion mortality "
   ]
  },
  {
   "cell_type": "code",
   "execution_count": 299,
   "id": "760c261e",
   "metadata": {},
   "outputs": [
    {
     "data": {
      "text/html": [
       "<div>\n",
       "<style scoped>\n",
       "    .dataframe tbody tr th:only-of-type {\n",
       "        vertical-align: middle;\n",
       "    }\n",
       "\n",
       "    .dataframe tbody tr th {\n",
       "        vertical-align: top;\n",
       "    }\n",
       "\n",
       "    .dataframe thead th {\n",
       "        text-align: right;\n",
       "    }\n",
       "</style>\n",
       "<table border=\"1\" class=\"dataframe\">\n",
       "  <thead>\n",
       "    <tr style=\"text-align: right;\">\n",
       "      <th></th>\n",
       "      <th>Energy</th>\n",
       "      <th>mortality</th>\n",
       "    </tr>\n",
       "  </thead>\n",
       "  <tbody>\n",
       "    <tr>\n",
       "      <th>0</th>\n",
       "      <td>Coal</td>\n",
       "      <td>100000</td>\n",
       "    </tr>\n",
       "    <tr>\n",
       "      <th>1</th>\n",
       "      <td>Oil</td>\n",
       "      <td>36000</td>\n",
       "    </tr>\n",
       "    <tr>\n",
       "      <th>2</th>\n",
       "      <td>Natural gas</td>\n",
       "      <td>4000</td>\n",
       "    </tr>\n",
       "    <tr>\n",
       "      <th>3</th>\n",
       "      <td>Hydro</td>\n",
       "      <td>1400</td>\n",
       "    </tr>\n",
       "    <tr>\n",
       "      <th>4</th>\n",
       "      <td>Rooftop solar</td>\n",
       "      <td>440</td>\n",
       "    </tr>\n",
       "    <tr>\n",
       "      <th>5</th>\n",
       "      <td>Wind</td>\n",
       "      <td>150</td>\n",
       "    </tr>\n",
       "    <tr>\n",
       "      <th>6</th>\n",
       "      <td>Nuclear</td>\n",
       "      <td>90</td>\n",
       "    </tr>\n",
       "  </tbody>\n",
       "</table>\n",
       "</div>"
      ],
      "text/plain": [
       "          Energy  mortality\n",
       "0           Coal     100000\n",
       "1            Oil      36000\n",
       "2    Natural gas       4000\n",
       "3          Hydro       1400\n",
       "4  Rooftop solar        440\n",
       "5           Wind        150\n",
       "6        Nuclear         90"
      ]
     },
     "execution_count": 299,
     "metadata": {},
     "output_type": "execute_result"
    }
   ],
   "source": [
    "data3"
   ]
  },
  {
   "cell_type": "code",
   "execution_count": 300,
   "id": "870da94a",
   "metadata": {},
   "outputs": [
    {
     "data": {
      "text/html": [
       "<div>\n",
       "<style scoped>\n",
       "    .dataframe tbody tr th:only-of-type {\n",
       "        vertical-align: middle;\n",
       "    }\n",
       "\n",
       "    .dataframe tbody tr th {\n",
       "        vertical-align: top;\n",
       "    }\n",
       "\n",
       "    .dataframe thead th {\n",
       "        text-align: right;\n",
       "    }\n",
       "</style>\n",
       "<table border=\"1\" class=\"dataframe\">\n",
       "  <thead>\n",
       "    <tr style=\"text-align: right;\">\n",
       "      <th></th>\n",
       "      <th>Country</th>\n",
       "      <th>Year</th>\n",
       "      <th>Oil</th>\n",
       "      <th>Coal</th>\n",
       "      <th>Solar</th>\n",
       "      <th>Nuclear</th>\n",
       "      <th>Hydro</th>\n",
       "      <th>Wind</th>\n",
       "      <th>Gas</th>\n",
       "      <th>Others renewables</th>\n",
       "      <th>Energy per capita (kWh)</th>\n",
       "      <th>Annual CO2 emissions</th>\n",
       "      <th>Population</th>\n",
       "      <th>Tot energy consumption teraWh</th>\n",
       "    </tr>\n",
       "  </thead>\n",
       "  <tbody>\n",
       "    <tr>\n",
       "      <th>3199</th>\n",
       "      <td>World</td>\n",
       "      <td>2019</td>\n",
       "      <td>33.059</td>\n",
       "      <td>27.035</td>\n",
       "      <td>1.105</td>\n",
       "      <td>4.269</td>\n",
       "      <td>6.446</td>\n",
       "      <td>2.183</td>\n",
       "      <td>24.226</td>\n",
       "      <td>0.995</td>\n",
       "      <td>20941.391</td>\n",
       "      <td>36702502903</td>\n",
       "      <td>6270759983</td>\n",
       "      <td>131318.436671</td>\n",
       "    </tr>\n",
       "  </tbody>\n",
       "</table>\n",
       "</div>"
      ],
      "text/plain": [
       "     Country  Year     Oil    Coal  Solar  Nuclear  Hydro   Wind     Gas  \\\n",
       "3199   World  2019  33.059  27.035  1.105    4.269  6.446  2.183  24.226   \n",
       "\n",
       "      Others renewables  Energy per capita (kWh)  Annual CO2 emissions  \\\n",
       "3199              0.995                20941.391           36702502903   \n",
       "\n",
       "      Population  Tot energy consumption teraWh  \n",
       "3199  6270759983                  131318.436671  "
      ]
     },
     "execution_count": 300,
     "metadata": {},
     "output_type": "execute_result"
    }
   ],
   "source": [
    "world_energy"
   ]
  },
  {
   "cell_type": "code",
   "execution_count": 301,
   "id": "1e4a8f62",
   "metadata": {},
   "outputs": [
    {
     "data": {
      "text/html": [
       "<div>\n",
       "<style scoped>\n",
       "    .dataframe tbody tr th:only-of-type {\n",
       "        vertical-align: middle;\n",
       "    }\n",
       "\n",
       "    .dataframe tbody tr th {\n",
       "        vertical-align: top;\n",
       "    }\n",
       "\n",
       "    .dataframe thead th {\n",
       "        text-align: right;\n",
       "    }\n",
       "</style>\n",
       "<table border=\"1\" class=\"dataframe\">\n",
       "  <thead>\n",
       "    <tr style=\"text-align: right;\">\n",
       "      <th></th>\n",
       "      <th>Country</th>\n",
       "      <th>Year</th>\n",
       "      <th>Oil</th>\n",
       "      <th>Coal</th>\n",
       "      <th>Solar</th>\n",
       "      <th>Nuclear</th>\n",
       "      <th>Hydro</th>\n",
       "      <th>Wind</th>\n",
       "      <th>Gas</th>\n",
       "      <th>Others renewables</th>\n",
       "      <th>Energy per capita (kWh)</th>\n",
       "      <th>Annual CO2 emissions</th>\n",
       "      <th>Population</th>\n",
       "      <th>Tot energy consumption teraWh</th>\n",
       "    </tr>\n",
       "  </thead>\n",
       "  <tbody>\n",
       "    <tr>\n",
       "      <th>3199</th>\n",
       "      <td>World</td>\n",
       "      <td>2019</td>\n",
       "      <td>33680.552637</td>\n",
       "      <td>4962.523722</td>\n",
       "      <td>305.971957</td>\n",
       "      <td>34997.676557</td>\n",
       "      <td>34320.073424</td>\n",
       "      <td>10383.348788</td>\n",
       "      <td>2212.715658</td>\n",
       "      <td>6852.196026</td>\n",
       "      <td>20941.391</td>\n",
       "      <td>36702502903</td>\n",
       "      <td>6270759983</td>\n",
       "      <td>131318.436671</td>\n",
       "    </tr>\n",
       "  </tbody>\n",
       "</table>\n",
       "</div>"
      ],
      "text/plain": [
       "     Country  Year           Oil         Coal       Solar       Nuclear  \\\n",
       "3199   World  2019  33680.552637  4962.523722  305.971957  34997.676557   \n",
       "\n",
       "             Hydro          Wind          Gas  Others renewables  \\\n",
       "3199  34320.073424  10383.348788  2212.715658        6852.196026   \n",
       "\n",
       "      Energy per capita (kWh)  Annual CO2 emissions  Population  \\\n",
       "3199                20941.391           36702502903  6270759983   \n",
       "\n",
       "      Tot energy consumption teraWh  \n",
       "3199                  131318.436671  "
      ]
     },
     "execution_count": 301,
     "metadata": {},
     "output_type": "execute_result"
    }
   ],
   "source": [
    "world_energy_sweden"
   ]
  },
  {
   "cell_type": "code",
   "execution_count": 302,
   "id": "838620d9",
   "metadata": {},
   "outputs": [],
   "source": [
    "world_energy[\"Oil\"] = world_energy[\"Tot energy consumption teraWh\"].to_numpy()*world_energy[\"Oil\"].to_numpy()/100\n",
    "world_energy[\"Coal\"] = world_energy[\"Tot energy consumption teraWh\"].to_numpy()*world_energy[\"Coal\"].to_numpy()/100\n",
    "world_energy[\"Solar\"] = world_energy[\"Tot energy consumption teraWh\"].to_numpy()*world_energy[\"Solar\"].to_numpy()/100\n",
    "world_energy[\"Nuclear\"] = world_energy[\"Tot energy consumption teraWh\"].to_numpy()*world_energy[\"Nuclear\"].to_numpy()/100\n",
    "world_energy[\"Hydro\"] = world_energy[\"Tot energy consumption teraWh\"].to_numpy()*world_energy[\"Hydro\"].to_numpy()/100\n",
    "world_energy[\"Wind\"] = world_energy[\"Tot energy consumption teraWh\"].to_numpy()*world_energy[\"Wind\"].to_numpy()/100\n",
    "world_energy[\"Gas\"] = world_energy[\"Tot energy consumption teraWh\"].to_numpy()*world_energy[\"Gas\"].to_numpy()/100\n",
    "world_energy[\"Others renewables\"] = world_energy[\"Tot energy consumption teraWh\"].to_numpy()*world_energy[\"Others renewables\"].to_numpy()/100"
   ]
  },
  {
   "cell_type": "code",
   "execution_count": 303,
   "id": "b5f3beef",
   "metadata": {},
   "outputs": [
    {
     "name": "stderr",
     "output_type": "stream",
     "text": [
      "/var/folders/vt/s658dnz54fbf1fgjx18nklh00000gn/T/ipykernel_26345/1624011359.py:1: FutureWarning: In a future version of pandas all arguments of DataFrame.drop except for the argument 'labels' will be keyword-only.\n",
      "  world_energy = world_energy.drop([\"Country\", \"Year\", \"Energy per capita (kWh)\", \"Annual CO2 emissions\", \"Population\", \"Tot energy consumption teraWh\"], 1)\n",
      "/var/folders/vt/s658dnz54fbf1fgjx18nklh00000gn/T/ipykernel_26345/1624011359.py:2: FutureWarning: In a future version of pandas all arguments of DataFrame.drop except for the argument 'labels' will be keyword-only.\n",
      "  world_energy_sweden = world_energy_sweden.drop([\"Country\", \"Year\", \"Energy per capita (kWh)\", \"Annual CO2 emissions\", \"Population\", \"Tot energy consumption teraWh\"], 1)\n"
     ]
    }
   ],
   "source": [
    "world_energy = world_energy.drop([\"Country\", \"Year\", \"Energy per capita (kWh)\", \"Annual CO2 emissions\", \"Population\", \"Tot energy consumption teraWh\"], 1)\n",
    "world_energy_sweden = world_energy_sweden.drop([\"Country\", \"Year\", \"Energy per capita (kWh)\", \"Annual CO2 emissions\", \"Population\", \"Tot energy consumption teraWh\"], 1)"
   ]
  },
  {
   "cell_type": "code",
   "execution_count": 304,
   "id": "36096e8e",
   "metadata": {},
   "outputs": [
    {
     "data": {
      "text/html": [
       "<div>\n",
       "<style scoped>\n",
       "    .dataframe tbody tr th:only-of-type {\n",
       "        vertical-align: middle;\n",
       "    }\n",
       "\n",
       "    .dataframe tbody tr th {\n",
       "        vertical-align: top;\n",
       "    }\n",
       "\n",
       "    .dataframe thead th {\n",
       "        text-align: right;\n",
       "    }\n",
       "</style>\n",
       "<table border=\"1\" class=\"dataframe\">\n",
       "  <thead>\n",
       "    <tr style=\"text-align: right;\">\n",
       "      <th></th>\n",
       "      <th>Oil</th>\n",
       "      <th>Coal</th>\n",
       "      <th>Solar</th>\n",
       "      <th>Nuclear</th>\n",
       "      <th>Hydro</th>\n",
       "      <th>Wind</th>\n",
       "      <th>Gas</th>\n",
       "      <th>Others renewables</th>\n",
       "    </tr>\n",
       "  </thead>\n",
       "  <tbody>\n",
       "    <tr>\n",
       "      <th>3199</th>\n",
       "      <td>33.680553</td>\n",
       "      <td>4.962524</td>\n",
       "      <td>0.305972</td>\n",
       "      <td>34.997677</td>\n",
       "      <td>34.320073</td>\n",
       "      <td>10.383349</td>\n",
       "      <td>2.212716</td>\n",
       "      <td>6.852196</td>\n",
       "    </tr>\n",
       "  </tbody>\n",
       "</table>\n",
       "</div>"
      ],
      "text/plain": [
       "            Oil      Coal     Solar    Nuclear      Hydro       Wind  \\\n",
       "3199  33.680553  4.962524  0.305972  34.997677  34.320073  10.383349   \n",
       "\n",
       "           Gas  Others renewables  \n",
       "3199  2.212716           6.852196  "
      ]
     },
     "execution_count": 304,
     "metadata": {},
     "output_type": "execute_result"
    }
   ],
   "source": [
    "world_energy = world_energy / 1000\n",
    "world_energy_sweden = world_energy_sweden/1000\n",
    "world_energy_sweden "
   ]
  },
  {
   "cell_type": "code",
   "execution_count": 305,
   "id": "da2666a9",
   "metadata": {},
   "outputs": [],
   "source": [
    "mortality_sweden = pd.DataFrame(columns = [\"Oil\", \"Coal\", \"Gas\", \"Hydro\", \"Solar\", \"Wind\", \"Nuclear\"])"
   ]
  },
  {
   "cell_type": "code",
   "execution_count": 306,
   "id": "eccfc0ed",
   "metadata": {},
   "outputs": [],
   "source": [
    "mortality_sweden[\"Oil\"] = world_energy_sweden[\"Oil\"].to_numpy()*data3[\"mortality\"][data3.Energy == \"Oil\"].to_numpy()\n",
    "mortality_sweden[\"Coal\"] = world_energy_sweden[\"Coal\"].to_numpy()*data3[\"mortality\"][data3.Energy == \"Coal\"].to_numpy()\n",
    "mortality_sweden[\"Gas\"] = world_energy_sweden[\"Gas\"].to_numpy()*data3[\"mortality\"][data3.Energy == \"Natural gas\"].to_numpy()\n",
    "mortality_sweden[\"Hydro\"] = world_energy_sweden[\"Hydro\"].to_numpy()*data3[\"mortality\"][data3.Energy == \"Hydro\"].to_numpy()\n",
    "mortality_sweden[\"Solar\"] = world_energy_sweden[\"Solar\"].to_numpy()*data3[\"mortality\"][data3.Energy == \"Rooftop solar\"].to_numpy()\n",
    "mortality_sweden[\"Wind\"] = world_energy_sweden[\"Wind\"].to_numpy()*data3[\"mortality\"][data3.Energy == \"Wind\"].to_numpy()\n",
    "mortality_sweden[\"Nuclear\"] = world_energy_sweden[\"Nuclear\"].to_numpy()*data3[\"mortality\"][data3.Energy == \"Nuclear\"].to_numpy()"
   ]
  },
  {
   "cell_type": "code",
   "execution_count": 307,
   "id": "f4ef8e4b",
   "metadata": {},
   "outputs": [
    {
     "data": {
      "text/html": [
       "<div>\n",
       "<style scoped>\n",
       "    .dataframe tbody tr th:only-of-type {\n",
       "        vertical-align: middle;\n",
       "    }\n",
       "\n",
       "    .dataframe tbody tr th {\n",
       "        vertical-align: top;\n",
       "    }\n",
       "\n",
       "    .dataframe thead th {\n",
       "        text-align: right;\n",
       "    }\n",
       "</style>\n",
       "<table border=\"1\" class=\"dataframe\">\n",
       "  <thead>\n",
       "    <tr style=\"text-align: right;\">\n",
       "      <th></th>\n",
       "      <th>Oil</th>\n",
       "      <th>Coal</th>\n",
       "      <th>Gas</th>\n",
       "      <th>Hydro</th>\n",
       "      <th>Solar</th>\n",
       "      <th>Wind</th>\n",
       "      <th>Nuclear</th>\n",
       "    </tr>\n",
       "  </thead>\n",
       "  <tbody>\n",
       "    <tr>\n",
       "      <th>0</th>\n",
       "      <td>1.212500e+06</td>\n",
       "      <td>496252.37218</td>\n",
       "      <td>8850.862632</td>\n",
       "      <td>48048.102794</td>\n",
       "      <td>134.627661</td>\n",
       "      <td>1557.502318</td>\n",
       "      <td>3149.79089</td>\n",
       "    </tr>\n",
       "  </tbody>\n",
       "</table>\n",
       "</div>"
      ],
      "text/plain": [
       "            Oil          Coal          Gas         Hydro       Solar  \\\n",
       "0  1.212500e+06  496252.37218  8850.862632  48048.102794  134.627661   \n",
       "\n",
       "          Wind     Nuclear  \n",
       "0  1557.502318  3149.79089  "
      ]
     },
     "execution_count": 307,
     "metadata": {},
     "output_type": "execute_result"
    }
   ],
   "source": [
    "mortality_sweden"
   ]
  },
  {
   "cell_type": "code",
   "execution_count": 308,
   "id": "3a9478c4",
   "metadata": {},
   "outputs": [],
   "source": [
    "mortality_world = pd.DataFrame(columns = [\"Oil\", \"Coal\", \"Gas\", \"Hydro\", \"Solar\", \"Wind\", \"Nuclear\"])"
   ]
  },
  {
   "cell_type": "code",
   "execution_count": 309,
   "id": "f9934209",
   "metadata": {},
   "outputs": [],
   "source": [
    "mortality_world[\"Oil\"] = world_energy[\"Oil\"].to_numpy()*data3[\"mortality\"][data3.Energy == \"Oil\"].to_numpy()\n",
    "mortality_world[\"Coal\"] = world_energy[\"Coal\"].to_numpy()*data3[\"mortality\"][data3.Energy == \"Coal\"].to_numpy()\n",
    "mortality_world[\"Gas\"] = world_energy[\"Gas\"].to_numpy()*data3[\"mortality\"][data3.Energy == \"Natural gas\"].to_numpy()\n",
    "mortality_world[\"Hydro\"] = world_energy[\"Hydro\"].to_numpy()*data3[\"mortality\"][data3.Energy == \"Hydro\"].to_numpy()\n",
    "mortality_world[\"Solar\"] = world_energy[\"Solar\"].to_numpy()*data3[\"mortality\"][data3.Energy == \"Rooftop solar\"].to_numpy()\n",
    "mortality_world[\"Wind\"] = world_energy[\"Wind\"].to_numpy()*data3[\"mortality\"][data3.Energy == \"Wind\"].to_numpy()\n",
    "mortality_world[\"Nuclear\"] = world_energy[\"Nuclear\"].to_numpy()*data3[\"mortality\"][data3.Energy == \"Nuclear\"].to_numpy()"
   ]
  },
  {
   "cell_type": "code",
   "execution_count": 310,
   "id": "055bee93",
   "metadata": {},
   "outputs": [
    {
     "data": {
      "text/html": [
       "<div>\n",
       "<style scoped>\n",
       "    .dataframe tbody tr th:only-of-type {\n",
       "        vertical-align: middle;\n",
       "    }\n",
       "\n",
       "    .dataframe tbody tr th {\n",
       "        vertical-align: top;\n",
       "    }\n",
       "\n",
       "    .dataframe thead th {\n",
       "        text-align: right;\n",
       "    }\n",
       "</style>\n",
       "<table border=\"1\" class=\"dataframe\">\n",
       "  <thead>\n",
       "    <tr style=\"text-align: right;\">\n",
       "      <th></th>\n",
       "      <th>Oil</th>\n",
       "      <th>Coal</th>\n",
       "      <th>Gas</th>\n",
       "      <th>Hydro</th>\n",
       "      <th>Solar</th>\n",
       "      <th>Wind</th>\n",
       "      <th>Nuclear</th>\n",
       "    </tr>\n",
       "  </thead>\n",
       "  <tbody>\n",
       "    <tr>\n",
       "      <th>0</th>\n",
       "      <td>1.562852e+06</td>\n",
       "      <td>3.550194e+06</td>\n",
       "      <td>127252.817872</td>\n",
       "      <td>11850.700999</td>\n",
       "      <td>638.470239</td>\n",
       "      <td>430.002221</td>\n",
       "      <td>504.538566</td>\n",
       "    </tr>\n",
       "  </tbody>\n",
       "</table>\n",
       "</div>"
      ],
      "text/plain": [
       "            Oil          Coal            Gas         Hydro       Solar  \\\n",
       "0  1.562852e+06  3.550194e+06  127252.817872  11850.700999  638.470239   \n",
       "\n",
       "         Wind     Nuclear  \n",
       "0  430.002221  504.538566  "
      ]
     },
     "execution_count": 310,
     "metadata": {},
     "output_type": "execute_result"
    }
   ],
   "source": [
    "mortality_world"
   ]
  },
  {
   "cell_type": "code",
   "execution_count": 311,
   "id": "45d97162",
   "metadata": {},
   "outputs": [],
   "source": [
    "mortality_world_total = mortality_world.sum(axis=1).to_numpy()\n",
    "mortality_sweden_total = mortality_sweden.sum(axis=1).to_numpy()"
   ]
  },
  {
   "cell_type": "code",
   "execution_count": 321,
   "id": "d435f79b",
   "metadata": {},
   "outputs": [
    {
     "data": {
      "image/png": "[encoded data removed]",
      "text/plain": [
       "<Figure size 432x288 with 1 Axes>"
      ]
     },
     "metadata": {
      "needs_background": "light"
     },
     "output_type": "display_data"
    }
   ],
   "source": [
    "# bar plot of the Current and hypothetical mortality rate\n",
    "fig = plt.figure()\n",
    "plt.bar([\"Current\", \"Hypothetical\"],[float(mortality_world_total), float(mortality_sweden_total)], color= 'black')\n",
    "plt.title(\"Current and hypothetical mortality rate\")\n",
    "plt.rc('axes', titlesize=20)\n",
    "#plt.xlabel(\"Energy type\", fontsize= 20)\n",
    "#plt.ylabel(\"Average\", fontsize= 20)\n",
    "plt.show()\n",
    "#fig.savefig(\"Current and hypothetical mortality rate.jpg\")"
   ]
  },
  {
   "cell_type": "code",
   "execution_count": null,
   "id": "baefd771",
   "metadata": {},
   "outputs": [],
   "source": []
  },
  {
   "cell_type": "markdown",
   "id": "f6c130f3",
   "metadata": {},
   "source": [
    "# 4) Genre"
   ]
  },
  {
   "cell_type": "markdown",
   "id": "9cd73009",
   "metadata": {},
   "source": [
    "> * Which genre of data story did you use?\n",
    "\n",
    "The genre we chose is the slideshow genre, combined with the magazine one in order to have a nice balance between visualizations and text for explainations. Our aim is to communicate a simple, direct and impactful message so that people can see the optimal results we would have if the whole world used the proportions of different types of energy like Sweden does.\n",
    "\n",
    "http://vis.stanford.edu/files/2010-Narrative-InfoVis.pdf\n",
    "\n",
    "> * Which tools did you use from each of the 3 categories of Visual Narrative (Figure 7 in Segal and Heer). Why?\n",
    "\n",
    "\n",
    "\n",
    "\n",
    "> * Which tools did you use from each of the 3 categories of Narrative Structure (Figure 7 in Segal and Heer). Why?"
   ]
  },
  {
   "cell_type": "code",
   "execution_count": null,
   "id": "ede4ec97",
   "metadata": {},
   "outputs": [],
   "source": []
  },
  {
   "cell_type": "markdown",
   "id": "2edab393",
   "metadata": {},
   "source": [
    "# 5) Visualizations\n",
    "\n",
    "> * Explain the visualizations you've chosen.\n",
    "> * Why are they right for the story you want to tell?"
   ]
  },
  {
   "cell_type": "code",
   "execution_count": null,
   "id": "62d91723",
   "metadata": {},
   "outputs": [],
   "source": []
  },
  {
   "cell_type": "markdown",
   "id": "3fdd3aca",
   "metadata": {},
   "source": [
    "# 6) Discussion\n",
    "Think critically about your creation\n",
    "> * What went well?\n",
    "> * What is still missing? What could be improved? Why?"
   ]
  },
  {
   "cell_type": "markdown",
   "id": "c87febb6",
   "metadata": {},
   "source": [
    "# References "
   ]
  },
  {
   "cell_type": "code",
   "execution_count": null,
   "id": "d49e6f63",
   "metadata": {},
   "outputs": [],
   "source": []
  },
  {
   "cell_type": "markdown",
   "id": "546b3987",
   "metadata": {},
   "source": [
    "# Contributions"
   ]
  },
  {
   "cell_type": "code",
   "execution_count": null,
   "id": "506d14b8",
   "metadata": {},
   "outputs": [],
   "source": []
  }
 ],
 "metadata": {
  "kernelspec": {
   "display_name": "Python 3 (ipykernel)",
   "language": "python",
   "name": "python3"
  },
  "language_info": {
   "codemirror_mode": {
    "name": "ipython",
    "version": 3
   },
   "file_extension": ".py",
   "mimetype": "text/x-python",
   "name": "python",
   "nbconvert_exporter": "python",
   "pygments_lexer": "ipython3",
   "version": "3.8.2"
  }
 },
 "nbformat": 4,
 "nbformat_minor": 5
}
